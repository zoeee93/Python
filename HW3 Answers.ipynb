{
 "cells": [
  {
   "cell_type": "code",
   "execution_count": 1,
   "metadata": {},
   "outputs": [],
   "source": [
    "NAME = \"Xinwen Hu\"\n",
    "COLLABORATORS = [\"Mengyan Zhu\"]"
   ]
  },
  {
   "cell_type": "code",
   "execution_count": 2,
   "metadata": {},
   "outputs": [
    {
     "name": "stdout",
     "output_type": "stream",
     "text": [
      "\n",
      "\n",
      "# All requested packages already installed.\n",
      "# packages in environment at /opt/conda:\n",
      "#\n",
      "ipython_unittest          0.2.6                    py36_0    conda-forge\n"
     ]
    },
    {
     "name": "stderr",
     "output_type": "stream",
     "text": [
      "Warning: 'conda-forge' already in 'channels' list, moving to the top\n"
     ]
    }
   ],
   "source": [
    "%%bash \n",
    "conda config --add channels conda-forge\n",
    "conda install --quiet ipython_unittest"
   ]
  },
  {
   "cell_type": "code",
   "execution_count": 3,
   "metadata": {},
   "outputs": [],
   "source": [
    "%load_ext ipython_unittest"
   ]
  },
  {
   "cell_type": "code",
   "execution_count": 4,
   "metadata": {},
   "outputs": [
    {
     "name": "stdout",
     "output_type": "stream",
     "text": [
      "5.84333333333\n"
     ]
    }
   ],
   "source": [
    "#1 Using, the Iris dataset, find the mean of the sepalLength and assign it to the sepal_length_mean variable using the dataframe returned from the describe command.\n",
    "\n",
    "import pandas as pd\n",
    "dfcsv = pd.read_csv(\"https://raw.githubusercontent.com/jkuruzovich/techfundamentals-fall2017-materials/master/classes/input/iris.csv\")\n",
    "dfcsv\n",
    "dfstats = dfcsv.describe()\n",
    "dfstats\n",
    "sepal_Length_mean = dfstats.sepal_length['mean']\n",
    "print(sepal_Length_mean)"
   ]
  },
  {
   "cell_type": "code",
   "execution_count": 5,
   "metadata": {},
   "outputs": [
    {
     "data": {
      "application/javascript": [
       "$(':has(> #dojo-timer-time)').css(\"background-color\",\"yellow\");"
      ],
      "text/plain": [
       "<IPython.core.display.Javascript object>"
      ]
     },
     "metadata": {},
     "output_type": "display_data"
    },
    {
     "name": "stdout",
     "output_type": "stream",
     "text": [
      ".\n",
      "----------------------------------------------------------------------\n",
      "Ran 1 test in 0.001s\n",
      "\n",
      "OK\n"
     ]
    },
    {
     "data": {
      "application/javascript": [
       "$(':has(> #dojo-timer-time)').css(\"background-color\",\"lightgreen\");"
      ],
      "text/plain": [
       "<IPython.core.display.Javascript object>"
      ]
     },
     "metadata": {},
     "output_type": "display_data"
    },
    {
     "data": {
      "text/plain": [
       "<unittest.runner.TextTestResult run=1 errors=0 failures=0>"
      ]
     },
     "execution_count": 5,
     "metadata": {},
     "output_type": "execute_result"
    }
   ],
   "source": [
    "%%unittest_main\n",
    "class TestPandas(unittest.TestCase):\n",
    "    def test_pandas1(self):\n",
    "        self.assertAlmostEqual(sepal_Length_mean, 5.8433333333333337)"
   ]
  },
  {
   "cell_type": "code",
   "execution_count": 6,
   "metadata": {},
   "outputs": [
    {
     "name": "stdout",
     "output_type": "stream",
     "text": [
      "    sepal_length  sepal_width  petal_length  petal_width     species\n",
      "0            5.1          3.5           1.4          0.2      setosa\n",
      "1            4.9          3.0           1.4          0.2      setosa\n",
      "2            4.7          3.2           1.3          0.2      setosa\n",
      "3            4.6          3.1           1.5          0.2      setosa\n",
      "4            5.0          3.6           1.4          0.2      setosa\n",
      "5            5.4          3.9           1.7          0.4      setosa\n",
      "6            4.6          3.4           1.4          0.3      setosa\n",
      "7            5.0          3.4           1.5          0.2      setosa\n",
      "8            4.4          2.9           1.4          0.2      setosa\n",
      "9            4.9          3.1           1.5          0.1      setosa\n",
      "10           5.4          3.7           1.5          0.2      setosa\n",
      "11           4.8          3.4           1.6          0.2      setosa\n",
      "12           4.8          3.0           1.4          0.1      setosa\n",
      "13           4.3          3.0           1.1          0.1      setosa\n",
      "14           5.8          4.0           1.2          0.2      setosa\n",
      "15           5.7          4.4           1.5          0.4      setosa\n",
      "16           5.4          3.9           1.3          0.4      setosa\n",
      "17           5.1          3.5           1.4          0.3      setosa\n",
      "18           5.7          3.8           1.7          0.3      setosa\n",
      "19           5.1          3.8           1.5          0.3      setosa\n",
      "20           5.4          3.4           1.7          0.2      setosa\n",
      "21           5.1          3.7           1.5          0.4      setosa\n",
      "22           4.6          3.6           1.0          0.2      setosa\n",
      "23           5.1          3.3           1.7          0.5      setosa\n",
      "24           4.8          3.4           1.9          0.2      setosa\n",
      "25           5.0          3.0           1.6          0.2      setosa\n",
      "26           5.0          3.4           1.6          0.4      setosa\n",
      "27           5.2          3.5           1.5          0.2      setosa\n",
      "28           5.2          3.4           1.4          0.2      setosa\n",
      "29           4.7          3.2           1.6          0.2      setosa\n",
      "..           ...          ...           ...          ...         ...\n",
      "45           4.8          3.0           1.4          0.3      setosa\n",
      "46           5.1          3.8           1.6          0.2      setosa\n",
      "47           4.6          3.2           1.4          0.2      setosa\n",
      "48           5.3          3.7           1.5          0.2      setosa\n",
      "49           5.0          3.3           1.4          0.2      setosa\n",
      "50           7.0          3.2           4.7          1.4  versicolor\n",
      "51           6.4          3.2           4.5          1.5  versicolor\n",
      "52           6.9          3.1           4.9          1.5  versicolor\n",
      "53           5.5          2.3           4.0          1.3  versicolor\n",
      "54           6.5          2.8           4.6          1.5  versicolor\n",
      "55           5.7          2.8           4.5          1.3  versicolor\n",
      "56           6.3          3.3           4.7          1.6  versicolor\n",
      "57           4.9          2.4           3.3          1.0  versicolor\n",
      "58           6.6          2.9           4.6          1.3  versicolor\n",
      "59           5.2          2.7           3.9          1.4  versicolor\n",
      "60           5.0          2.0           3.5          1.0  versicolor\n",
      "61           5.9          3.0           4.2          1.5  versicolor\n",
      "62           6.0          2.2           4.0          1.0  versicolor\n",
      "63           6.1          2.9           4.7          1.4  versicolor\n",
      "64           5.6          2.9           3.6          1.3  versicolor\n",
      "65           6.7          3.1           4.4          1.4  versicolor\n",
      "66           5.6          3.0           4.5          1.5  versicolor\n",
      "67           5.8          2.7           4.1          1.0  versicolor\n",
      "68           6.2          2.2           4.5          1.5  versicolor\n",
      "69           5.6          2.5           3.9          1.1  versicolor\n",
      "70           5.9          3.2           4.8          1.8  versicolor\n",
      "71           6.1          2.8           4.0          1.3  versicolor\n",
      "72           6.3          2.5           4.9          1.5  versicolor\n",
      "73           6.1          2.8           4.7          1.2  versicolor\n",
      "74           6.4          2.9           4.3          1.3  versicolor\n",
      "\n",
      "[75 rows x 5 columns]\n"
     ]
    }
   ],
   "source": [
    "#2 Create a new dataframe iristrain that includes the first 75 rows of the iris dataframe.\n",
    "\n",
    "iristrain = dfcsv.iloc[0:75,:]\n",
    "\n",
    "print(iristrain)"
   ]
  },
  {
   "cell_type": "code",
   "execution_count": 7,
   "metadata": {},
   "outputs": [
    {
     "data": {
      "application/javascript": [
       "$(':has(> #dojo-timer-time)').css(\"background-color\",\"yellow\");"
      ],
      "text/plain": [
       "<IPython.core.display.Javascript object>"
      ]
     },
     "metadata": {},
     "output_type": "display_data"
    },
    {
     "name": "stdout",
     "output_type": "stream",
     "text": [
      ".\n",
      "----------------------------------------------------------------------\n",
      "Ran 1 test in 0.011s\n",
      "\n",
      "OK\n"
     ]
    },
    {
     "data": {
      "application/javascript": [
       "$(':has(> #dojo-timer-time)').css(\"background-color\",\"lightgreen\");"
      ],
      "text/plain": [
       "<IPython.core.display.Javascript object>"
      ]
     },
     "metadata": {},
     "output_type": "display_data"
    },
    {
     "data": {
      "text/plain": [
       "<unittest.runner.TextTestResult run=1 errors=0 failures=0>"
      ]
     },
     "execution_count": 7,
     "metadata": {},
     "output_type": "execute_result"
    }
   ],
   "source": [
    "%%unittest_main\n",
    "class TestPandas(unittest.TestCase):\n",
    "    def test_pandas2(self):\n",
    "        self.assertTrue(iristrain.describe().sepal_length['count'] == 75.0)"
   ]
  },
  {
   "cell_type": "code",
   "execution_count": 8,
   "metadata": {},
   "outputs": [
    {
     "name": "stdout",
     "output_type": "stream",
     "text": [
      "     sepal_length  sepal_width  petal_length  petal_width     species\n",
      "75            6.6          3.0           4.4          1.4  versicolor\n",
      "76            6.8          2.8           4.8          1.4  versicolor\n",
      "77            6.7          3.0           5.0          1.7  versicolor\n",
      "78            6.0          2.9           4.5          1.5  versicolor\n",
      "79            5.7          2.6           3.5          1.0  versicolor\n",
      "80            5.5          2.4           3.8          1.1  versicolor\n",
      "81            5.5          2.4           3.7          1.0  versicolor\n",
      "82            5.8          2.7           3.9          1.2  versicolor\n",
      "83            6.0          2.7           5.1          1.6  versicolor\n",
      "84            5.4          3.0           4.5          1.5  versicolor\n",
      "85            6.0          3.4           4.5          1.6  versicolor\n",
      "86            6.7          3.1           4.7          1.5  versicolor\n",
      "87            6.3          2.3           4.4          1.3  versicolor\n",
      "88            5.6          3.0           4.1          1.3  versicolor\n",
      "89            5.5          2.5           4.0          1.3  versicolor\n",
      "90            5.5          2.6           4.4          1.2  versicolor\n",
      "91            6.1          3.0           4.6          1.4  versicolor\n",
      "92            5.8          2.6           4.0          1.2  versicolor\n",
      "93            5.0          2.3           3.3          1.0  versicolor\n",
      "94            5.6          2.7           4.2          1.3  versicolor\n",
      "95            5.7          3.0           4.2          1.2  versicolor\n",
      "96            5.7          2.9           4.2          1.3  versicolor\n",
      "97            6.2          2.9           4.3          1.3  versicolor\n",
      "98            5.1          2.5           3.0          1.1  versicolor\n",
      "99            5.7          2.8           4.1          1.3  versicolor\n",
      "100           6.3          3.3           6.0          2.5   virginica\n",
      "101           5.8          2.7           5.1          1.9   virginica\n",
      "102           7.1          3.0           5.9          2.1   virginica\n",
      "103           6.3          2.9           5.6          1.8   virginica\n",
      "104           6.5          3.0           5.8          2.2   virginica\n",
      "..            ...          ...           ...          ...         ...\n",
      "120           6.9          3.2           5.7          2.3   virginica\n",
      "121           5.6          2.8           4.9          2.0   virginica\n",
      "122           7.7          2.8           6.7          2.0   virginica\n",
      "123           6.3          2.7           4.9          1.8   virginica\n",
      "124           6.7          3.3           5.7          2.1   virginica\n",
      "125           7.2          3.2           6.0          1.8   virginica\n",
      "126           6.2          2.8           4.8          1.8   virginica\n",
      "127           6.1          3.0           4.9          1.8   virginica\n",
      "128           6.4          2.8           5.6          2.1   virginica\n",
      "129           7.2          3.0           5.8          1.6   virginica\n",
      "130           7.4          2.8           6.1          1.9   virginica\n",
      "131           7.9          3.8           6.4          2.0   virginica\n",
      "132           6.4          2.8           5.6          2.2   virginica\n",
      "133           6.3          2.8           5.1          1.5   virginica\n",
      "134           6.1          2.6           5.6          1.4   virginica\n",
      "135           7.7          3.0           6.1          2.3   virginica\n",
      "136           6.3          3.4           5.6          2.4   virginica\n",
      "137           6.4          3.1           5.5          1.8   virginica\n",
      "138           6.0          3.0           4.8          1.8   virginica\n",
      "139           6.9          3.1           5.4          2.1   virginica\n",
      "140           6.7          3.1           5.6          2.4   virginica\n",
      "141           6.9          3.1           5.1          2.3   virginica\n",
      "142           5.8          2.7           5.1          1.9   virginica\n",
      "143           6.8          3.2           5.9          2.3   virginica\n",
      "144           6.7          3.3           5.7          2.5   virginica\n",
      "145           6.7          3.0           5.2          2.3   virginica\n",
      "146           6.3          2.5           5.0          1.9   virginica\n",
      "147           6.5          3.0           5.2          2.0   virginica\n",
      "148           6.2          3.4           5.4          2.3   virginica\n",
      "149           5.9          3.0           5.1          1.8   virginica\n",
      "\n",
      "[75 rows x 5 columns]\n"
     ]
    }
   ],
   "source": [
    "#3 Create a new dataframe iristest that includes the last 75 rows of the iris dataframe.\n",
    "\n",
    "iristest = dfcsv.tail(75)\n",
    "\n",
    "print(iristest)"
   ]
  },
  {
   "cell_type": "code",
   "execution_count": 9,
   "metadata": {},
   "outputs": [
    {
     "data": {
      "application/javascript": [
       "$(':has(> #dojo-timer-time)').css(\"background-color\",\"yellow\");"
      ],
      "text/plain": [
       "<IPython.core.display.Javascript object>"
      ]
     },
     "metadata": {},
     "output_type": "display_data"
    },
    {
     "name": "stdout",
     "output_type": "stream",
     "text": [
      ".\n",
      "----------------------------------------------------------------------\n",
      "Ran 1 test in 0.011s\n",
      "\n",
      "OK\n"
     ]
    },
    {
     "data": {
      "application/javascript": [
       "$(':has(> #dojo-timer-time)').css(\"background-color\",\"lightgreen\");"
      ],
      "text/plain": [
       "<IPython.core.display.Javascript object>"
      ]
     },
     "metadata": {},
     "output_type": "display_data"
    },
    {
     "data": {
      "text/plain": [
       "<unittest.runner.TextTestResult run=1 errors=0 failures=0>"
      ]
     },
     "execution_count": 9,
     "metadata": {},
     "output_type": "execute_result"
    }
   ],
   "source": [
    "%%unittest_main\n",
    "class TestPandas(unittest.TestCase):\n",
    "    def test_pandas3(self):\n",
    "        self.assertTrue(iristest.describe().sepal_length['count'] == 75.0)"
   ]
  },
  {
   "cell_type": "code",
   "execution_count": 10,
   "metadata": {},
   "outputs": [
    {
     "name": "stdout",
     "output_type": "stream",
     "text": [
      "0      5.1\n",
      "1      4.9\n",
      "2      4.7\n",
      "3      4.6\n",
      "4      5.0\n",
      "5      5.4\n",
      "6      4.6\n",
      "7      5.0\n",
      "8      4.4\n",
      "9      4.9\n",
      "10     5.4\n",
      "11     4.8\n",
      "12     4.8\n",
      "13     4.3\n",
      "14     5.8\n",
      "15     5.7\n",
      "16     5.4\n",
      "17     5.1\n",
      "18     5.7\n",
      "19     5.1\n",
      "20     5.4\n",
      "21     5.1\n",
      "22     4.6\n",
      "23     5.1\n",
      "24     4.8\n",
      "25     5.0\n",
      "26     5.0\n",
      "27     5.2\n",
      "28     5.2\n",
      "29     4.7\n",
      "      ... \n",
      "120    6.9\n",
      "121    5.6\n",
      "122    7.7\n",
      "123    6.3\n",
      "124    6.7\n",
      "125    7.2\n",
      "126    6.2\n",
      "127    6.1\n",
      "128    6.4\n",
      "129    7.2\n",
      "130    7.4\n",
      "131    7.9\n",
      "132    6.4\n",
      "133    6.3\n",
      "134    6.1\n",
      "135    7.7\n",
      "136    6.3\n",
      "137    6.4\n",
      "138    6.0\n",
      "139    6.9\n",
      "140    6.7\n",
      "141    6.9\n",
      "142    5.8\n",
      "143    6.8\n",
      "144    6.7\n",
      "145    6.7\n",
      "146    6.3\n",
      "147    6.5\n",
      "148    6.2\n",
      "149    5.9\n",
      "Name: sepal_length, dtype: float64\n"
     ]
    }
   ],
   "source": [
    "#4 Create a new series sepal_length from the sepal_length column of the iris dataframe.\n",
    "\n",
    "firstcolumn = dfcsv.iloc[:,0]\n",
    "sepalLength = pd.Series(firstcolumn)\n",
    "\n",
    "print (sepalLength)"
   ]
  },
  {
   "cell_type": "code",
   "execution_count": 11,
   "metadata": {},
   "outputs": [
    {
     "data": {
      "application/javascript": [
       "$(':has(> #dojo-timer-time)').css(\"background-color\",\"yellow\");"
      ],
      "text/plain": [
       "<IPython.core.display.Javascript object>"
      ]
     },
     "metadata": {},
     "output_type": "display_data"
    },
    {
     "name": "stdout",
     "output_type": "stream",
     "text": [
      "...\n",
      "----------------------------------------------------------------------\n",
      "Ran 3 tests in 0.021s\n",
      "\n",
      "OK\n"
     ]
    },
    {
     "data": {
      "application/javascript": [
       "$(':has(> #dojo-timer-time)').css(\"background-color\",\"lightgreen\");"
      ],
      "text/plain": [
       "<IPython.core.display.Javascript object>"
      ]
     },
     "metadata": {},
     "output_type": "display_data"
    },
    {
     "data": {
      "text/plain": [
       "<unittest.runner.TextTestResult run=3 errors=0 failures=0>"
      ]
     },
     "execution_count": 11,
     "metadata": {},
     "output_type": "execute_result"
    }
   ],
   "source": [
    "%%unittest_main\n",
    "class TestPandas(unittest.TestCase):\n",
    "    def test_pandas4(self):\n",
    "        self.assertAlmostEqual(iristrain.describe().sepal_length['std'], 0.63842994352770832)\n",
    "    def test_pandas5(self):\n",
    "        self.assertAlmostEqual(iristest.describe().sepal_length['std'], 0.67988340282833903)\n",
    "    def test_pandas6(self):\n",
    "        self.assertAlmostEqual(sepalLength[134], 6.0999999999999996)"
   ]
  },
  {
   "cell_type": "code",
   "execution_count": 12,
   "metadata": {},
   "outputs": [
    {
     "name": "stdout",
     "output_type": "stream",
     "text": [
      "['10003', '10017', '10024', '10031', '10038', '10052', '10059', '10066', '10073', '10087', '10094']\n"
     ]
    }
   ],
   "source": [
    "#5 Write a program which create a list div7not5 of all numbers which are divisible by 7 but are not a multiple of 5, between 10000 and 10100 (both included). Hint: 10 is divisible by five if 10%5==0.\n",
    "\n",
    "div7not5 = [str(i) for i in range(10000,10100) if i % 7 == 0 and i % 5 != 0]\n",
    "\n",
    "print (div7not5)\n"
   ]
  },
  {
   "cell_type": "code",
   "execution_count": 13,
   "metadata": {},
   "outputs": [
    {
     "data": {
      "application/javascript": [
       "$(':has(> #dojo-timer-time)').css(\"background-color\",\"yellow\");"
      ],
      "text/plain": [
       "<IPython.core.display.Javascript object>"
      ]
     },
     "metadata": {},
     "output_type": "display_data"
    },
    {
     "name": "stdout",
     "output_type": "stream",
     "text": [
      ".\n",
      "----------------------------------------------------------------------\n",
      "Ran 1 test in 0.001s\n",
      "\n",
      "OK\n"
     ]
    },
    {
     "data": {
      "application/javascript": [
       "$(':has(> #dojo-timer-time)').css(\"background-color\",\"lightgreen\");"
      ],
      "text/plain": [
       "<IPython.core.display.Javascript object>"
      ]
     },
     "metadata": {},
     "output_type": "display_data"
    },
    {
     "data": {
      "text/plain": [
       "<unittest.runner.TextTestResult run=1 errors=0 failures=0>"
      ]
     },
     "execution_count": 13,
     "metadata": {},
     "output_type": "execute_result"
    }
   ],
   "source": [
    "%%unittest_main\n",
    "class TestExercise3(unittest.TestCase):\n",
    "    def test_forif(self):\n",
    "        self.assertTrue(div7not5 == ['10003', '10017', '10024', '10031', '10038', '10052', '10059', '10066', '10073', '10087', '10094'])"
   ]
  },
  {
   "cell_type": "code",
   "execution_count": 14,
   "metadata": {},
   "outputs": [
    {
     "name": "stdout",
     "output_type": "stream",
     "text": [
      "[12, 34, 54, 34, 34, 54]\n"
     ]
    }
   ],
   "source": [
    "#6 Create a function divby2 that accepts a list and returns all values from that list that are divisible by 2. For example, passing the list  numbers = [3, 12, 91, 33, 21, 34, 54, 34, 34, 54] should return a list. Generate a new list divby2 that includes only numbers that are divisible by 2.\n",
    "\n",
    "def divby2 (listz):\n",
    "    return [i for i in listz if i % 2 == 0] \n",
    "\n",
    "numbers = [3, 12, 91, 33, 21, 34, 54, 34, 34, 54]\n",
    "divby2 = divby2(numbers)\n",
    "\n",
    "print (divby2)"
   ]
  },
  {
   "cell_type": "code",
   "execution_count": 15,
   "metadata": {},
   "outputs": [
    {
     "data": {
      "application/javascript": [
       "$(':has(> #dojo-timer-time)').css(\"background-color\",\"yellow\");"
      ],
      "text/plain": [
       "<IPython.core.display.Javascript object>"
      ]
     },
     "metadata": {},
     "output_type": "display_data"
    },
    {
     "name": "stdout",
     "output_type": "stream",
     "text": [
      ".\n",
      "----------------------------------------------------------------------\n",
      "Ran 1 test in 0.001s\n",
      "\n",
      "OK\n"
     ]
    },
    {
     "data": {
      "application/javascript": [
       "$(':has(> #dojo-timer-time)').css(\"background-color\",\"lightgreen\");"
      ],
      "text/plain": [
       "<IPython.core.display.Javascript object>"
      ]
     },
     "metadata": {},
     "output_type": "display_data"
    },
    {
     "data": {
      "text/plain": [
       "<unittest.runner.TextTestResult run=1 errors=0 failures=0>"
      ]
     },
     "execution_count": 15,
     "metadata": {},
     "output_type": "execute_result"
    }
   ],
   "source": [
    "%%unittest_main\n",
    "class TestExercise3(unittest.TestCase):\n",
    "    def test_functions(self):\n",
    "        self.assertTrue(divby2 == [12, 34, 54, 34, 34, 54])"
   ]
  },
  {
   "cell_type": "code",
   "execution_count": 16,
   "metadata": {},
   "outputs": [
    {
     "name": "stdout",
     "output_type": "stream",
     "text": [
      "[12, 34, 54, 34, 34, 54]\n"
     ]
    }
   ],
   "source": [
    "#7 Create an external module for your divby2 function called myutilities. Import myutilities as mu, such that that following runs.\n",
    "\n",
    "import myutilities as mu\n",
    "numbers = [3, 12, 91, 33, 21, 34, 54, 34, 34, 54]\n",
    "divby2mod=mu.divby2(numbers)\n",
    "print(divby2mod)"
   ]
  },
  {
   "cell_type": "code",
   "execution_count": 17,
   "metadata": {},
   "outputs": [
    {
     "data": {
      "application/javascript": [
       "$(':has(> #dojo-timer-time)').css(\"background-color\",\"yellow\");"
      ],
      "text/plain": [
       "<IPython.core.display.Javascript object>"
      ]
     },
     "metadata": {},
     "output_type": "display_data"
    },
    {
     "name": "stdout",
     "output_type": "stream",
     "text": [
      ".\n",
      "----------------------------------------------------------------------\n",
      "Ran 1 test in 0.001s\n",
      "\n",
      "OK\n"
     ]
    },
    {
     "data": {
      "application/javascript": [
       "$(':has(> #dojo-timer-time)').css(\"background-color\",\"lightgreen\");"
      ],
      "text/plain": [
       "<IPython.core.display.Javascript object>"
      ]
     },
     "metadata": {},
     "output_type": "display_data"
    },
    {
     "data": {
      "text/plain": [
       "<unittest.runner.TextTestResult run=1 errors=0 failures=0>"
      ]
     },
     "execution_count": 17,
     "metadata": {},
     "output_type": "execute_result"
    }
   ],
   "source": [
    "%%unittest_main\n",
    "class TestExercise3(unittest.TestCase):\n",
    "    def test_functions(self):\n",
    "        self.assertTrue(divby2mod == [12, 34, 54, 34, 34, 54])"
   ]
  },
  {
   "cell_type": "code",
   "execution_count": 18,
   "metadata": {},
   "outputs": [],
   "source": [
    "import numpy as np \n",
    "import pandas as pd \n",
    "\n",
    "# Input data files are available in the \"../input/\" directory.\n",
    "# Let's input them into a Pandas DataFrame\n",
    "train = pd.read_csv(\"../input/train.csv\")\n",
    "test  = pd.read_csv(\"../input/test.csv\")"
   ]
  },
  {
   "cell_type": "code",
   "execution_count": 19,
   "metadata": {},
   "outputs": [
    {
     "data": {
      "text/html": [
       "<div>\n",
       "<table border=\"1\" class=\"dataframe\">\n",
       "  <thead>\n",
       "    <tr style=\"text-align: right;\">\n",
       "      <th></th>\n",
       "      <th>PassengerId</th>\n",
       "      <th>Survived</th>\n",
       "      <th>Pclass</th>\n",
       "      <th>Name</th>\n",
       "      <th>Sex</th>\n",
       "      <th>Age</th>\n",
       "      <th>SibSp</th>\n",
       "      <th>Parch</th>\n",
       "      <th>Ticket</th>\n",
       "      <th>Fare</th>\n",
       "      <th>Cabin</th>\n",
       "      <th>Embarked</th>\n",
       "      <th>PredEveryoneDies</th>\n",
       "      <th>PredGender</th>\n",
       "    </tr>\n",
       "  </thead>\n",
       "  <tbody>\n",
       "    <tr>\n",
       "      <th>0</th>\n",
       "      <td>1</td>\n",
       "      <td>0</td>\n",
       "      <td>3</td>\n",
       "      <td>Braund, Mr. Owen Harris</td>\n",
       "      <td>male</td>\n",
       "      <td>22.0</td>\n",
       "      <td>1</td>\n",
       "      <td>0</td>\n",
       "      <td>A/5 21171</td>\n",
       "      <td>7.2500</td>\n",
       "      <td>NaN</td>\n",
       "      <td>S</td>\n",
       "      <td>0</td>\n",
       "      <td>0.0</td>\n",
       "    </tr>\n",
       "    <tr>\n",
       "      <th>1</th>\n",
       "      <td>2</td>\n",
       "      <td>1</td>\n",
       "      <td>1</td>\n",
       "      <td>Cumings, Mrs. John Bradley (Florence Briggs Th...</td>\n",
       "      <td>female</td>\n",
       "      <td>38.0</td>\n",
       "      <td>1</td>\n",
       "      <td>0</td>\n",
       "      <td>PC 17599</td>\n",
       "      <td>71.2833</td>\n",
       "      <td>C85</td>\n",
       "      <td>C</td>\n",
       "      <td>0</td>\n",
       "      <td>1.0</td>\n",
       "    </tr>\n",
       "    <tr>\n",
       "      <th>2</th>\n",
       "      <td>3</td>\n",
       "      <td>1</td>\n",
       "      <td>3</td>\n",
       "      <td>Heikkinen, Miss. Laina</td>\n",
       "      <td>female</td>\n",
       "      <td>26.0</td>\n",
       "      <td>0</td>\n",
       "      <td>0</td>\n",
       "      <td>STON/O2. 3101282</td>\n",
       "      <td>7.9250</td>\n",
       "      <td>NaN</td>\n",
       "      <td>S</td>\n",
       "      <td>0</td>\n",
       "      <td>1.0</td>\n",
       "    </tr>\n",
       "    <tr>\n",
       "      <th>3</th>\n",
       "      <td>4</td>\n",
       "      <td>1</td>\n",
       "      <td>1</td>\n",
       "      <td>Futrelle, Mrs. Jacques Heath (Lily May Peel)</td>\n",
       "      <td>female</td>\n",
       "      <td>35.0</td>\n",
       "      <td>1</td>\n",
       "      <td>0</td>\n",
       "      <td>113803</td>\n",
       "      <td>53.1000</td>\n",
       "      <td>C123</td>\n",
       "      <td>S</td>\n",
       "      <td>0</td>\n",
       "      <td>1.0</td>\n",
       "    </tr>\n",
       "    <tr>\n",
       "      <th>4</th>\n",
       "      <td>5</td>\n",
       "      <td>0</td>\n",
       "      <td>3</td>\n",
       "      <td>Allen, Mr. William Henry</td>\n",
       "      <td>male</td>\n",
       "      <td>35.0</td>\n",
       "      <td>0</td>\n",
       "      <td>0</td>\n",
       "      <td>373450</td>\n",
       "      <td>8.0500</td>\n",
       "      <td>NaN</td>\n",
       "      <td>S</td>\n",
       "      <td>0</td>\n",
       "      <td>0.0</td>\n",
       "    </tr>\n",
       "  </tbody>\n",
       "</table>\n",
       "</div>"
      ],
      "text/plain": [
       "   PassengerId  Survived  Pclass  \\\n",
       "0            1         0       3   \n",
       "1            2         1       1   \n",
       "2            3         1       3   \n",
       "3            4         1       1   \n",
       "4            5         0       3   \n",
       "\n",
       "                                                Name     Sex   Age  SibSp  \\\n",
       "0                            Braund, Mr. Owen Harris    male  22.0      1   \n",
       "1  Cumings, Mrs. John Bradley (Florence Briggs Th...  female  38.0      1   \n",
       "2                             Heikkinen, Miss. Laina  female  26.0      0   \n",
       "3       Futrelle, Mrs. Jacques Heath (Lily May Peel)  female  35.0      1   \n",
       "4                           Allen, Mr. William Henry    male  35.0      0   \n",
       "\n",
       "   Parch            Ticket     Fare Cabin Embarked  PredEveryoneDies  \\\n",
       "0      0         A/5 21171   7.2500   NaN        S                 0   \n",
       "1      0          PC 17599  71.2833   C85        C                 0   \n",
       "2      0  STON/O2. 3101282   7.9250   NaN        S                 0   \n",
       "3      0            113803  53.1000  C123        S                 0   \n",
       "4      0            373450   8.0500   NaN        S                 0   \n",
       "\n",
       "   PredGender  \n",
       "0         0.0  \n",
       "1         1.0  \n",
       "2         1.0  \n",
       "3         1.0  \n",
       "4         0.0  "
      ]
     },
     "execution_count": 19,
     "metadata": {},
     "output_type": "execute_result"
    }
   ],
   "source": [
    "#8 While we can submit our answer to Kaggle to see how it will perform, we can also utilize our test data to assess accuracy. \n",
    "#  Accuracy is the percentage of predictions made correctly-\n",
    "#  i.e., the percentage of people in which our prediction regarding their survival. \n",
    "#   a. Create columns in the training dataset PredEveryoneDies and PredGender with the same predictions which were included in the example notebook (06-intro-kaggle-baseline in the materials repository).\n",
    "train[\"PredEveryoneDies\"]=0\n",
    "train.loc[train['Sex'] == 'male', 'PredGender'] = 0\n",
    "train.loc[train['Sex'] == 'female', 'PredGender'] = 1\n",
    "train.head()\n"
   ]
  },
  {
   "cell_type": "code",
   "execution_count": 20,
   "metadata": {},
   "outputs": [
    {
     "name": "stdout",
     "output_type": "stream",
     "text": [
      "61.61616161616161\n"
     ]
    }
   ],
   "source": [
    "#   b. Create variables AccEveryoneDies and AccGender using a calculation of accuracy of predictions for the training dataset.\n",
    "\n",
    "list_compare = train['Survived'] == train['PredEveryoneDies']\n",
    "correct = 0\n",
    "\n",
    "for i in list_compare:\n",
    "    if i == True:\n",
    "       correct = correct + 1\n",
    "    else:\n",
    "       correct = correct + 0\n",
    "        \n",
    "AccEveryoneDies = int(correct)/len(list_compare)*100\n",
    "print(AccEveryoneDies)"
   ]
  },
  {
   "cell_type": "code",
   "execution_count": 21,
   "metadata": {},
   "outputs": [
    {
     "name": "stdout",
     "output_type": "stream",
     "text": [
      "78.67564534231201\n"
     ]
    }
   ],
   "source": [
    "list_compare2 = train['Survived'] == train['PredGender']\n",
    "correct2 = 0\n",
    "\n",
    "for j in list_compare2:\n",
    "    if j == True:\n",
    "       correct2 = correct2 + 1\n",
    "    else:\n",
    "       correct2 = correct2 + 0\n",
    "        \n",
    "AccGender = int(correct2)/len(list_compare2)*100\n",
    "print(AccGender)"
   ]
  },
  {
   "cell_type": "code",
   "execution_count": 22,
   "metadata": {},
   "outputs": [
    {
     "data": {
      "application/javascript": [
       "$(':has(> #dojo-timer-time)').css(\"background-color\",\"yellow\");"
      ],
      "text/plain": [
       "<IPython.core.display.Javascript object>"
      ]
     },
     "metadata": {},
     "output_type": "display_data"
    },
    {
     "name": "stdout",
     "output_type": "stream",
     "text": [
      "....\n",
      "----------------------------------------------------------------------\n",
      "Ran 4 tests in 0.004s\n",
      "\n",
      "OK\n"
     ]
    },
    {
     "data": {
      "application/javascript": [
       "$(':has(> #dojo-timer-time)').css(\"background-color\",\"lightgreen\");"
      ],
      "text/plain": [
       "<IPython.core.display.Javascript object>"
      ]
     },
     "metadata": {},
     "output_type": "display_data"
    },
    {
     "data": {
      "text/plain": [
       "<unittest.runner.TextTestResult run=4 errors=0 failures=0>"
      ]
     },
     "execution_count": 22,
     "metadata": {},
     "output_type": "execute_result"
    }
   ],
   "source": [
    "%%unittest_main\n",
    "class TestExercise3(unittest.TestCase):\n",
    "    def test_titanic1(self):\n",
    "        self.assertAlmostEqual(AccEveryoneDies, 61.6161616162)\n",
    "    def test_titanic2(self):\n",
    "        self.assertAlmostEqual(AccGender, 78.6756453423)\n",
    "    def test_titanic3(self):\n",
    "        self.assertAlmostEqual(train['PredEveryoneDies'].mean(), 0.0)\n",
    "    def test_titanic4(self):\n",
    "        self.assertAlmostEqual(train['PredGender'].mean(), 0.35241301908)"
   ]
  },
  {
   "cell_type": "code",
   "execution_count": 23,
   "metadata": {},
   "outputs": [],
   "source": [
    "#9 Notice how we are utilizing the code to select out the passengerID and the Survived column and generating a submission file over and over? \n",
    "# This is in need of a function. Create a generate_submission function that accepts a DataFrame, a target column, and a filename and \n",
    "# writes out the submission file with just the passengerID and the Survived columns, where the survived column is equal to the target column. \n",
    "# It should then return a DataFrame with the passengerID and the Survived columns.\n",
    "\n",
    "def generate_submission(dataframe,target,filename):\n",
    "    submission = train.loc[:,['PassengerId', target]]\n",
    "    submission.columns = ['PassengerId', 'Survived']\n",
    "    submission.to_csv(filename, index=False)\n",
    "    return submission\n",
    "\n",
    "submitdie = generate_submission(train, 'PredEveryoneDies', 'submiteveryonedies.csv')\n"
   ]
  },
  {
   "cell_type": "code",
   "execution_count": 24,
   "metadata": {},
   "outputs": [
    {
     "data": {
      "text/html": [
       "<div>\n",
       "<table border=\"1\" class=\"dataframe\">\n",
       "  <thead>\n",
       "    <tr style=\"text-align: right;\">\n",
       "      <th></th>\n",
       "      <th>PassengerId</th>\n",
       "      <th>Survived</th>\n",
       "      <th>Pclass</th>\n",
       "      <th>Name</th>\n",
       "      <th>Sex</th>\n",
       "      <th>Age</th>\n",
       "      <th>SibSp</th>\n",
       "      <th>Parch</th>\n",
       "      <th>Ticket</th>\n",
       "      <th>Fare</th>\n",
       "      <th>Cabin</th>\n",
       "      <th>Embarked</th>\n",
       "      <th>PredEveryoneDies</th>\n",
       "      <th>PredGender</th>\n",
       "      <th>PredGenderAge13</th>\n",
       "    </tr>\n",
       "  </thead>\n",
       "  <tbody>\n",
       "    <tr>\n",
       "      <th>0</th>\n",
       "      <td>1</td>\n",
       "      <td>0</td>\n",
       "      <td>3</td>\n",
       "      <td>Braund, Mr. Owen Harris</td>\n",
       "      <td>male</td>\n",
       "      <td>22.0</td>\n",
       "      <td>1</td>\n",
       "      <td>0</td>\n",
       "      <td>A/5 21171</td>\n",
       "      <td>7.2500</td>\n",
       "      <td>NaN</td>\n",
       "      <td>S</td>\n",
       "      <td>0</td>\n",
       "      <td>0.0</td>\n",
       "      <td>0</td>\n",
       "    </tr>\n",
       "    <tr>\n",
       "      <th>1</th>\n",
       "      <td>2</td>\n",
       "      <td>1</td>\n",
       "      <td>1</td>\n",
       "      <td>Cumings, Mrs. John Bradley (Florence Briggs Th...</td>\n",
       "      <td>female</td>\n",
       "      <td>38.0</td>\n",
       "      <td>1</td>\n",
       "      <td>0</td>\n",
       "      <td>PC 17599</td>\n",
       "      <td>71.2833</td>\n",
       "      <td>C85</td>\n",
       "      <td>C</td>\n",
       "      <td>0</td>\n",
       "      <td>1.0</td>\n",
       "      <td>1</td>\n",
       "    </tr>\n",
       "    <tr>\n",
       "      <th>2</th>\n",
       "      <td>3</td>\n",
       "      <td>1</td>\n",
       "      <td>3</td>\n",
       "      <td>Heikkinen, Miss. Laina</td>\n",
       "      <td>female</td>\n",
       "      <td>26.0</td>\n",
       "      <td>0</td>\n",
       "      <td>0</td>\n",
       "      <td>STON/O2. 3101282</td>\n",
       "      <td>7.9250</td>\n",
       "      <td>NaN</td>\n",
       "      <td>S</td>\n",
       "      <td>0</td>\n",
       "      <td>1.0</td>\n",
       "      <td>1</td>\n",
       "    </tr>\n",
       "    <tr>\n",
       "      <th>3</th>\n",
       "      <td>4</td>\n",
       "      <td>1</td>\n",
       "      <td>1</td>\n",
       "      <td>Futrelle, Mrs. Jacques Heath (Lily May Peel)</td>\n",
       "      <td>female</td>\n",
       "      <td>35.0</td>\n",
       "      <td>1</td>\n",
       "      <td>0</td>\n",
       "      <td>113803</td>\n",
       "      <td>53.1000</td>\n",
       "      <td>C123</td>\n",
       "      <td>S</td>\n",
       "      <td>0</td>\n",
       "      <td>1.0</td>\n",
       "      <td>1</td>\n",
       "    </tr>\n",
       "    <tr>\n",
       "      <th>4</th>\n",
       "      <td>5</td>\n",
       "      <td>0</td>\n",
       "      <td>3</td>\n",
       "      <td>Allen, Mr. William Henry</td>\n",
       "      <td>male</td>\n",
       "      <td>35.0</td>\n",
       "      <td>0</td>\n",
       "      <td>0</td>\n",
       "      <td>373450</td>\n",
       "      <td>8.0500</td>\n",
       "      <td>NaN</td>\n",
       "      <td>S</td>\n",
       "      <td>0</td>\n",
       "      <td>0.0</td>\n",
       "      <td>0</td>\n",
       "    </tr>\n",
       "  </tbody>\n",
       "</table>\n",
       "</div>"
      ],
      "text/plain": [
       "   PassengerId  Survived  Pclass  \\\n",
       "0            1         0       3   \n",
       "1            2         1       1   \n",
       "2            3         1       3   \n",
       "3            4         1       1   \n",
       "4            5         0       3   \n",
       "\n",
       "                                                Name     Sex   Age  SibSp  \\\n",
       "0                            Braund, Mr. Owen Harris    male  22.0      1   \n",
       "1  Cumings, Mrs. John Bradley (Florence Briggs Th...  female  38.0      1   \n",
       "2                             Heikkinen, Miss. Laina  female  26.0      0   \n",
       "3       Futrelle, Mrs. Jacques Heath (Lily May Peel)  female  35.0      1   \n",
       "4                           Allen, Mr. William Henry    male  35.0      0   \n",
       "\n",
       "   Parch            Ticket     Fare Cabin Embarked  PredEveryoneDies  \\\n",
       "0      0         A/5 21171   7.2500   NaN        S                 0   \n",
       "1      0          PC 17599  71.2833   C85        C                 0   \n",
       "2      0  STON/O2. 3101282   7.9250   NaN        S                 0   \n",
       "3      0            113803  53.1000  C123        S                 0   \n",
       "4      0            373450   8.0500   NaN        S                 0   \n",
       "\n",
       "   PredGender  PredGenderAge13  \n",
       "0         0.0                0  \n",
       "1         1.0                1  \n",
       "2         1.0                1  \n",
       "3         1.0                1  \n",
       "4         0.0                0  "
      ]
     },
     "execution_count": 24,
     "metadata": {},
     "output_type": "execute_result"
    }
   ],
   "source": [
    "#10 In other words, your model should predict that a male child would survive.\n",
    "#(1)   train['PredGenderAge13'] should be the prediction incorporating both Gender and whether Age < 13. \n",
    "\n",
    "train[\"PredGenderAge13\"] = 0\n",
    "train.loc[train['Sex'] == 'male', 'PredGenderAge13'] = 0\n",
    "train.loc[train['Sex'] == 'female', 'PredGenderAge13'] = 1\n",
    "train.loc[train['Age'] < 13, 'PredGenderAge13'] = 1\n",
    "\n",
    "train.head()"
   ]
  },
  {
   "cell_type": "code",
   "execution_count": 25,
   "metadata": {},
   "outputs": [
    {
     "data": {
      "text/html": [
       "<div>\n",
       "<table border=\"1\" class=\"dataframe\">\n",
       "  <thead>\n",
       "    <tr style=\"text-align: right;\">\n",
       "      <th></th>\n",
       "      <th>PassengerId</th>\n",
       "      <th>Survived</th>\n",
       "      <th>Pclass</th>\n",
       "      <th>Name</th>\n",
       "      <th>Sex</th>\n",
       "      <th>Age</th>\n",
       "      <th>SibSp</th>\n",
       "      <th>Parch</th>\n",
       "      <th>Ticket</th>\n",
       "      <th>Fare</th>\n",
       "      <th>Cabin</th>\n",
       "      <th>Embarked</th>\n",
       "      <th>PredEveryoneDies</th>\n",
       "      <th>PredGender</th>\n",
       "      <th>PredGenderAge13</th>\n",
       "      <th>PredGenderAge18</th>\n",
       "    </tr>\n",
       "  </thead>\n",
       "  <tbody>\n",
       "    <tr>\n",
       "      <th>0</th>\n",
       "      <td>1</td>\n",
       "      <td>0</td>\n",
       "      <td>3</td>\n",
       "      <td>Braund, Mr. Owen Harris</td>\n",
       "      <td>male</td>\n",
       "      <td>22.0</td>\n",
       "      <td>1</td>\n",
       "      <td>0</td>\n",
       "      <td>A/5 21171</td>\n",
       "      <td>7.2500</td>\n",
       "      <td>NaN</td>\n",
       "      <td>S</td>\n",
       "      <td>0</td>\n",
       "      <td>0.0</td>\n",
       "      <td>0</td>\n",
       "      <td>0.0</td>\n",
       "    </tr>\n",
       "    <tr>\n",
       "      <th>1</th>\n",
       "      <td>2</td>\n",
       "      <td>1</td>\n",
       "      <td>1</td>\n",
       "      <td>Cumings, Mrs. John Bradley (Florence Briggs Th...</td>\n",
       "      <td>female</td>\n",
       "      <td>38.0</td>\n",
       "      <td>1</td>\n",
       "      <td>0</td>\n",
       "      <td>PC 17599</td>\n",
       "      <td>71.2833</td>\n",
       "      <td>C85</td>\n",
       "      <td>C</td>\n",
       "      <td>0</td>\n",
       "      <td>1.0</td>\n",
       "      <td>1</td>\n",
       "      <td>1.0</td>\n",
       "    </tr>\n",
       "    <tr>\n",
       "      <th>2</th>\n",
       "      <td>3</td>\n",
       "      <td>1</td>\n",
       "      <td>3</td>\n",
       "      <td>Heikkinen, Miss. Laina</td>\n",
       "      <td>female</td>\n",
       "      <td>26.0</td>\n",
       "      <td>0</td>\n",
       "      <td>0</td>\n",
       "      <td>STON/O2. 3101282</td>\n",
       "      <td>7.9250</td>\n",
       "      <td>NaN</td>\n",
       "      <td>S</td>\n",
       "      <td>0</td>\n",
       "      <td>1.0</td>\n",
       "      <td>1</td>\n",
       "      <td>1.0</td>\n",
       "    </tr>\n",
       "    <tr>\n",
       "      <th>3</th>\n",
       "      <td>4</td>\n",
       "      <td>1</td>\n",
       "      <td>1</td>\n",
       "      <td>Futrelle, Mrs. Jacques Heath (Lily May Peel)</td>\n",
       "      <td>female</td>\n",
       "      <td>35.0</td>\n",
       "      <td>1</td>\n",
       "      <td>0</td>\n",
       "      <td>113803</td>\n",
       "      <td>53.1000</td>\n",
       "      <td>C123</td>\n",
       "      <td>S</td>\n",
       "      <td>0</td>\n",
       "      <td>1.0</td>\n",
       "      <td>1</td>\n",
       "      <td>1.0</td>\n",
       "    </tr>\n",
       "    <tr>\n",
       "      <th>4</th>\n",
       "      <td>5</td>\n",
       "      <td>0</td>\n",
       "      <td>3</td>\n",
       "      <td>Allen, Mr. William Henry</td>\n",
       "      <td>male</td>\n",
       "      <td>35.0</td>\n",
       "      <td>0</td>\n",
       "      <td>0</td>\n",
       "      <td>373450</td>\n",
       "      <td>8.0500</td>\n",
       "      <td>NaN</td>\n",
       "      <td>S</td>\n",
       "      <td>0</td>\n",
       "      <td>0.0</td>\n",
       "      <td>0</td>\n",
       "      <td>0.0</td>\n",
       "    </tr>\n",
       "  </tbody>\n",
       "</table>\n",
       "</div>"
      ],
      "text/plain": [
       "   PassengerId  Survived  Pclass  \\\n",
       "0            1         0       3   \n",
       "1            2         1       1   \n",
       "2            3         1       3   \n",
       "3            4         1       1   \n",
       "4            5         0       3   \n",
       "\n",
       "                                                Name     Sex   Age  SibSp  \\\n",
       "0                            Braund, Mr. Owen Harris    male  22.0      1   \n",
       "1  Cumings, Mrs. John Bradley (Florence Briggs Th...  female  38.0      1   \n",
       "2                             Heikkinen, Miss. Laina  female  26.0      0   \n",
       "3       Futrelle, Mrs. Jacques Heath (Lily May Peel)  female  35.0      1   \n",
       "4                           Allen, Mr. William Henry    male  35.0      0   \n",
       "\n",
       "   Parch            Ticket     Fare Cabin Embarked  PredEveryoneDies  \\\n",
       "0      0         A/5 21171   7.2500   NaN        S                 0   \n",
       "1      0          PC 17599  71.2833   C85        C                 0   \n",
       "2      0  STON/O2. 3101282   7.9250   NaN        S                 0   \n",
       "3      0            113803  53.1000  C123        S                 0   \n",
       "4      0            373450   8.0500   NaN        S                 0   \n",
       "\n",
       "   PredGender  PredGenderAge13  PredGenderAge18  \n",
       "0         0.0                0              0.0  \n",
       "1         1.0                1              1.0  \n",
       "2         1.0                1              1.0  \n",
       "3         1.0                1              1.0  \n",
       "4         0.0                0              0.0  "
      ]
     },
     "execution_count": 25,
     "metadata": {},
     "output_type": "execute_result"
    }
   ],
   "source": [
    "#(2)   train['PredGenderAge18'] should be the prediction incorporating both Gender and whether Age < 18. \n",
    "\n",
    "train.loc[train['Sex'] == 'male', 'PredGenderAge18'] = 0\n",
    "train.loc[train['Sex'] == 'female', 'PredGenderAge18'] = 1\n",
    "train.loc[train['Age'] < 18, 'PredGenderAge18'] = 1\n",
    "\n",
    "train.head()"
   ]
  },
  {
   "cell_type": "code",
   "execution_count": 26,
   "metadata": {},
   "outputs": [
    {
     "name": "stdout",
     "output_type": "stream",
     "text": [
      "79.2368125701459\n"
     ]
    }
   ],
   "source": [
    "#(3)   AccGenderAge13 should be the accuracy of the age prediction, based on train['PredGenderAge13'].  \n",
    "\n",
    "\n",
    "list_compare3 = train['Survived'] == train['PredGenderAge13']\n",
    "correct3 = 0\n",
    "\n",
    "for k in list_compare3:\n",
    "    if k == True:\n",
    "       correct3 = correct3 + 1\n",
    "    else:\n",
    "       correct3 = correct3 + 0\n",
    "        \n",
    "AccGenderAge13 = int(correct3)/len(list_compare3)*100\n",
    "print(AccGenderAge13)\n",
    "\n"
   ]
  },
  {
   "cell_type": "code",
   "execution_count": 27,
   "metadata": {},
   "outputs": [
    {
     "name": "stdout",
     "output_type": "stream",
     "text": [
      "77.32884399551067\n"
     ]
    }
   ],
   "source": [
    "#(4)   AccGenderAge18 should be the accuracy of the age prediction, based on train['PredGenderAge18'].\n",
    "\n",
    "list_compare4 = train['Survived'] == train['PredGenderAge18']\n",
    "correct4 = 0\n",
    "\n",
    "for m in list_compare4:\n",
    "    if m == True:\n",
    "       correct4 = correct4 + 1\n",
    "    else:\n",
    "       correct4 = correct4 + 0\n",
    "        \n",
    "AccGenderAge18 = int(correct4)/len(list_compare4)*100\n",
    "print(AccGenderAge18)\n"
   ]
  },
  {
   "cell_type": "code",
   "execution_count": 28,
   "metadata": {},
   "outputs": [
    {
     "data": {
      "application/javascript": [
       "$(':has(> #dojo-timer-time)').css(\"background-color\",\"yellow\");"
      ],
      "text/plain": [
       "<IPython.core.display.Javascript object>"
      ]
     },
     "metadata": {},
     "output_type": "display_data"
    },
    {
     "name": "stdout",
     "output_type": "stream",
     "text": [
      "....\n",
      "----------------------------------------------------------------------\n",
      "Ran 4 tests in 0.004s\n",
      "\n",
      "OK\n"
     ]
    },
    {
     "data": {
      "application/javascript": [
       "$(':has(> #dojo-timer-time)').css(\"background-color\",\"lightgreen\");"
      ],
      "text/plain": [
       "<IPython.core.display.Javascript object>"
      ]
     },
     "metadata": {},
     "output_type": "display_data"
    },
    {
     "data": {
      "text/plain": [
       "<unittest.runner.TextTestResult run=4 errors=0 failures=0>"
      ]
     },
     "execution_count": 28,
     "metadata": {},
     "output_type": "execute_result"
    }
   ],
   "source": [
    "%%unittest_main\n",
    "class TestExercise3(unittest.TestCase):\n",
    "    def test_titanic6(self):\n",
    "        self.assertAlmostEqual(train['PredGenderAge13'].mean(), 0.393939393939)\n",
    "    def test_titanic7(self):\n",
    "        self.assertAlmostEqual(train['PredGenderAge18'].mean(), 0.417508417508)\n",
    "    def test_titanic8(self):\n",
    "        self.assertAlmostEqual(AccGenderAge13, 79.2368125701)\n",
    "    def test_titanic9(self):\n",
    "        self.assertAlmostEqual(AccGenderAge18, 77.3288439955)"
   ]
  },
  {
   "cell_type": "code",
   "execution_count": 29,
   "metadata": {},
   "outputs": [
    {
     "data": {
      "text/html": [
       "<div>\n",
       "<table border=\"1\" class=\"dataframe\">\n",
       "  <thead>\n",
       "    <tr style=\"text-align: right;\">\n",
       "      <th></th>\n",
       "      <th>PassengerId</th>\n",
       "      <th>Pclass</th>\n",
       "      <th>Name</th>\n",
       "      <th>Sex</th>\n",
       "      <th>Age</th>\n",
       "      <th>SibSp</th>\n",
       "      <th>Parch</th>\n",
       "      <th>Ticket</th>\n",
       "      <th>Fare</th>\n",
       "      <th>Cabin</th>\n",
       "      <th>Embarked</th>\n",
       "      <th>PredGenderAge13</th>\n",
       "    </tr>\n",
       "  </thead>\n",
       "  <tbody>\n",
       "    <tr>\n",
       "      <th>0</th>\n",
       "      <td>892</td>\n",
       "      <td>3</td>\n",
       "      <td>Kelly, Mr. James</td>\n",
       "      <td>male</td>\n",
       "      <td>34.5</td>\n",
       "      <td>0</td>\n",
       "      <td>0</td>\n",
       "      <td>330911</td>\n",
       "      <td>7.8292</td>\n",
       "      <td>NaN</td>\n",
       "      <td>Q</td>\n",
       "      <td>0</td>\n",
       "    </tr>\n",
       "    <tr>\n",
       "      <th>1</th>\n",
       "      <td>893</td>\n",
       "      <td>3</td>\n",
       "      <td>Wilkes, Mrs. James (Ellen Needs)</td>\n",
       "      <td>female</td>\n",
       "      <td>47.0</td>\n",
       "      <td>1</td>\n",
       "      <td>0</td>\n",
       "      <td>363272</td>\n",
       "      <td>7.0000</td>\n",
       "      <td>NaN</td>\n",
       "      <td>S</td>\n",
       "      <td>1</td>\n",
       "    </tr>\n",
       "    <tr>\n",
       "      <th>2</th>\n",
       "      <td>894</td>\n",
       "      <td>2</td>\n",
       "      <td>Myles, Mr. Thomas Francis</td>\n",
       "      <td>male</td>\n",
       "      <td>62.0</td>\n",
       "      <td>0</td>\n",
       "      <td>0</td>\n",
       "      <td>240276</td>\n",
       "      <td>9.6875</td>\n",
       "      <td>NaN</td>\n",
       "      <td>Q</td>\n",
       "      <td>1</td>\n",
       "    </tr>\n",
       "    <tr>\n",
       "      <th>3</th>\n",
       "      <td>895</td>\n",
       "      <td>3</td>\n",
       "      <td>Wirz, Mr. Albert</td>\n",
       "      <td>male</td>\n",
       "      <td>27.0</td>\n",
       "      <td>0</td>\n",
       "      <td>0</td>\n",
       "      <td>315154</td>\n",
       "      <td>8.6625</td>\n",
       "      <td>NaN</td>\n",
       "      <td>S</td>\n",
       "      <td>1</td>\n",
       "    </tr>\n",
       "    <tr>\n",
       "      <th>4</th>\n",
       "      <td>896</td>\n",
       "      <td>3</td>\n",
       "      <td>Hirvonen, Mrs. Alexander (Helga E Lindqvist)</td>\n",
       "      <td>female</td>\n",
       "      <td>22.0</td>\n",
       "      <td>1</td>\n",
       "      <td>1</td>\n",
       "      <td>3101298</td>\n",
       "      <td>12.2875</td>\n",
       "      <td>NaN</td>\n",
       "      <td>S</td>\n",
       "      <td>0</td>\n",
       "    </tr>\n",
       "  </tbody>\n",
       "</table>\n",
       "</div>"
      ],
      "text/plain": [
       "   PassengerId  Pclass                                          Name     Sex  \\\n",
       "0          892       3                              Kelly, Mr. James    male   \n",
       "1          893       3              Wilkes, Mrs. James (Ellen Needs)  female   \n",
       "2          894       2                     Myles, Mr. Thomas Francis    male   \n",
       "3          895       3                              Wirz, Mr. Albert    male   \n",
       "4          896       3  Hirvonen, Mrs. Alexander (Helga E Lindqvist)  female   \n",
       "\n",
       "    Age  SibSp  Parch   Ticket     Fare Cabin Embarked  PredGenderAge13  \n",
       "0  34.5      0      0   330911   7.8292   NaN        Q                0  \n",
       "1  47.0      1      0   363272   7.0000   NaN        S                1  \n",
       "2  62.0      0      0   240276   9.6875   NaN        Q                1  \n",
       "3  27.0      0      0   315154   8.6625   NaN        S                1  \n",
       "4  22.0      1      1  3101298  12.2875   NaN        S                0  "
      ]
     },
     "execution_count": 29,
     "metadata": {},
     "output_type": "execute_result"
    }
   ],
   "source": [
    "#11 Create a prediction file for the \"women and children first\" model in column PredGenderAge13 and upload it to Kaggle. \n",
    "\n",
    "test[\"PredGenderAge13\"] = 0\n",
    "test.loc[train['Sex'] == 'male', 'PredGenderAge13'] = 0\n",
    "test.loc[train['Sex'] == 'female', 'PredGenderAge13'] = 1\n",
    "test.loc[train['Age'] < 13, 'PredGenderAge13'] = 1\n",
    "\n",
    "submission = test.loc[:,['PassengerId', 'PredGenderAge13']]\n",
    "submission.rename(columns={'PredGenderAge13': 'Survived'}, inplace=True)\n",
    "submission.to_csv('prediction.csv', index=False)\n",
    "\n",
    "test.head()\n"
   ]
  },
  {
   "attachments": {
    "image.png": {
     "image/png": "[encoded data removed]"
    }
   },
   "cell_type": "markdown",
   "metadata": {},
   "source": [
    "![image.png](attachment:image.png)"
   ]
  },
  {
   "cell_type": "code",
   "execution_count": 30,
   "metadata": {},
   "outputs": [
    {
     "data": {
      "text/html": [
       "<div>\n",
       "<table border=\"1\" class=\"dataframe\">\n",
       "  <thead>\n",
       "    <tr style=\"text-align: right;\">\n",
       "      <th></th>\n",
       "      <th>PassengerId</th>\n",
       "      <th>Survived</th>\n",
       "      <th>Pclass</th>\n",
       "      <th>Name</th>\n",
       "      <th>Sex</th>\n",
       "      <th>Age</th>\n",
       "      <th>SibSp</th>\n",
       "      <th>Parch</th>\n",
       "      <th>Ticket</th>\n",
       "      <th>Fare</th>\n",
       "      <th>Cabin</th>\n",
       "      <th>Embarked</th>\n",
       "      <th>PredEveryoneDies</th>\n",
       "      <th>PredGender</th>\n",
       "      <th>PredGenderAge13</th>\n",
       "      <th>PredGenderAge18</th>\n",
       "      <th>child</th>\n",
       "    </tr>\n",
       "  </thead>\n",
       "  <tbody>\n",
       "    <tr>\n",
       "      <th>0</th>\n",
       "      <td>1</td>\n",
       "      <td>0</td>\n",
       "      <td>3</td>\n",
       "      <td>Braund, Mr. Owen Harris</td>\n",
       "      <td>male</td>\n",
       "      <td>22.0</td>\n",
       "      <td>1</td>\n",
       "      <td>0</td>\n",
       "      <td>A/5 21171</td>\n",
       "      <td>7.2500</td>\n",
       "      <td>NaN</td>\n",
       "      <td>S</td>\n",
       "      <td>0</td>\n",
       "      <td>0.0</td>\n",
       "      <td>0</td>\n",
       "      <td>0.0</td>\n",
       "      <td>0.0</td>\n",
       "    </tr>\n",
       "    <tr>\n",
       "      <th>1</th>\n",
       "      <td>2</td>\n",
       "      <td>1</td>\n",
       "      <td>1</td>\n",
       "      <td>Cumings, Mrs. John Bradley (Florence Briggs Th...</td>\n",
       "      <td>female</td>\n",
       "      <td>38.0</td>\n",
       "      <td>1</td>\n",
       "      <td>0</td>\n",
       "      <td>PC 17599</td>\n",
       "      <td>71.2833</td>\n",
       "      <td>C85</td>\n",
       "      <td>C</td>\n",
       "      <td>0</td>\n",
       "      <td>1.0</td>\n",
       "      <td>1</td>\n",
       "      <td>1.0</td>\n",
       "      <td>0.0</td>\n",
       "    </tr>\n",
       "    <tr>\n",
       "      <th>2</th>\n",
       "      <td>3</td>\n",
       "      <td>1</td>\n",
       "      <td>3</td>\n",
       "      <td>Heikkinen, Miss. Laina</td>\n",
       "      <td>female</td>\n",
       "      <td>26.0</td>\n",
       "      <td>0</td>\n",
       "      <td>0</td>\n",
       "      <td>STON/O2. 3101282</td>\n",
       "      <td>7.9250</td>\n",
       "      <td>NaN</td>\n",
       "      <td>S</td>\n",
       "      <td>0</td>\n",
       "      <td>1.0</td>\n",
       "      <td>1</td>\n",
       "      <td>1.0</td>\n",
       "      <td>0.0</td>\n",
       "    </tr>\n",
       "    <tr>\n",
       "      <th>3</th>\n",
       "      <td>4</td>\n",
       "      <td>1</td>\n",
       "      <td>1</td>\n",
       "      <td>Futrelle, Mrs. Jacques Heath (Lily May Peel)</td>\n",
       "      <td>female</td>\n",
       "      <td>35.0</td>\n",
       "      <td>1</td>\n",
       "      <td>0</td>\n",
       "      <td>113803</td>\n",
       "      <td>53.1000</td>\n",
       "      <td>C123</td>\n",
       "      <td>S</td>\n",
       "      <td>0</td>\n",
       "      <td>1.0</td>\n",
       "      <td>1</td>\n",
       "      <td>1.0</td>\n",
       "      <td>0.0</td>\n",
       "    </tr>\n",
       "    <tr>\n",
       "      <th>4</th>\n",
       "      <td>5</td>\n",
       "      <td>0</td>\n",
       "      <td>3</td>\n",
       "      <td>Allen, Mr. William Henry</td>\n",
       "      <td>male</td>\n",
       "      <td>35.0</td>\n",
       "      <td>0</td>\n",
       "      <td>0</td>\n",
       "      <td>373450</td>\n",
       "      <td>8.0500</td>\n",
       "      <td>NaN</td>\n",
       "      <td>S</td>\n",
       "      <td>0</td>\n",
       "      <td>0.0</td>\n",
       "      <td>0</td>\n",
       "      <td>0.0</td>\n",
       "      <td>0.0</td>\n",
       "    </tr>\n",
       "  </tbody>\n",
       "</table>\n",
       "</div>"
      ],
      "text/plain": [
       "   PassengerId  Survived  Pclass  \\\n",
       "0            1         0       3   \n",
       "1            2         1       1   \n",
       "2            3         1       3   \n",
       "3            4         1       1   \n",
       "4            5         0       3   \n",
       "\n",
       "                                                Name     Sex   Age  SibSp  \\\n",
       "0                            Braund, Mr. Owen Harris    male  22.0      1   \n",
       "1  Cumings, Mrs. John Bradley (Florence Briggs Th...  female  38.0      1   \n",
       "2                             Heikkinen, Miss. Laina  female  26.0      0   \n",
       "3       Futrelle, Mrs. Jacques Heath (Lily May Peel)  female  35.0      1   \n",
       "4                           Allen, Mr. William Henry    male  35.0      0   \n",
       "\n",
       "   Parch            Ticket     Fare Cabin Embarked  PredEveryoneDies  \\\n",
       "0      0         A/5 21171   7.2500   NaN        S                 0   \n",
       "1      0          PC 17599  71.2833   C85        C                 0   \n",
       "2      0  STON/O2. 3101282   7.9250   NaN        S                 0   \n",
       "3      0            113803  53.1000  C123        S                 0   \n",
       "4      0            373450   8.0500   NaN        S                 0   \n",
       "\n",
       "   PredGender  PredGenderAge13  PredGenderAge18  child  \n",
       "0         0.0                0              0.0    0.0  \n",
       "1         1.0                1              1.0    0.0  \n",
       "2         1.0                1              1.0    0.0  \n",
       "3         1.0                1              1.0    0.0  \n",
       "4         0.0                0              0.0    0.0  "
      ]
     },
     "execution_count": 30,
     "metadata": {},
     "output_type": "execute_result"
    }
   ],
   "source": [
    "#12 You should find that the AccGenderAge13 is better than AccGenderAge18. \n",
    "#  Create a new column child in the test and train DataFrames that is 1 if Age < 13 and 0 otherwise. \n",
    "#  This is a feature. We will talk more about features next time.\n",
    "\n",
    "train.loc[train['Age'] < 13, 'child'] = 1\n",
    "train.loc[train['Age'] >=13, 'child'] = 0\n",
    "\n",
    "train.head()\n"
   ]
  },
  {
   "cell_type": "code",
   "execution_count": 31,
   "metadata": {},
   "outputs": [
    {
     "data": {
      "text/html": [
       "<div>\n",
       "<table border=\"1\" class=\"dataframe\">\n",
       "  <thead>\n",
       "    <tr style=\"text-align: right;\">\n",
       "      <th></th>\n",
       "      <th>PassengerId</th>\n",
       "      <th>Pclass</th>\n",
       "      <th>Name</th>\n",
       "      <th>Sex</th>\n",
       "      <th>Age</th>\n",
       "      <th>SibSp</th>\n",
       "      <th>Parch</th>\n",
       "      <th>Ticket</th>\n",
       "      <th>Fare</th>\n",
       "      <th>Cabin</th>\n",
       "      <th>Embarked</th>\n",
       "      <th>PredGenderAge13</th>\n",
       "      <th>child</th>\n",
       "    </tr>\n",
       "  </thead>\n",
       "  <tbody>\n",
       "    <tr>\n",
       "      <th>0</th>\n",
       "      <td>892</td>\n",
       "      <td>3</td>\n",
       "      <td>Kelly, Mr. James</td>\n",
       "      <td>male</td>\n",
       "      <td>34.5</td>\n",
       "      <td>0</td>\n",
       "      <td>0</td>\n",
       "      <td>330911</td>\n",
       "      <td>7.8292</td>\n",
       "      <td>NaN</td>\n",
       "      <td>Q</td>\n",
       "      <td>0</td>\n",
       "      <td>0.0</td>\n",
       "    </tr>\n",
       "    <tr>\n",
       "      <th>1</th>\n",
       "      <td>893</td>\n",
       "      <td>3</td>\n",
       "      <td>Wilkes, Mrs. James (Ellen Needs)</td>\n",
       "      <td>female</td>\n",
       "      <td>47.0</td>\n",
       "      <td>1</td>\n",
       "      <td>0</td>\n",
       "      <td>363272</td>\n",
       "      <td>7.0000</td>\n",
       "      <td>NaN</td>\n",
       "      <td>S</td>\n",
       "      <td>1</td>\n",
       "      <td>0.0</td>\n",
       "    </tr>\n",
       "    <tr>\n",
       "      <th>2</th>\n",
       "      <td>894</td>\n",
       "      <td>2</td>\n",
       "      <td>Myles, Mr. Thomas Francis</td>\n",
       "      <td>male</td>\n",
       "      <td>62.0</td>\n",
       "      <td>0</td>\n",
       "      <td>0</td>\n",
       "      <td>240276</td>\n",
       "      <td>9.6875</td>\n",
       "      <td>NaN</td>\n",
       "      <td>Q</td>\n",
       "      <td>1</td>\n",
       "      <td>0.0</td>\n",
       "    </tr>\n",
       "    <tr>\n",
       "      <th>3</th>\n",
       "      <td>895</td>\n",
       "      <td>3</td>\n",
       "      <td>Wirz, Mr. Albert</td>\n",
       "      <td>male</td>\n",
       "      <td>27.0</td>\n",
       "      <td>0</td>\n",
       "      <td>0</td>\n",
       "      <td>315154</td>\n",
       "      <td>8.6625</td>\n",
       "      <td>NaN</td>\n",
       "      <td>S</td>\n",
       "      <td>1</td>\n",
       "      <td>0.0</td>\n",
       "    </tr>\n",
       "    <tr>\n",
       "      <th>4</th>\n",
       "      <td>896</td>\n",
       "      <td>3</td>\n",
       "      <td>Hirvonen, Mrs. Alexander (Helga E Lindqvist)</td>\n",
       "      <td>female</td>\n",
       "      <td>22.0</td>\n",
       "      <td>1</td>\n",
       "      <td>1</td>\n",
       "      <td>3101298</td>\n",
       "      <td>12.2875</td>\n",
       "      <td>NaN</td>\n",
       "      <td>S</td>\n",
       "      <td>0</td>\n",
       "      <td>0.0</td>\n",
       "    </tr>\n",
       "  </tbody>\n",
       "</table>\n",
       "</div>"
      ],
      "text/plain": [
       "   PassengerId  Pclass                                          Name     Sex  \\\n",
       "0          892       3                              Kelly, Mr. James    male   \n",
       "1          893       3              Wilkes, Mrs. James (Ellen Needs)  female   \n",
       "2          894       2                     Myles, Mr. Thomas Francis    male   \n",
       "3          895       3                              Wirz, Mr. Albert    male   \n",
       "4          896       3  Hirvonen, Mrs. Alexander (Helga E Lindqvist)  female   \n",
       "\n",
       "    Age  SibSp  Parch   Ticket     Fare Cabin Embarked  PredGenderAge13  child  \n",
       "0  34.5      0      0   330911   7.8292   NaN        Q                0    0.0  \n",
       "1  47.0      1      0   363272   7.0000   NaN        S                1    0.0  \n",
       "2  62.0      0      0   240276   9.6875   NaN        Q                1    0.0  \n",
       "3  27.0      0      0   315154   8.6625   NaN        S                1    0.0  \n",
       "4  22.0      1      1  3101298  12.2875   NaN        S                0    0.0  "
      ]
     },
     "execution_count": 31,
     "metadata": {},
     "output_type": "execute_result"
    }
   ],
   "source": [
    "test.loc[test['Age'] < 13, 'child'] = 1\n",
    "test.loc[test['Age'] >=13, 'child'] = 0\n",
    "\n",
    "test.head()"
   ]
  },
  {
   "cell_type": "code",
   "execution_count": 32,
   "metadata": {},
   "outputs": [
    {
     "data": {
      "application/javascript": [
       "$(':has(> #dojo-timer-time)').css(\"background-color\",\"yellow\");"
      ],
      "text/plain": [
       "<IPython.core.display.Javascript object>"
      ]
     },
     "metadata": {},
     "output_type": "display_data"
    },
    {
     "name": "stdout",
     "output_type": "stream",
     "text": [
      "..\n",
      "----------------------------------------------------------------------\n",
      "Ran 2 tests in 0.003s\n",
      "\n",
      "OK\n"
     ]
    },
    {
     "data": {
      "application/javascript": [
       "$(':has(> #dojo-timer-time)').css(\"background-color\",\"lightgreen\");"
      ],
      "text/plain": [
       "<IPython.core.display.Javascript object>"
      ]
     },
     "metadata": {},
     "output_type": "display_data"
    },
    {
     "data": {
      "text/plain": [
       "<unittest.runner.TextTestResult run=2 errors=0 failures=0>"
      ]
     },
     "execution_count": 32,
     "metadata": {},
     "output_type": "execute_result"
    }
   ],
   "source": [
    "%%unittest_main\n",
    "class TestExercise3(unittest.TestCase):\n",
    "    def test_titanic10(self):\n",
    "        self.assertTrue(train['child'].sum()==69)\n",
    "    def test_titanic11(self):\n",
    "        self.assertTrue(test['child'].sum()==25)"
   ]
  },
  {
   "cell_type": "code",
   "execution_count": 33,
   "metadata": {},
   "outputs": [
    {
     "data": {
      "text/plain": [
       "Sex     Pclass  child\n",
       "female  1       0.0      0.976190\n",
       "                1.0      0.000000\n",
       "        2       0.0      0.909091\n",
       "                1.0      1.000000\n",
       "        3       0.0      0.455696\n",
       "                1.0      0.478261\n",
       "male    1       0.0      0.377551\n",
       "                1.0      1.000000\n",
       "        2       0.0      0.066667\n",
       "                1.0      1.000000\n",
       "        3       0.0      0.127193\n",
       "                1.0      0.360000\n",
       "Name: Survived, dtype: float64"
      ]
     },
     "execution_count": 33,
     "metadata": {},
     "output_type": "execute_result"
    }
   ],
   "source": [
    "#13 Use the groupby command to simultanously examine the likelyhood of surving using gender, pclass, and your new child field.\n",
    "\n",
    "train.groupby(['Sex','Pclass','child']).Survived.mean()"
   ]
  },
  {
   "cell_type": "code",
   "execution_count": null,
   "metadata": {},
   "outputs": [],
   "source": []
  }
 ],
 "metadata": {
  "anaconda-cloud": {},
  "kernelspec": {
   "display_name": "Python [default]",
   "language": "python",
   "name": "python3"
  },
  "language_info": {
   "codemirror_mode": {
    "name": "ipython",
    "version": 3
   },
   "file_extension": ".py",
   "mimetype": "text/x-python",
   "name": "python",
   "nbconvert_exporter": "python",
   "pygments_lexer": "ipython3",
   "version": "3.6.2"
  }
 },
 "nbformat": 4,
 "nbformat_minor": 2
}
