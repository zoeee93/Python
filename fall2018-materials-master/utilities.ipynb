{
 "cells": [
  {
   "cell_type": "markdown",
   "metadata": {},
   "source": [
    "## Check Current Directory\n",
    "The `pwd` command will checking you are entering commands from the appropriate directory. \n",
    "\n",
    "This should output '/home/jovyan/techfundamentals-fall2017-materials.'   "
   ]
  },
  {
   "cell_type": "code",
   "execution_count": 1,
   "metadata": {},
   "outputs": [
    {
     "name": "stdout",
     "output_type": "stream",
     "text": [
      "/Users/jasonkuruzovich/githubdesktop/0_class/techfundamentals-fall2017-materials\n"
     ]
    }
   ],
   "source": [
    "%%bash\n",
    "pwd"
   ]
  },
  {
   "cell_type": "markdown",
   "metadata": {},
   "source": [
    "## Store Git Data\n",
    "This should enable you to store your git login.  Currently in this setup it isn't recommended, as it will store your password in an unencrypted file. "
   ]
  },
  {
   "cell_type": "code",
   "execution_count": 1,
   "metadata": {
    "collapsed": true
   },
   "outputs": [],
   "source": [
    "%%bash\n",
    "git config --global credential.helper libsecret\n"
   ]
  },
  {
   "cell_type": "markdown",
   "metadata": {},
   "source": [
    "## Pull Changes from the `techfundamentals-materials` Repository\n",
    "\n",
    "YOU DON'T HAVE TO DO THIS IF RUNNING ON LAB.ANALYTICSDOJO.COM\n",
    "\n",
    "This could work in many cases, but you will find that it will likely fail if you have actively run through some examples.  I've committed some of the files that were previously changed. This is one challenge in working with Jupyter notebooks, as they are subject to this issue. \n"
   ]
  },
  {
   "cell_type": "code",
   "execution_count": null,
   "metadata": {
    "collapsed": true
   },
   "outputs": [],
   "source": [
    "%%bash\n",
    "git pull"
   ]
  },
  {
   "cell_type": "markdown",
   "metadata": {
    "collapsed": true
   },
   "source": [
    "## Stash Changes and then Pull\n",
    "Because the materials directory is not used for assignments, it should be OK to go through and wipe out your local changes.   \n",
    "\n",
    "Here is a bit of a more detailed description though of how to \n",
    "\n",
    "Type 1. Staged Tracked files\n",
    "Type 2. Unstaged Tracked files\n",
    "Type 3. Unstaged UnTracked files a.k.a UnTracked files\n",
    "\n",
    "Staged - Those that are moved to staging area/ Added to index\n",
    "Tracked - modified files\n",
    "UnTracked - new files. Always unstaged. If staged, that means they are tracked.\n",
    "\n",
    "What each commands do:\n",
    "git checkout . - Removes Unstaged Tracked files ONLY [Type 2]\n",
    "git clean -f - Removes Unstaged UnTracked files ONLY [Type 3]\n",
    "git reset --hard - Removes Staged Tracked and UnStaged Tracked files ONLY[Type 1, Type 2]\n",
    "git stash -u - Removes all changes [Type 1, Type 2, Type 3]\n",
    "\n",
    "** Warning: This will discard the local changes and pull the new files. **"
   ]
  },
  {
   "cell_type": "code",
   "execution_count": null,
   "metadata": {
    "collapsed": true
   },
   "outputs": [],
   "source": [
    "%%bash\n",
    "git stash -u\n",
    "git pull"
   ]
  },
  {
   "cell_type": "markdown",
   "metadata": {},
   "source": [
    "### Delete Repository and Clone Again\n",
    "You can always restart and clone again. "
   ]
  },
  {
   "cell_type": "code",
   "execution_count": null,
   "metadata": {
    "collapsed": true
   },
   "outputs": [],
   "source": [
    "%%bash\n",
    "cd ..\n",
    "rm -rf techfundamentals-fall2017-materials\n",
    "git clone https://github.com/jkuruzovich/techfundamentals-fall2017-materials"
   ]
  },
  {
   "cell_type": "markdown",
   "metadata": {},
   "source": [
    "## Cloning a New Repository\n",
    "This is an easy way of cloning a new repository."
   ]
  },
  {
   "cell_type": "code",
   "execution_count": null,
   "metadata": {
    "collapsed": true
   },
   "outputs": [],
   "source": [
    "repository=\"https://github.com/jupyterhub/helm-chart\""
   ]
  },
  {
   "cell_type": "code",
   "execution_count": null,
   "metadata": {
    "collapsed": true
   },
   "outputs": [],
   "source": [
    "%%bash -s \"$repository\"\n",
    "cd ..\n",
    "git clone $1\n"
   ]
  },
  {
   "cell_type": "markdown",
   "metadata": {},
   "source": [
    "##"
   ]
  },
  {
   "cell_type": "markdown",
   "metadata": {},
   "source": [
    "## Committing Your Changes Changes\n",
    "- Want to commit and your changes?  OK, we are making it easier on you here.  Fill in your commit message.\n",
    "- Just now go to a terminal and use the `git push` command and it will prompt you for your password and push the changes (we can't do that directly here.)"
   ]
  },
  {
   "cell_type": "code",
   "execution_count": null,
   "metadata": {
    "collapsed": true
   },
   "outputs": [],
   "source": [
    "commitmessage=\"Finished Update for Homework 2.\" "
   ]
  },
  {
   "cell_type": "code",
   "execution_count": null,
   "metadata": {
    "collapsed": true
   },
   "outputs": [],
   "source": [
    "%%bash -s \"$repository\" \"$commitmessage\"\n",
    "cd ../$1\n",
    "git add -A\n",
    "git commit -m $2\n",
    "#\n"
   ]
  },
  {
   "cell_type": "markdown",
   "metadata": {},
   "source": [
    "## Deleting the Repository and \n",
    "This is a way of deleting a repository to start over. \n",
    "\n",
    "**Warning, this will delete your repository and start over.**"
   ]
  },
  {
   "cell_type": "code",
   "execution_count": null,
   "metadata": {
    "collapsed": true
   },
   "outputs": [],
   "source": [
    "%%bash -s \"$repository\"\n",
    "cd ..\n",
    "rm -rf $1\n",
    "git clone $1"
   ]
  }
 ],
 "metadata": {
  "anaconda-cloud": {},
  "kernelspec": {
   "display_name": "Python 3",
   "language": "python",
   "name": "python3"
  },
  "language_info": {
   "codemirror_mode": {
    "name": "ipython",
    "version": 3
   },
   "file_extension": ".py",
   "mimetype": "text/x-python",
   "name": "python",
   "nbconvert_exporter": "python",
   "pygments_lexer": "ipython3",
   "version": "3.6.3"
  }
 },
 "nbformat": 4,
 "nbformat_minor": 2
}
