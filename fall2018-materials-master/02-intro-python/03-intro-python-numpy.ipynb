{
 "cells": [
  {
   "cell_type": "markdown",
   "metadata": {
    "slideshow": {
     "slide_type": "slide"
    }
   },
   "source": [
    "[![AnalyticsDojo](../fig/final-logo.png)](http://rpi.analyticsdojo.com)\n",
    "<center><h1>Introduction to Python - Numpy</h1></center>\n",
    "<center><h3><a href = 'http://rpi.analyticsdojo.com'>rpi.analyticsdojo.com</a></h3></center>\n"
   ]
  },
  {
   "cell_type": "markdown",
   "metadata": {
    "slideshow": {
     "slide_type": "subslide"
    }
   },
   "source": [
    "## Overview of Numpy\n",
    "\n",
    "- Numpy is a package that provides additional functionality often useful working with arrays for data science. \n",
    "- Typically Numpy is imported as `np`.\n",
    "- `np.array()` will cast a list (or other collection) as a numpy array.\n",
    "- You can slice an array in the same way yo can slice a list.\n"
   ]
  },
  {
   "cell_type": "code",
   "execution_count": 1,
   "metadata": {},
   "outputs": [
    {
     "name": "stdout",
     "output_type": "stream",
     "text": [
      "A is of type: <class 'numpy.ndarray'>\n",
      "Print the entire array: [0 1 2 3 4 5 6]\n",
      "Print the first value: 0\n",
      "Print the first three value: [0 1 2]\n",
      "Print from second value till end  of list: [2 3 4 5 6]\n",
      "Print the last value of a list: 6\n",
      "Print up till the 2nd to last value: [0 1 2 3 4]\n"
     ]
    }
   ],
   "source": [
    "import numpy as np\n",
    "a = np.array([0, 1, 2, 3, 4, 5, 6])\n",
    "print('A is of type:', type(a))\n",
    "print('Print the entire array:', a)\n",
    "print('Print the first value:', a[0])\n",
    "print('Print the first three value:', a[0:3])\n",
    "print('Print from second value till end  of list:', a[2:])\n",
    "print('Print the last value of a numpy array:', a[-1])\n",
    "print('Print up till the 2nd to last value:', a[:-2]) \n"
   ]
  },
  {
   "cell_type": "markdown",
   "metadata": {
    "slideshow": {
     "slide_type": "subslide"
    }
   },
   "source": [
    "## Arrays and Functions\n",
    "- A really powerful aspect of arrays is the capaiblity to do calculations over arrays.\n",
    "- Numpy has a number of functions possible listed [here](http://docs.scipy.org/doc/numpy/reference/routines.math.html).\n",
    "- Often it is possible to do calculations directly or via np functions, as shown below. "
   ]
  },
  {
   "cell_type": "code",
   "execution_count": 2,
   "metadata": {},
   "outputs": [
    {
     "name": "stdout",
     "output_type": "stream",
     "text": [
      "Print the entire array a: [1 2 3 4 5 6]\n",
      "Print the entire array b1: [10 20 30 40 50 60]\n",
      "Print the entire array b2: [10 20 30 40 50 60]\n",
      "Print the entire array b3: [11 22 33 44 55 66]\n",
      "Print the entire array c2: [11 22 33 44 55 66]\n",
      "Print the entire array d: [ 0.          0.69314718  1.09861229  1.38629436  1.60943791  1.79175947]\n",
      "Print the entire array e: [ 1.          1.41421356  1.73205081  2.          2.23606798  2.44948974]\n",
      "Print the entire array f: [ 1  4  9 16 25 36]\n"
     ]
    }
   ],
   "source": [
    "import numpy as np\n",
    "a = np.array([1, 2, 3, 4, 5, 6])\n",
    "b1=10*a\n",
    "b2=np.multiply(10,a)\n",
    "c1=a+b1\n",
    "c2=np.add(a,b1) #This is an alternate way of adding \n",
    "d=np.log(a)\n",
    "e=np.sqrt(a)\n",
    "f=a**2  #This squares the value. \n",
    "\n",
    "np.square([-1j, 1])\n",
    "print('Print the entire array a:', a)\n",
    "print('Print the entire array b1:', b1)\n",
    "print('Print the entire array b2:', b2)\n",
    "print('Print the entire array b3:', c1)\n",
    "print('Print the entire array c2:', c2)\n",
    "print('Print the entire array d:', d)\n",
    "print('Print the entire array e:', e)\n",
    "print('Print the entire array f:', f)"
   ]
  },
  {
   "cell_type": "markdown",
   "metadata": {
    "slideshow": {
     "slide_type": "subslide"
    }
   },
   "source": [
    "## Creating and Manipulating Numpy Arrays\n",
    "- The arrange function will generate an array. \n",
    "- Reshape changes the structure of the array to n rows and m columns.\n",
    "    `a=a.reshape(n, m)`\n",
    "-`ones` will create an array with all ones and `zeros` with all zeros.\n",
    "- Reshaping can get it in the appropriate structure, but make sure that the size fits the appropriate dimensions."
   ]
  },
  {
   "cell_type": "code",
   "execution_count": 4,
   "metadata": {},
   "outputs": [
    {
     "name": "stdout",
     "output_type": "stream",
     "text": [
      "[ 0  1  2  3  4  5  6  7  8  9 10 11 12 13 14]\n",
      "[ 0  1  2  3  4  5  6  7  8  9 10 11 12 13 14]\n",
      "[[ 0  1  2  3  4]\n",
      " [ 5  6  7  8  9]\n",
      " [10 11 12 13 14]]\n",
      "[[ 1.  1.  1.  1.  1.]\n",
      " [ 1.  1.  1.  1.  1.]\n",
      " [ 1.  1.  1.  1.  1.]]\n",
      "[[0 0 0 0 0]\n",
      " [0 0 0 0 0]\n",
      " [0 0 0 0 0]]\n",
      "[[4 4 4 4 4]\n",
      " [4 4 4 4 4]\n",
      " [4 4 4 4 4]]\n",
      "[[ 0.   0.1  0.2  0.3  0.4]\n",
      " [ 0.5  0.6  0.7  0.8  0.9]\n",
      " [ 1.   1.1  1.2  1.3  1.4]]\n"
     ]
    }
   ],
   "source": [
    "import numpy as np\n",
    "a = np.arange(15) \n",
    "print(a)\n",
    "a2 = np.arange( 0, 15, 1 ) #Alternate specification with np.arrange(start, end, step)\n",
    "print(a2)\n",
    "a=a.reshape(3, 5)\n",
    "print(a)\n",
    "b= np.ones(shape=(3, 5), dtype=float)\n",
    "print(b)\n",
    "c= np.zeros(shape=(3, 5), dtype=int)\n",
    "print(c)\n",
    "d= np.full((3, 5), 4, dtype=int)\n",
    "print(d)\n",
    "e= np.arange( 0, 1.5, .1 ).reshape(3,5)  #String together creations and reshaping. Also can use decimals.\n",
    "print(e)"
   ]
  },
  {
   "cell_type": "code",
   "execution_count": 3,
   "metadata": {},
   "outputs": [
    {
     "data": {
      "text/plain": [
       "array([[ 0. ,  0.1,  0.2,  0.3,  0.4],\n",
       "       [ 0.5,  0.6,  0.7,  0.8,  0.9],\n",
       "       [ 1. ,  1.1,  1.2,  1.3,  1.4]])"
      ]
     },
     "execution_count": 3,
     "metadata": {},
     "output_type": "execute_result"
    }
   ],
   "source": [
    "e= np.arange( 0, 1.5, .1 ).reshape(3,5) "
   ]
  },
  {
   "cell_type": "markdown",
   "metadata": {
    "slideshow": {
     "slide_type": "subslide"
    }
   },
   "source": [
    "## Generating Random Numpy Data\n",
    "- This is often useful, and we will be using it to demonstrate some initial techniques.\n",
    "- Often you want random but repeatable results, so that for example a test could have a consistent average on a random array. For this we need to set a seed. You only have to do this once.\n",
    "\n"
   ]
  },
  {
   "cell_type": "code",
   "execution_count": 6,
   "metadata": {},
   "outputs": [
    {
     "name": "stdout",
     "output_type": "stream",
     "text": [
      "[ 109.46519698   50.85780228  145.64145344   78.97269151   92.70351313\n",
      "   52.40115672  100.85344015  136.72543799   97.50815861   65.22120624]\n",
      "[-0.78579231  0.47561356 -1.03844076  1.22334432 -2.21874131 -0.71922972\n",
      "  0.22159424 -1.00226326  0.07889796 -1.00275058]\n"
     ]
    }
   ],
   "source": [
    "\n",
    "np.random.seed([2335])\n",
    "a = np.random.uniform(50, 150, 10)  #Between 50-150, generate 10 variables from uniform\n",
    "b = np.random.standard_normal(10)   #With mean 0 and standard deviation 1 \n",
    "print(a)\n",
    "print(b)\n",
    "\n"
   ]
  },
  {
   "cell_type": "markdown",
   "metadata": {
    "slideshow": {
     "slide_type": "subslide"
    }
   },
   "source": [
    "## Combining Numpy Arrays\n",
    "- `concatenate` will string a list of numpy arrays together `np.concatenate([a,b])`\n",
    "- `vstack` will stack numpy arrays \n",
    "- Defaults: start =0, end =last and step is 1.\n",
    "- To print the entire array, leave start/stop/step blank`a[::]`"
   ]
  },
  {
   "cell_type": "code",
   "execution_count": 7,
   "metadata": {},
   "outputs": [
    {
     "name": "stdout",
     "output_type": "stream",
     "text": [
      "a: [0 1 2 3 4] \n",
      "b: [0 1 2 3 4 0 1 2 3 4] \n",
      "c: [[0 1 2 3 4]\n",
      " [0 1 2 3 4]] \n",
      "d: [[0 1 2 3 4 0 1 2 3 4]\n",
      " [0 1 2 3 4 0 1 2 3 4]]\n"
     ]
    }
   ],
   "source": [
    "a = np.arange(5)\n",
    "b=np.concatenate([a,a])\n",
    "c=np.vstack([a,a])\n",
    "d=np.hstack([c,c])\n",
    "print('a:',a,'\\nb:',b,'\\nc:',c,'\\nd:',d)\n"
   ]
  },
  {
   "cell_type": "markdown",
   "metadata": {
    "slideshow": {
     "slide_type": "subslide"
    }
   },
   "source": [
    "## Slicing Single Dimension Numpy Arrays\n",
    "- Slicing arrays includes  three numbers `a[start:stop:step]` but not all are required.\n",
    "- Defaults: start =0, end =last and step is 1.\n",
    "- To print the entire array, leave start/stop/step blank`a[::]`\n"
   ]
  },
  {
   "cell_type": "code",
   "execution_count": 11,
   "metadata": {},
   "outputs": [
    {
     "name": "stdout",
     "output_type": "stream",
     "text": [
      "[ 0  1  2  3  4  5  6  7  8  9 10 11 12 13 14]\n",
      "This is the start, end, and step: [2 5 8]\n",
      "Print every other: [ 0  2  4  6  8 10 12 14]\n",
      "Print starting at 2 and ending at 9, default step 1: [2 3 4 5 6 7 8]\n",
      "Print all: [ 0  1  2  3  4  5  6  7  8  9 10 11 12 13 14]\n",
      "Print all: [ 0  1  2  3  4  5  6  7  8  9 10 11 12 13 14]\n",
      "Print all: [ 0  1  2  3  4  5  6  7  8  9 10 11 12 13 14]\n"
     ]
    }
   ],
   "source": [
    "e= np.arange( 0, 15, 1 ) \n",
    "print(e)\n",
    "#[start:end:step]\n",
    "\n",
    "\n",
    "print(\"This is the start, end, and step:\",e[2:9:3]) \n",
    "print(\"Print every other:\",e[::2]) \n",
    "print(\"Print starting at 2 and ending at 9, default step 1:\",e[2:9]) \n",
    "print(\"Print all:\",e[::])\n",
    "print(\"Print all:\",e[:]) \n",
    "print(\"Print all:\",e) "
   ]
  },
  {
   "cell_type": "markdown",
   "metadata": {
    "slideshow": {
     "slide_type": "subslide"
    }
   },
   "source": [
    "## Numpy Arrays From External Datasets\n",
    "- We can take a list from an external dataset and change it to an numpy array. "
   ]
  },
  {
   "cell_type": "code",
   "execution_count": 13,
   "metadata": {},
   "outputs": [
    {
     "name": "stdout",
     "output_type": "stream",
     "text": [
      "[['5.1' '3.5' '1.4' '0.2' 'setosa']\n",
      " ['4.9' '3' '1.4' '0.2' 'setosa']\n",
      " ['4.7' '3.2' '1.3' '0.2' 'setosa']\n",
      " ['4.6' '3.1' '1.5' '0.2' 'setosa']\n",
      " ['5' '3.6' '1.4' '0.2' 'setosa']\n",
      " ['5.4' '3.9' '1.7' '0.4' 'setosa']\n",
      " ['4.6' '3.4' '1.4' '0.3' 'setosa']\n",
      " ['5' '3.4' '1.5' '0.2' 'setosa']\n",
      " ['4.4' '2.9' '1.4' '0.2' 'setosa']\n",
      " ['4.9' '3.1' '1.5' '0.1' 'setosa']\n",
      " ['5.4' '3.7' '1.5' '0.2' 'setosa']\n",
      " ['4.8' '3.4' '1.6' '0.2' 'setosa']\n",
      " ['4.8' '3' '1.4' '0.1' 'setosa']\n",
      " ['4.3' '3' '1.1' '0.1' 'setosa']\n",
      " ['5.8' '4' '1.2' '0.2' 'setosa']\n",
      " ['5.7' '4.4' '1.5' '0.4' 'setosa']\n",
      " ['5.4' '3.9' '1.3' '0.4' 'setosa']\n",
      " ['5.1' '3.5' '1.4' '0.3' 'setosa']\n",
      " ['5.7' '3.8' '1.7' '0.3' 'setosa']\n",
      " ['5.1' '3.8' '1.5' '0.3' 'setosa']\n",
      " ['5.4' '3.4' '1.7' '0.2' 'setosa']\n",
      " ['5.1' '3.7' '1.5' '0.4' 'setosa']\n",
      " ['4.6' '3.6' '1' '0.2' 'setosa']\n",
      " ['5.1' '3.3' '1.7' '0.5' 'setosa']\n",
      " ['4.8' '3.4' '1.9' '0.2' 'setosa']\n",
      " ['5' '3' '1.6' '0.2' 'setosa']\n",
      " ['5' '3.4' '1.6' '0.4' 'setosa']\n",
      " ['5.2' '3.5' '1.5' '0.2' 'setosa']\n",
      " ['5.2' '3.4' '1.4' '0.2' 'setosa']\n",
      " ['4.7' '3.2' '1.6' '0.2' 'setosa']\n",
      " ['4.8' '3.1' '1.6' '0.2' 'setosa']\n",
      " ['5.4' '3.4' '1.5' '0.4' 'setosa']\n",
      " ['5.2' '4.1' '1.5' '0.1' 'setosa']\n",
      " ['5.5' '4.2' '1.4' '0.2' 'setosa']\n",
      " ['4.9' '3.1' '1.5' '0.1' 'setosa']\n",
      " ['5' '3.2' '1.2' '0.2' 'setosa']\n",
      " ['5.5' '3.5' '1.3' '0.2' 'setosa']\n",
      " ['4.9' '3.1' '1.5' '0.1' 'setosa']\n",
      " ['4.4' '3' '1.3' '0.2' 'setosa']\n",
      " ['5.1' '3.4' '1.5' '0.2' 'setosa']\n",
      " ['5' '3.5' '1.3' '0.3' 'setosa']\n",
      " ['4.5' '2.3' '1.3' '0.3' 'setosa']\n",
      " ['4.4' '3.2' '1.3' '0.2' 'setosa']\n",
      " ['5' '3.5' '1.6' '0.6' 'setosa']\n",
      " ['5.1' '3.8' '1.9' '0.4' 'setosa']\n",
      " ['4.8' '3' '1.4' '0.3' 'setosa']\n",
      " ['5.1' '3.8' '1.6' '0.2' 'setosa']\n",
      " ['4.6' '3.2' '1.4' '0.2' 'setosa']\n",
      " ['5.3' '3.7' '1.5' '0.2' 'setosa']\n",
      " ['5' '3.3' '1.4' '0.2' 'setosa']\n",
      " ['7' '3.2' '4.7' '1.4' 'versicolor']\n",
      " ['6.4' '3.2' '4.5' '1.5' 'versicolor']\n",
      " ['6.9' '3.1' '4.9' '1.5' 'versicolor']\n",
      " ['5.5' '2.3' '4' '1.3' 'versicolor']\n",
      " ['6.5' '2.8' '4.6' '1.5' 'versicolor']\n",
      " ['5.7' '2.8' '4.5' '1.3' 'versicolor']\n",
      " ['6.3' '3.3' '4.7' '1.6' 'versicolor']\n",
      " ['4.9' '2.4' '3.3' '1' 'versicolor']\n",
      " ['6.6' '2.9' '4.6' '1.3' 'versicolor']\n",
      " ['5.2' '2.7' '3.9' '1.4' 'versicolor']\n",
      " ['5' '2' '3.5' '1' 'versicolor']\n",
      " ['5.9' '3' '4.2' '1.5' 'versicolor']\n",
      " ['6' '2.2' '4' '1' 'versicolor']\n",
      " ['6.1' '2.9' '4.7' '1.4' 'versicolor']\n",
      " ['5.6' '2.9' '3.6' '1.3' 'versicolor']\n",
      " ['6.7' '3.1' '4.4' '1.4' 'versicolor']\n",
      " ['5.6' '3' '4.5' '1.5' 'versicolor']\n",
      " ['5.8' '2.7' '4.1' '1' 'versicolor']\n",
      " ['6.2' '2.2' '4.5' '1.5' 'versicolor']\n",
      " ['5.6' '2.5' '3.9' '1.1' 'versicolor']\n",
      " ['5.9' '3.2' '4.8' '1.8' 'versicolor']\n",
      " ['6.1' '2.8' '4' '1.3' 'versicolor']\n",
      " ['6.3' '2.5' '4.9' '1.5' 'versicolor']\n",
      " ['6.1' '2.8' '4.7' '1.2' 'versicolor']\n",
      " ['6.4' '2.9' '4.3' '1.3' 'versicolor']\n",
      " ['6.6' '3' '4.4' '1.4' 'versicolor']\n",
      " ['6.8' '2.8' '4.8' '1.4' 'versicolor']\n",
      " ['6.7' '3' '5' '1.7' 'versicolor']\n",
      " ['6' '2.9' '4.5' '1.5' 'versicolor']\n",
      " ['5.7' '2.6' '3.5' '1' 'versicolor']\n",
      " ['5.5' '2.4' '3.8' '1.1' 'versicolor']\n",
      " ['5.5' '2.4' '3.7' '1' 'versicolor']\n",
      " ['5.8' '2.7' '3.9' '1.2' 'versicolor']\n",
      " ['6' '2.7' '5.1' '1.6' 'versicolor']\n",
      " ['5.4' '3' '4.5' '1.5' 'versicolor']\n",
      " ['6' '3.4' '4.5' '1.6' 'versicolor']\n",
      " ['6.7' '3.1' '4.7' '1.5' 'versicolor']\n",
      " ['6.3' '2.3' '4.4' '1.3' 'versicolor']\n",
      " ['5.6' '3' '4.1' '1.3' 'versicolor']\n",
      " ['5.5' '2.5' '4' '1.3' 'versicolor']\n",
      " ['5.5' '2.6' '4.4' '1.2' 'versicolor']\n",
      " ['6.1' '3' '4.6' '1.4' 'versicolor']\n",
      " ['5.8' '2.6' '4' '1.2' 'versicolor']\n",
      " ['5' '2.3' '3.3' '1' 'versicolor']\n",
      " ['5.6' '2.7' '4.2' '1.3' 'versicolor']\n",
      " ['5.7' '3' '4.2' '1.2' 'versicolor']\n",
      " ['5.7' '2.9' '4.2' '1.3' 'versicolor']\n",
      " ['6.2' '2.9' '4.3' '1.3' 'versicolor']\n",
      " ['5.1' '2.5' '3' '1.1' 'versicolor']\n",
      " ['5.7' '2.8' '4.1' '1.3' 'versicolor']\n",
      " ['6.3' '3.3' '6' '2.5' 'virginica']\n",
      " ['5.8' '2.7' '5.1' '1.9' 'virginica']\n",
      " ['7.1' '3' '5.9' '2.1' 'virginica']\n",
      " ['6.3' '2.9' '5.6' '1.8' 'virginica']\n",
      " ['6.5' '3' '5.8' '2.2' 'virginica']\n",
      " ['7.6' '3' '6.6' '2.1' 'virginica']\n",
      " ['4.9' '2.5' '4.5' '1.7' 'virginica']\n",
      " ['7.3' '2.9' '6.3' '1.8' 'virginica']\n",
      " ['6.7' '2.5' '5.8' '1.8' 'virginica']\n",
      " ['7.2' '3.6' '6.1' '2.5' 'virginica']\n",
      " ['6.5' '3.2' '5.1' '2' 'virginica']\n",
      " ['6.4' '2.7' '5.3' '1.9' 'virginica']\n",
      " ['6.8' '3' '5.5' '2.1' 'virginica']\n",
      " ['5.7' '2.5' '5' '2' 'virginica']\n",
      " ['5.8' '2.8' '5.1' '2.4' 'virginica']\n",
      " ['6.4' '3.2' '5.3' '2.3' 'virginica']\n",
      " ['6.5' '3' '5.5' '1.8' 'virginica']\n",
      " ['7.7' '3.8' '6.7' '2.2' 'virginica']\n",
      " ['7.7' '2.6' '6.9' '2.3' 'virginica']\n",
      " ['6' '2.2' '5' '1.5' 'virginica']\n",
      " ['6.9' '3.2' '5.7' '2.3' 'virginica']\n",
      " ['5.6' '2.8' '4.9' '2' 'virginica']\n",
      " ['7.7' '2.8' '6.7' '2' 'virginica']\n",
      " ['6.3' '2.7' '4.9' '1.8' 'virginica']\n",
      " ['6.7' '3.3' '5.7' '2.1' 'virginica']\n",
      " ['7.2' '3.2' '6' '1.8' 'virginica']\n",
      " ['6.2' '2.8' '4.8' '1.8' 'virginica']\n",
      " ['6.1' '3' '4.9' '1.8' 'virginica']\n",
      " ['6.4' '2.8' '5.6' '2.1' 'virginica']\n",
      " ['7.2' '3' '5.8' '1.6' 'virginica']\n",
      " ['7.4' '2.8' '6.1' '1.9' 'virginica']\n",
      " ['7.9' '3.8' '6.4' '2' 'virginica']\n",
      " ['6.4' '2.8' '5.6' '2.2' 'virginica']\n",
      " ['6.3' '2.8' '5.1' '1.5' 'virginica']\n",
      " ['6.1' '2.6' '5.6' '1.4' 'virginica']\n",
      " ['7.7' '3' '6.1' '2.3' 'virginica']\n",
      " ['6.3' '3.4' '5.6' '2.4' 'virginica']\n",
      " ['6.4' '3.1' '5.5' '1.8' 'virginica']\n",
      " ['6' '3' '4.8' '1.8' 'virginica']\n",
      " ['6.9' '3.1' '5.4' '2.1' 'virginica']\n",
      " ['6.7' '3.1' '5.6' '2.4' 'virginica']\n",
      " ['6.9' '3.1' '5.1' '2.3' 'virginica']\n",
      " ['5.8' '2.7' '5.1' '1.9' 'virginica']\n",
      " ['6.8' '3.2' '5.9' '2.3' 'virginica']\n",
      " ['6.7' '3.3' '5.7' '2.5' 'virginica']\n",
      " ['6.7' '3' '5.2' '2.3' 'virginica']\n",
      " ['6.3' '2.5' '5' '1.9' 'virginica']\n",
      " ['6.5' '3' '5.2' '2' 'virginica']\n",
      " ['6.2' '3.4' '5.4' '2.3' 'virginica']\n",
      " ['5.9' '3' '5.1' '1.8' 'virginica']]\n"
     ]
    }
   ],
   "source": [
    "import csv\n",
    "csv_file_object = csv.reader(open('../input/iris.csv', newline=''), delimiter=',')\n",
    "\n",
    "data=[]\n",
    "header = next(csv_file_object) #\n",
    "for row in csv_file_object:  \n",
    "    data.append(row)  # add each row to the \n",
    "data = np.array(data)\n",
    "print(data)"
   ]
  },
  {
   "cell_type": "markdown",
   "metadata": {
    "slideshow": {
     "slide_type": "subslide"
    }
   },
   "source": [
    "## Slicing 2 Dimensional Numpy Arrays\n",
    "- We can slice arrays with `array[row, column]` were row and column each include the (start:stop:step) like in arrays\n",
    "- We can sepecify the type with the `.astype(np.float_)`\n",
    "- For a full list of Numpy types, see [documentation](http://docs.scipy.org/doc/numpy-1.10.1/user/basics.types.html)\n",
    "- If we create a one dimensional array from 2 dimensional numpy array, it will also be a numpy array of same type.\n"
   ]
  },
  {
   "cell_type": "code",
   "execution_count": 16,
   "metadata": {},
   "outputs": [
    {
     "name": "stdout",
     "output_type": "stream",
     "text": [
      "[[ 5.1  3.5  1.4  0.2]\n",
      " [ 4.9  3.   1.4  0.2]\n",
      " [ 4.7  3.2  1.3  0.2]\n",
      " [ 4.6  3.1  1.5  0.2]\n",
      " [ 5.   3.6  1.4  0.2]\n",
      " [ 5.4  3.9  1.7  0.4]\n",
      " [ 4.6  3.4  1.4  0.3]\n",
      " [ 5.   3.4  1.5  0.2]\n",
      " [ 4.4  2.9  1.4  0.2]\n",
      " [ 4.9  3.1  1.5  0.1]\n",
      " [ 5.4  3.7  1.5  0.2]\n",
      " [ 4.8  3.4  1.6  0.2]\n",
      " [ 4.8  3.   1.4  0.1]\n",
      " [ 4.3  3.   1.1  0.1]\n",
      " [ 5.8  4.   1.2  0.2]\n",
      " [ 5.7  4.4  1.5  0.4]\n",
      " [ 5.4  3.9  1.3  0.4]\n",
      " [ 5.1  3.5  1.4  0.3]\n",
      " [ 5.7  3.8  1.7  0.3]\n",
      " [ 5.1  3.8  1.5  0.3]\n",
      " [ 5.4  3.4  1.7  0.2]\n",
      " [ 5.1  3.7  1.5  0.4]\n",
      " [ 4.6  3.6  1.   0.2]\n",
      " [ 5.1  3.3  1.7  0.5]\n",
      " [ 4.8  3.4  1.9  0.2]\n",
      " [ 5.   3.   1.6  0.2]\n",
      " [ 5.   3.4  1.6  0.4]\n",
      " [ 5.2  3.5  1.5  0.2]\n",
      " [ 5.2  3.4  1.4  0.2]\n",
      " [ 4.7  3.2  1.6  0.2]\n",
      " [ 4.8  3.1  1.6  0.2]\n",
      " [ 5.4  3.4  1.5  0.4]\n",
      " [ 5.2  4.1  1.5  0.1]\n",
      " [ 5.5  4.2  1.4  0.2]\n",
      " [ 4.9  3.1  1.5  0.1]\n",
      " [ 5.   3.2  1.2  0.2]\n",
      " [ 5.5  3.5  1.3  0.2]\n",
      " [ 4.9  3.1  1.5  0.1]\n",
      " [ 4.4  3.   1.3  0.2]\n",
      " [ 5.1  3.4  1.5  0.2]\n",
      " [ 5.   3.5  1.3  0.3]\n",
      " [ 4.5  2.3  1.3  0.3]\n",
      " [ 4.4  3.2  1.3  0.2]\n",
      " [ 5.   3.5  1.6  0.6]\n",
      " [ 5.1  3.8  1.9  0.4]\n",
      " [ 4.8  3.   1.4  0.3]\n",
      " [ 5.1  3.8  1.6  0.2]\n",
      " [ 4.6  3.2  1.4  0.2]\n",
      " [ 5.3  3.7  1.5  0.2]\n",
      " [ 5.   3.3  1.4  0.2]\n",
      " [ 7.   3.2  4.7  1.4]\n",
      " [ 6.4  3.2  4.5  1.5]\n",
      " [ 6.9  3.1  4.9  1.5]\n",
      " [ 5.5  2.3  4.   1.3]\n",
      " [ 6.5  2.8  4.6  1.5]\n",
      " [ 5.7  2.8  4.5  1.3]\n",
      " [ 6.3  3.3  4.7  1.6]\n",
      " [ 4.9  2.4  3.3  1. ]\n",
      " [ 6.6  2.9  4.6  1.3]\n",
      " [ 5.2  2.7  3.9  1.4]\n",
      " [ 5.   2.   3.5  1. ]\n",
      " [ 5.9  3.   4.2  1.5]\n",
      " [ 6.   2.2  4.   1. ]\n",
      " [ 6.1  2.9  4.7  1.4]\n",
      " [ 5.6  2.9  3.6  1.3]\n",
      " [ 6.7  3.1  4.4  1.4]\n",
      " [ 5.6  3.   4.5  1.5]\n",
      " [ 5.8  2.7  4.1  1. ]\n",
      " [ 6.2  2.2  4.5  1.5]\n",
      " [ 5.6  2.5  3.9  1.1]\n",
      " [ 5.9  3.2  4.8  1.8]\n",
      " [ 6.1  2.8  4.   1.3]\n",
      " [ 6.3  2.5  4.9  1.5]\n",
      " [ 6.1  2.8  4.7  1.2]\n",
      " [ 6.4  2.9  4.3  1.3]\n",
      " [ 6.6  3.   4.4  1.4]\n",
      " [ 6.8  2.8  4.8  1.4]\n",
      " [ 6.7  3.   5.   1.7]\n",
      " [ 6.   2.9  4.5  1.5]\n",
      " [ 5.7  2.6  3.5  1. ]\n",
      " [ 5.5  2.4  3.8  1.1]\n",
      " [ 5.5  2.4  3.7  1. ]\n",
      " [ 5.8  2.7  3.9  1.2]\n",
      " [ 6.   2.7  5.1  1.6]\n",
      " [ 5.4  3.   4.5  1.5]\n",
      " [ 6.   3.4  4.5  1.6]\n",
      " [ 6.7  3.1  4.7  1.5]\n",
      " [ 6.3  2.3  4.4  1.3]\n",
      " [ 5.6  3.   4.1  1.3]\n",
      " [ 5.5  2.5  4.   1.3]\n",
      " [ 5.5  2.6  4.4  1.2]\n",
      " [ 6.1  3.   4.6  1.4]\n",
      " [ 5.8  2.6  4.   1.2]\n",
      " [ 5.   2.3  3.3  1. ]\n",
      " [ 5.6  2.7  4.2  1.3]\n",
      " [ 5.7  3.   4.2  1.2]\n",
      " [ 5.7  2.9  4.2  1.3]\n",
      " [ 6.2  2.9  4.3  1.3]\n",
      " [ 5.1  2.5  3.   1.1]\n",
      " [ 5.7  2.8  4.1  1.3]\n",
      " [ 6.3  3.3  6.   2.5]\n",
      " [ 5.8  2.7  5.1  1.9]\n",
      " [ 7.1  3.   5.9  2.1]\n",
      " [ 6.3  2.9  5.6  1.8]\n",
      " [ 6.5  3.   5.8  2.2]\n",
      " [ 7.6  3.   6.6  2.1]\n",
      " [ 4.9  2.5  4.5  1.7]\n",
      " [ 7.3  2.9  6.3  1.8]\n",
      " [ 6.7  2.5  5.8  1.8]\n",
      " [ 7.2  3.6  6.1  2.5]\n",
      " [ 6.5  3.2  5.1  2. ]\n",
      " [ 6.4  2.7  5.3  1.9]\n",
      " [ 6.8  3.   5.5  2.1]\n",
      " [ 5.7  2.5  5.   2. ]\n",
      " [ 5.8  2.8  5.1  2.4]\n",
      " [ 6.4  3.2  5.3  2.3]\n",
      " [ 6.5  3.   5.5  1.8]\n",
      " [ 7.7  3.8  6.7  2.2]\n",
      " [ 7.7  2.6  6.9  2.3]\n",
      " [ 6.   2.2  5.   1.5]\n",
      " [ 6.9  3.2  5.7  2.3]\n",
      " [ 5.6  2.8  4.9  2. ]\n",
      " [ 7.7  2.8  6.7  2. ]\n",
      " [ 6.3  2.7  4.9  1.8]\n",
      " [ 6.7  3.3  5.7  2.1]\n",
      " [ 7.2  3.2  6.   1.8]\n",
      " [ 6.2  2.8  4.8  1.8]\n",
      " [ 6.1  3.   4.9  1.8]\n",
      " [ 6.4  2.8  5.6  2.1]\n",
      " [ 7.2  3.   5.8  1.6]\n",
      " [ 7.4  2.8  6.1  1.9]\n",
      " [ 7.9  3.8  6.4  2. ]\n",
      " [ 6.4  2.8  5.6  2.2]\n",
      " [ 6.3  2.8  5.1  1.5]\n",
      " [ 6.1  2.6  5.6  1.4]\n",
      " [ 7.7  3.   6.1  2.3]\n",
      " [ 6.3  3.4  5.6  2.4]\n",
      " [ 6.4  3.1  5.5  1.8]\n",
      " [ 6.   3.   4.8  1.8]\n",
      " [ 6.9  3.1  5.4  2.1]\n",
      " [ 6.7  3.1  5.6  2.4]\n",
      " [ 6.9  3.1  5.1  2.3]\n",
      " [ 5.8  2.7  5.1  1.9]\n",
      " [ 6.8  3.2  5.9  2.3]\n",
      " [ 6.7  3.3  5.7  2.5]\n",
      " [ 6.7  3.   5.2  2.3]\n",
      " [ 6.3  2.5  5.   1.9]\n",
      " [ 6.5  3.   5.2  2. ]\n",
      " [ 6.2  3.4  5.4  2.3]\n",
      " [ 5.9  3.   5.1  1.8]] \n",
      " [['setosa']\n",
      " ['setosa']\n",
      " ['setosa']\n",
      " ['setosa']\n",
      " ['setosa']\n",
      " ['setosa']\n",
      " ['setosa']\n",
      " ['setosa']\n",
      " ['setosa']\n",
      " ['setosa']\n",
      " ['setosa']\n",
      " ['setosa']\n",
      " ['setosa']\n",
      " ['setosa']\n",
      " ['setosa']\n",
      " ['setosa']\n",
      " ['setosa']\n",
      " ['setosa']\n",
      " ['setosa']\n",
      " ['setosa']\n",
      " ['setosa']\n",
      " ['setosa']\n",
      " ['setosa']\n",
      " ['setosa']\n",
      " ['setosa']\n",
      " ['setosa']\n",
      " ['setosa']\n",
      " ['setosa']\n",
      " ['setosa']\n",
      " ['setosa']\n",
      " ['setosa']\n",
      " ['setosa']\n",
      " ['setosa']\n",
      " ['setosa']\n",
      " ['setosa']\n",
      " ['setosa']\n",
      " ['setosa']\n",
      " ['setosa']\n",
      " ['setosa']\n",
      " ['setosa']\n",
      " ['setosa']\n",
      " ['setosa']\n",
      " ['setosa']\n",
      " ['setosa']\n",
      " ['setosa']\n",
      " ['setosa']\n",
      " ['setosa']\n",
      " ['setosa']\n",
      " ['setosa']\n",
      " ['setosa']\n",
      " ['versicolor']\n",
      " ['versicolor']\n",
      " ['versicolor']\n",
      " ['versicolor']\n",
      " ['versicolor']\n",
      " ['versicolor']\n",
      " ['versicolor']\n",
      " ['versicolor']\n",
      " ['versicolor']\n",
      " ['versicolor']\n",
      " ['versicolor']\n",
      " ['versicolor']\n",
      " ['versicolor']\n",
      " ['versicolor']\n",
      " ['versicolor']\n",
      " ['versicolor']\n",
      " ['versicolor']\n",
      " ['versicolor']\n",
      " ['versicolor']\n",
      " ['versicolor']\n",
      " ['versicolor']\n",
      " ['versicolor']\n",
      " ['versicolor']\n",
      " ['versicolor']\n",
      " ['versicolor']\n",
      " ['versicolor']\n",
      " ['versicolor']\n",
      " ['versicolor']\n",
      " ['versicolor']\n",
      " ['versicolor']\n",
      " ['versicolor']\n",
      " ['versicolor']\n",
      " ['versicolor']\n",
      " ['versicolor']\n",
      " ['versicolor']\n",
      " ['versicolor']\n",
      " ['versicolor']\n",
      " ['versicolor']\n",
      " ['versicolor']\n",
      " ['versicolor']\n",
      " ['versicolor']\n",
      " ['versicolor']\n",
      " ['versicolor']\n",
      " ['versicolor']\n",
      " ['versicolor']\n",
      " ['versicolor']\n",
      " ['versicolor']\n",
      " ['versicolor']\n",
      " ['versicolor']\n",
      " ['versicolor']\n",
      " ['virginica']\n",
      " ['virginica']\n",
      " ['virginica']\n",
      " ['virginica']\n",
      " ['virginica']\n",
      " ['virginica']\n",
      " ['virginica']\n",
      " ['virginica']\n",
      " ['virginica']\n",
      " ['virginica']\n",
      " ['virginica']\n",
      " ['virginica']\n",
      " ['virginica']\n",
      " ['virginica']\n",
      " ['virginica']\n",
      " ['virginica']\n",
      " ['virginica']\n",
      " ['virginica']\n",
      " ['virginica']\n",
      " ['virginica']\n",
      " ['virginica']\n",
      " ['virginica']\n",
      " ['virginica']\n",
      " ['virginica']\n",
      " ['virginica']\n",
      " ['virginica']\n",
      " ['virginica']\n",
      " ['virginica']\n",
      " ['virginica']\n",
      " ['virginica']\n",
      " ['virginica']\n",
      " ['virginica']\n",
      " ['virginica']\n",
      " ['virginica']\n",
      " ['virginica']\n",
      " ['virginica']\n",
      " ['virginica']\n",
      " ['virginica']\n",
      " ['virginica']\n",
      " ['virginica']\n",
      " ['virginica']\n",
      " ['virginica']\n",
      " ['virginica']\n",
      " ['virginica']\n",
      " ['virginica']\n",
      " ['virginica']\n",
      " ['virginica']\n",
      " ['virginica']\n",
      " ['virginica']\n",
      " ['virginica']]\n"
     ]
    }
   ],
   "source": [
    "#We can slice the array several different ways and generate new variables.\n",
    "\n",
    "irisdata=data[0::,0:4:].astype(np.float_)  #This will select only the first 4 columns and change the type to float\n",
    "irisdata=data[:,0:4].astype(np.float_)\n",
    "iristype=data[0::,4:5:] # This will select only the type. \n",
    "print(irisdata,'\\n',iristype)"
   ]
  },
  {
   "cell_type": "code",
   "execution_count": 19,
   "metadata": {
    "slideshow": {
     "slide_type": "subslide"
    }
   },
   "outputs": [
    {
     "name": "stdout",
     "output_type": "stream",
     "text": [
      "876.5\n"
     ]
    }
   ],
   "source": [
    "#This can be used to select column 1 and assign to new variable. \n",
    "#This will sum up column 1\n",
    "newvariable=irisdata[::,0:1:]\n",
    "\n",
    "#This will sum up column 0\n",
    "final=irisdata[::,0:1:].sum()\n",
    "\n",
    "type(newvariable)\n",
    "#print(newvariable)\n",
    "print(final)"
   ]
  },
  {
   "cell_type": "code",
   "execution_count": 15,
   "metadata": {
    "slideshow": {
     "slide_type": "subslide"
    }
   },
   "outputs": [
    {
     "name": "stdout",
     "output_type": "stream",
     "text": [
      "mean: 5.84333333333\n"
     ]
    }
   ],
   "source": [
    "#This will take the mean of column 1\n",
    "print('mean:', irisdata[::,0:1:].mean())"
   ]
  },
  {
   "cell_type": "markdown",
   "metadata": {
    "slideshow": {
     "slide_type": "subslide"
    }
   },
   "source": [
    "## CREDITS\n",
    "\n",
    "\n",
    "Copyright [AnalyticsDojo](http://rpi.analyticsdojo.com) 2016\n",
    "This work is licensed under the [Creative Commons Attribution 4.0 International](https://creativecommons.org/licenses/by/4.0/) license agreement.\n",
    "\n"
   ]
  },
  {
   "cell_type": "code",
   "execution_count": null,
   "metadata": {
    "collapsed": true
   },
   "outputs": [],
   "source": []
  }
 ],
 "metadata": {
  "anaconda-cloud": {},
  "celltoolbar": "Slideshow",
  "kernelspec": {
   "display_name": "Python 3",
   "language": "python",
   "name": "python3"
  },
  "language_info": {
   "codemirror_mode": {
    "name": "ipython",
    "version": 3
   },
   "file_extension": ".py",
   "mimetype": "text/x-python",
   "name": "python",
   "nbconvert_exporter": "python",
   "pygments_lexer": "ipython3",
   "version": "3.6.3"
  }
 },
 "nbformat": 4,
 "nbformat_minor": 2
}
