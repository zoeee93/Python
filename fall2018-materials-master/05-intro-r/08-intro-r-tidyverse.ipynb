{
 "cells": [
  {
   "cell_type": "markdown",
   "metadata": {
    "slideshow": {
     "slide_type": "slide"
    }
   },
   "source": [
    "[![AnalyticsDojo](https://s3.amazonaws.com/analyticsdojo/logo/final-logo.png)](http://rpi.analyticsdojo.com)\n",
    "<center><h1>Introduction to R - Tidyverse </h1></center>\n",
    "<center><h3><a href = 'http://rpi.analyticsdojo.com'>rpi.analyticsdojo.com</a></h3></center>"
   ]
  },
  {
   "cell_type": "markdown",
   "metadata": {},
   "source": [
    "## Overview\n",
    "\n",
    "> It is often said that 80% of data analysis is spent on the process of cleaning and preparing the data. (Dasu and Johnson, 2003)\n",
    "\n",
    "Thus before you can even get to doing any sort of sophisticated analysis or plotting, you'll generally first need to: \n",
    "\n",
    "1. ***Manipulating*** data frames, e.g. filtering, summarizing, and conducting calculations across groups.\n",
    "2. ***Tidying*** data into the appropriate format\n",
    "\n"
   ]
  },
  {
   "cell_type": "markdown",
   "metadata": {
    "slideshow": {
     "slide_type": "subslide"
    }
   },
   "source": [
    "# What is the Tidyverse?"
   ]
  },
  {
   "cell_type": "markdown",
   "metadata": {
    "slideshow": {
     "slide_type": "subslide"
    }
   },
   "source": [
    "## Tidyverse\n",
    "- \"The tidyverse is a set of packages that work in harmony because they share common data representations and API design.\" -Hadley Wickham\n",
    "- The variety of packages include `dplyr`, `tibble`, `tidyr`, `readr`, `purrr` (and more).\n"
   ]
  },
  {
   "cell_type": "markdown",
   "metadata": {},
   "source": [
    "![](http://r4ds.had.co.nz/diagrams/data-science-explore.png)\n",
    "- From [R for Data Science](http://r4ds.had.co.nz/explore-intro.html) by [Hadley Wickham](https://github.com/hadley)"
   ]
  },
  {
   "cell_type": "markdown",
   "metadata": {},
   "source": [
    "## Schools of Thought\n",
    "\n",
    "There are two competing schools of thought within the R community.\n",
    "\n",
    "* We should stick to the base R functions to do manipulating and tidying; `tidyverse` uses syntax that's unlike base R and is superfluous.\n",
    "* We should start teaching students to manipulate data using `tidyverse` tools because they are straightfoward to use, more readable than base R, and speed up the tidying process.\n",
    "\n",
    "We'll show you some of the `tidyverse` tools so you can make an informed decision about whether you want to use base R or these newfangled packages."
   ]
  },
  {
   "cell_type": "markdown",
   "metadata": {},
   "source": [
    "## Dataframe Manipulation using Base R Functions\n",
    "\n",
    "- So far, you’ve seen the basics of manipulating data frames, e.g. subsetting, merging, and basic calculations. \n",
    "- For instance, we can use base R functions to calculate summary statistics across groups of observations,\n",
    "- e.g. the mean GDP per capita within each region:\n"
   ]
  },
  {
   "cell_type": "code",
   "execution_count": 20,
   "metadata": {},
   "outputs": [
    {
     "data": {
      "text/html": [
       "<table>\n",
       "<thead><tr><th scope=col>country</th><th scope=col>year</th><th scope=col>pop</th><th scope=col>continent</th><th scope=col>lifeExp</th><th scope=col>gdpPercap</th></tr></thead>\n",
       "<tbody>\n",
       "\t<tr><td>Afghanistan</td><td>1952       </td><td> 8425333   </td><td>Asia       </td><td>28.801     </td><td>779.4453   </td></tr>\n",
       "\t<tr><td>Afghanistan</td><td>1957       </td><td> 9240934   </td><td>Asia       </td><td>30.332     </td><td>820.8530   </td></tr>\n",
       "\t<tr><td>Afghanistan</td><td>1962       </td><td>10267083   </td><td>Asia       </td><td>31.997     </td><td>853.1007   </td></tr>\n",
       "\t<tr><td>Afghanistan</td><td>1967       </td><td>11537966   </td><td>Asia       </td><td>34.020     </td><td>836.1971   </td></tr>\n",
       "\t<tr><td>Afghanistan</td><td>1972       </td><td>13079460   </td><td>Asia       </td><td>36.088     </td><td>739.9811   </td></tr>\n",
       "\t<tr><td>Afghanistan</td><td>1977       </td><td>14880372   </td><td>Asia       </td><td>38.438     </td><td>786.1134   </td></tr>\n",
       "</tbody>\n",
       "</table>\n"
      ],
      "text/latex": [
       "\\begin{tabular}{r|llllll}\n",
       " country & year & pop & continent & lifeExp & gdpPercap\\\\\n",
       "\\hline\n",
       "\t Afghanistan & 1952        &  8425333    & Asia        & 28.801      & 779.4453   \\\\\n",
       "\t Afghanistan & 1957        &  9240934    & Asia        & 30.332      & 820.8530   \\\\\n",
       "\t Afghanistan & 1962        & 10267083    & Asia        & 31.997      & 853.1007   \\\\\n",
       "\t Afghanistan & 1967        & 11537966    & Asia        & 34.020      & 836.1971   \\\\\n",
       "\t Afghanistan & 1972        & 13079460    & Asia        & 36.088      & 739.9811   \\\\\n",
       "\t Afghanistan & 1977        & 14880372    & Asia        & 38.438      & 786.1134   \\\\\n",
       "\\end{tabular}\n"
      ],
      "text/markdown": [
       "\n",
       "country | year | pop | continent | lifeExp | gdpPercap | \n",
       "|---|---|---|---|---|---|\n",
       "| Afghanistan | 1952        |  8425333    | Asia        | 28.801      | 779.4453    | \n",
       "| Afghanistan | 1957        |  9240934    | Asia        | 30.332      | 820.8530    | \n",
       "| Afghanistan | 1962        | 10267083    | Asia        | 31.997      | 853.1007    | \n",
       "| Afghanistan | 1967        | 11537966    | Asia        | 34.020      | 836.1971    | \n",
       "| Afghanistan | 1972        | 13079460    | Asia        | 36.088      | 739.9811    | \n",
       "| Afghanistan | 1977        | 14880372    | Asia        | 38.438      | 786.1134    | \n",
       "\n",
       "\n"
      ],
      "text/plain": [
       "  country     year pop      continent lifeExp gdpPercap\n",
       "1 Afghanistan 1952  8425333 Asia      28.801  779.4453 \n",
       "2 Afghanistan 1957  9240934 Asia      30.332  820.8530 \n",
       "3 Afghanistan 1962 10267083 Asia      31.997  853.1007 \n",
       "4 Afghanistan 1967 11537966 Asia      34.020  836.1971 \n",
       "5 Afghanistan 1972 13079460 Asia      36.088  739.9811 \n",
       "6 Afghanistan 1977 14880372 Asia      38.438  786.1134 "
      ]
     },
     "metadata": {},
     "output_type": "display_data"
    }
   ],
   "source": [
    "gapminder <- read.csv(\"../input/gapminder-FiveYearData.csv\",\n",
    "          stringsAsFactors = TRUE)\n",
    "head(gapminder)"
   ]
  },
  {
   "cell_type": "markdown",
   "metadata": {},
   "source": [
    "## But this isn't ideal because it involves a fair bit of repetition. Repeating yourself will cost you time, both now and later, and potentially introduce some nasty bugs."
   ]
  },
  {
   "cell_type": "markdown",
   "metadata": {},
   "source": [
    "\n",
    "# Dataframe Manipulation using dplyr\n",
    "\n",
    "\n",
    "\n",
    "Here we're going to cover 6 of the most commonly used functions as well as using pipes (`%>%`) to combine them.\n",
    "\n",
    "1. `select()`\n",
    "2. `filter()`\n",
    "3. `group_by()`\n",
    "4. `summarize()`\n",
    "5. `mutate()`\n",
    "6. `arrange()`\n",
    "\n",
    "If you have have not installed this package earlier, please do so now:\n",
    "\n",
    "\n",
    "```r\n",
    "install.packages('dplyr')\n",
    "```"
   ]
  },
  {
   "cell_type": "markdown",
   "metadata": {},
   "source": [
    "## Dataframe Manipulation using `dplyr`\n",
    "\n",
    "Luckily, the [`dplyr`](https://cran.r-project.org/web/packages/dplyr/dplyr.pdf) package provides a number of very useful functions for manipulating dataframes. These functions will save you time by reducing repetition. As an added bonus, you might even find the `dplyr` grammar easier to read.\n",
    "\n",
    "- [\"A fast, consistent tool for working with data frame like objects, both in memory and out of memory.\"](https://cran.r-project.org/web/packages/dplyr/index.html)\n",
    "- Subset observations using their value with `filter()`.\n",
    "- Reorder rows using `arrange()`.\n",
    "- Select columns using  `select()`.\n",
    "- Recode variables useing `mutate()`.\n",
    "- Sumarize variables using `summarise()`."
   ]
  },
  {
   "cell_type": "code",
   "execution_count": 21,
   "metadata": {},
   "outputs": [],
   "source": [
    "#Now lets load some packages:\n",
    "library(dplyr)\n",
    "library(ggplot2)\n",
    "library(tidyverse)"
   ]
  },
  {
   "cell_type": "markdown",
   "metadata": {},
   "source": [
    "# dplyr select\n",
    "\n",
    "Imagine that we just received the gapminder dataset, but are only interested in a few variables in it. We could use the `select()` function to keep only the columns corresponding to variables we select.\n"
   ]
  },
  {
   "cell_type": "code",
   "execution_count": 22,
   "metadata": {},
   "outputs": [
    {
     "data": {
      "text/html": [
       "<table>\n",
       "<thead><tr><th scope=col>year</th><th scope=col>country</th><th scope=col>gdpPercap</th></tr></thead>\n",
       "<tbody>\n",
       "\t<tr><td>1952       </td><td>Afghanistan</td><td>779.4453   </td></tr>\n",
       "\t<tr><td>1957       </td><td>Afghanistan</td><td>820.8530   </td></tr>\n",
       "\t<tr><td>1962       </td><td>Afghanistan</td><td>853.1007   </td></tr>\n",
       "\t<tr><td>1967       </td><td>Afghanistan</td><td>836.1971   </td></tr>\n",
       "\t<tr><td>1972       </td><td>Afghanistan</td><td>739.9811   </td></tr>\n",
       "\t<tr><td>1977       </td><td>Afghanistan</td><td>786.1134   </td></tr>\n",
       "</tbody>\n",
       "</table>\n"
      ],
      "text/latex": [
       "\\begin{tabular}{r|lll}\n",
       " year & country & gdpPercap\\\\\n",
       "\\hline\n",
       "\t 1952        & Afghanistan & 779.4453   \\\\\n",
       "\t 1957        & Afghanistan & 820.8530   \\\\\n",
       "\t 1962        & Afghanistan & 853.1007   \\\\\n",
       "\t 1967        & Afghanistan & 836.1971   \\\\\n",
       "\t 1972        & Afghanistan & 739.9811   \\\\\n",
       "\t 1977        & Afghanistan & 786.1134   \\\\\n",
       "\\end{tabular}\n"
      ],
      "text/markdown": [
       "\n",
       "year | country | gdpPercap | \n",
       "|---|---|---|---|---|---|\n",
       "| 1952        | Afghanistan | 779.4453    | \n",
       "| 1957        | Afghanistan | 820.8530    | \n",
       "| 1962        | Afghanistan | 853.1007    | \n",
       "| 1967        | Afghanistan | 836.1971    | \n",
       "| 1972        | Afghanistan | 739.9811    | \n",
       "| 1977        | Afghanistan | 786.1134    | \n",
       "\n",
       "\n"
      ],
      "text/plain": [
       "  year country     gdpPercap\n",
       "1 1952 Afghanistan 779.4453 \n",
       "2 1957 Afghanistan 820.8530 \n",
       "3 1962 Afghanistan 853.1007 \n",
       "4 1967 Afghanistan 836.1971 \n",
       "5 1972 Afghanistan 739.9811 \n",
       "6 1977 Afghanistan 786.1134 "
      ]
     },
     "metadata": {},
     "output_type": "display_data"
    }
   ],
   "source": [
    "year_country_gdp <- select(gapminder, year, country, gdpPercap)\n",
    "head(year_country_gdp)"
   ]
  },
  {
   "cell_type": "markdown",
   "metadata": {},
   "source": [
    "## dplyr Piping\n",
    "- `%>%` Is used to help to write cleaner code.\n",
    "- It is loaded by default when running the `tidyverse`, but it comes from the `magrittr` package.\n",
    "- Input from one command is piped to another without saving directly in memory with an intermediate throwaway variable.\n",
    "-Since the pipe grammar is unlike anything we've seen in R before, let's repeat what we've done above using pipes."
   ]
  },
  {
   "cell_type": "code",
   "execution_count": 23,
   "metadata": {},
   "outputs": [],
   "source": [
    "year_country_gdp <- gapminder %>% select(year,country,gdpPercap)\n"
   ]
  },
  {
   "cell_type": "markdown",
   "metadata": {},
   "source": [
    "## dplyr filter\n",
    "\n",
    "Now let's say we're only interested in African countries. We can combine `select` and `filter` to select only the observations where `continent` is `Africa`.\n",
    "\n",
    "As with last time, first we pass the gapminder dataframe to the `filter()` function, then we pass the filtered version of the gapminder dataframe to the `select()` function.\n",
    "\n",
    "To clarify, both the `select` and `filter` functions subsets the data frame. The difference is that `select` extracts certain *columns*, while `filter` extracts certain *rows*.\n",
    "\n",
    "**Note:** The order of operations is very important in this case. If we used 'select' first, filter would not be able to find the variable `continent` since we would have removed it in the previous step.\n"
   ]
  },
  {
   "cell_type": "code",
   "execution_count": 24,
   "metadata": {},
   "outputs": [],
   "source": [
    "year_country_gdp_africa <- gapminder %>%\n",
    "    filter(continent == \"Africa\") %>%\n",
    "    select(year,country,gdpPercap)"
   ]
  },
  {
   "cell_type": "markdown",
   "metadata": {},
   "source": [
    "## dplyr Calculations Across Groups\n",
    "\n",
    "A common task you'll encounter when working with data is running calculations on different groups within the data. For instance, what if we wanted to calculate the mean GDP per capita for each continent?\n",
    "\n",
    "In base R, you would have to run the `mean()` function for each subset of data:\n"
   ]
  },
  {
   "cell_type": "code",
   "execution_count": 25,
   "metadata": {},
   "outputs": [
    {
     "data": {
      "text/html": [
       "2193.75457828574"
      ],
      "text/latex": [
       "2193.75457828574"
      ],
      "text/markdown": [
       "2193.75457828574"
      ],
      "text/plain": [
       "[1] 2193.755"
      ]
     },
     "metadata": {},
     "output_type": "display_data"
    },
    {
     "data": {
      "text/html": [
       "7136.11035559"
      ],
      "text/latex": [
       "7136.11035559"
      ],
      "text/markdown": [
       "7136.11035559"
      ],
      "text/plain": [
       "[1] 7136.11"
      ]
     },
     "metadata": {},
     "output_type": "display_data"
    },
    {
     "data": {
      "text/html": [
       "7902.15042805328"
      ],
      "text/latex": [
       "7902.15042805328"
      ],
      "text/markdown": [
       "7902.15042805328"
      ],
      "text/plain": [
       "[1] 7902.15"
      ]
     },
     "metadata": {},
     "output_type": "display_data"
    }
   ],
   "source": [
    "mean(gapminder[gapminder$continent == \"Africa\", \"gdpPercap\"])\n",
    "mean(gapminder[gapminder$continent == \"Americas\", \"gdpPercap\"])\n",
    "mean(gapminder[gapminder$continent == \"Asia\", \"gdpPercap\"])\n"
   ]
  },
  {
   "cell_type": "markdown",
   "metadata": {},
   "source": [
    "# dplyr split-apply-combine\n",
    "\n",
    "The abstract problem we're encountering here is know as \"split-apply-combine\":\n",
    "\n",
    "![](../fig/splitapply.png)\n",
    "\n",
    "We want to *split* our data into groups (in this case continents), *apply* some calculations on each group, then  *combine* the results together afterwards. \n",
    "\n",
    "Module 4 gave some ways to do split-apply-combine type stuff using the `apply` family of functions, but those are error prone and messy.\n",
    "\n",
    "Luckily, `dplyr` offers a much cleaner, straight-forward solution to this problem. \n",
    "\n",
    "\n",
    "```r\n",
    "# remove this column -- there are two easy ways!\n",
    "\n",
    "```"
   ]
  },
  {
   "cell_type": "markdown",
   "metadata": {},
   "source": [
    "## dplyr group_by\n",
    "\n",
    "We've already seen how `filter()` can help us select observations that meet certain criteria (in the above: `continent == \"Europe\"`). More helpful, however, is the `group_by()` function, which will essentially use every unique criteria that we could have used in `filter()`.\n",
    "\n",
    "A `grouped_df` can be thought of as a `list` where each item in the `list` is a `data.frame` which contains only the rows that correspond to the a particular value `continent` (at least in the example above).\n",
    "\n",
    "![](../fig/dplyr-fig2.png)\n"
   ]
  },
  {
   "cell_type": "code",
   "execution_count": 30,
   "metadata": {},
   "outputs": [
    {
     "data": {
      "text/html": [
       "<table>\n",
       "<thead><tr><th scope=col>continent</th><th scope=col>mean_gdpPercap</th></tr></thead>\n",
       "<tbody>\n",
       "\t<tr><td>Africa   </td><td> 2193.755</td></tr>\n",
       "\t<tr><td>Americas </td><td> 7136.110</td></tr>\n",
       "\t<tr><td>Asia     </td><td> 7902.150</td></tr>\n",
       "\t<tr><td>Europe   </td><td>14469.476</td></tr>\n",
       "\t<tr><td>Oceania  </td><td>18621.609</td></tr>\n",
       "</tbody>\n",
       "</table>\n"
      ],
      "text/latex": [
       "\\begin{tabular}{r|ll}\n",
       " continent & mean\\_gdpPercap\\\\\n",
       "\\hline\n",
       "\t Africa    &  2193.755\\\\\n",
       "\t Americas  &  7136.110\\\\\n",
       "\t Asia      &  7902.150\\\\\n",
       "\t Europe    & 14469.476\\\\\n",
       "\t Oceania   & 18621.609\\\\\n",
       "\\end{tabular}\n"
      ],
      "text/markdown": [
       "\n",
       "continent | mean_gdpPercap | \n",
       "|---|---|---|---|---|\n",
       "| Africa    |  2193.755 | \n",
       "| Americas  |  7136.110 | \n",
       "| Asia      |  7902.150 | \n",
       "| Europe    | 14469.476 | \n",
       "| Oceania   | 18621.609 | \n",
       "\n",
       "\n"
      ],
      "text/plain": [
       "  continent mean_gdpPercap\n",
       "1 Africa     2193.755     \n",
       "2 Americas   7136.110     \n",
       "3 Asia       7902.150     \n",
       "4 Europe    14469.476     \n",
       "5 Oceania   18621.609     "
      ]
     },
     "metadata": {},
     "output_type": "display_data"
    }
   ],
   "source": [
    "#Summarize returns a dataframe. \n",
    "gdp_bycontinents <- gapminder %>%\n",
    "    group_by(continent) %>%\n",
    "    summarize(mean_gdpPercap = mean(gdpPercap))\n",
    "head(gdp_bycontinents)"
   ]
  },
  {
   "cell_type": "markdown",
   "metadata": {},
   "source": [
    "![](../fig/dplyr-fig3.png)\n",
    "\n",
    "That allowed us to calculate the mean gdpPercap for each continent. But it gets even better -- the function `group_by()` allows us to group by multiple variables. Let's group by `year` and `continent`.\n",
    "\n"
   ]
  },
  {
   "cell_type": "code",
   "execution_count": 35,
   "metadata": {},
   "outputs": [
    {
     "data": {
      "text/html": [
       "<table>\n",
       "<thead><tr><th scope=col>continent</th><th scope=col>year</th><th scope=col>mean_gdpPercap</th></tr></thead>\n",
       "<tbody>\n",
       "\t<tr><td>Africa  </td><td>1952    </td><td>1252.572</td></tr>\n",
       "\t<tr><td>Africa  </td><td>1957    </td><td>1385.236</td></tr>\n",
       "\t<tr><td>Africa  </td><td>1962    </td><td>1598.079</td></tr>\n",
       "\t<tr><td>Africa  </td><td>1967    </td><td>2050.364</td></tr>\n",
       "\t<tr><td>Africa  </td><td>1972    </td><td>2339.616</td></tr>\n",
       "\t<tr><td>Africa  </td><td>1977    </td><td>2585.939</td></tr>\n",
       "</tbody>\n",
       "</table>\n"
      ],
      "text/latex": [
       "\\begin{tabular}{r|lll}\n",
       " continent & year & mean\\_gdpPercap\\\\\n",
       "\\hline\n",
       "\t Africa   & 1952     & 1252.572\\\\\n",
       "\t Africa   & 1957     & 1385.236\\\\\n",
       "\t Africa   & 1962     & 1598.079\\\\\n",
       "\t Africa   & 1967     & 2050.364\\\\\n",
       "\t Africa   & 1972     & 2339.616\\\\\n",
       "\t Africa   & 1977     & 2585.939\\\\\n",
       "\\end{tabular}\n"
      ],
      "text/markdown": [
       "\n",
       "continent | year | mean_gdpPercap | \n",
       "|---|---|---|---|---|---|\n",
       "| Africa   | 1952     | 1252.572 | \n",
       "| Africa   | 1957     | 1385.236 | \n",
       "| Africa   | 1962     | 1598.079 | \n",
       "| Africa   | 1967     | 2050.364 | \n",
       "| Africa   | 1972     | 2339.616 | \n",
       "| Africa   | 1977     | 2585.939 | \n",
       "\n",
       "\n"
      ],
      "text/plain": [
       "  continent year mean_gdpPercap\n",
       "1 Africa    1952 1252.572      \n",
       "2 Africa    1957 1385.236      \n",
       "3 Africa    1962 1598.079      \n",
       "4 Africa    1967 2050.364      \n",
       "5 Africa    1972 2339.616      \n",
       "6 Africa    1977 2585.939      "
      ]
     },
     "metadata": {},
     "output_type": "display_data"
    }
   ],
   "source": [
    "gdp_bycontinents_byyear <- gapminder %>%\n",
    "    group_by(continent, year) %>%\n",
    "    summarize(mean_gdpPercap = mean(gdpPercap))\n",
    "head(gdp_bycontinents_byyear)"
   ]
  },
  {
   "cell_type": "code",
   "execution_count": 8,
   "metadata": {},
   "outputs": [
    {
     "data": {
      "text/html": [
       "<table>\n",
       "<thead><tr><th scope=col>manufacturer</th><th scope=col>model</th><th scope=col>displ</th><th scope=col>year</th><th scope=col>cyl</th><th scope=col>trans</th><th scope=col>drv</th><th scope=col>cty</th><th scope=col>hwy</th><th scope=col>fl</th><th scope=col>class</th></tr></thead>\n",
       "<tbody>\n",
       "\t<tr><td>audi              </td><td>a4                </td><td>1.8               </td><td>1999              </td><td>4                 </td><td>auto(l5)          </td><td>f                 </td><td>18                </td><td>29                </td><td>p                 </td><td>compact           </td></tr>\n",
       "\t<tr><td>audi              </td><td>a4                </td><td>1.8               </td><td>1999              </td><td>4                 </td><td>manual(m5)        </td><td>f                 </td><td>21                </td><td>29                </td><td>p                 </td><td>compact           </td></tr>\n",
       "\t<tr><td>audi              </td><td>a4                </td><td>2.0               </td><td>2008              </td><td>4                 </td><td>manual(m6)        </td><td>f                 </td><td>20                </td><td>31                </td><td>p                 </td><td>compact           </td></tr>\n",
       "\t<tr><td>audi              </td><td>a4                </td><td>2.0               </td><td>2008              </td><td>4                 </td><td>auto(av)          </td><td>f                 </td><td>21                </td><td>30                </td><td>p                 </td><td>compact           </td></tr>\n",
       "\t<tr><td>audi              </td><td>a4                </td><td>2.8               </td><td>1999              </td><td>6                 </td><td>auto(l5)          </td><td>f                 </td><td>16                </td><td>26                </td><td>p                 </td><td>compact           </td></tr>\n",
       "\t<tr><td>audi              </td><td>a4                </td><td>2.8               </td><td>1999              </td><td>6                 </td><td>manual(m5)        </td><td>f                 </td><td>18                </td><td>26                </td><td>p                 </td><td>compact           </td></tr>\n",
       "\t<tr><td>audi              </td><td>a4                </td><td>3.1               </td><td>2008              </td><td>6                 </td><td>auto(av)          </td><td>f                 </td><td>18                </td><td>27                </td><td>p                 </td><td>compact           </td></tr>\n",
       "\t<tr><td>audi              </td><td>a4 quattro        </td><td>1.8               </td><td>1999              </td><td>4                 </td><td>manual(m5)        </td><td>4                 </td><td>18                </td><td>26                </td><td>p                 </td><td>compact           </td></tr>\n",
       "\t<tr><td>audi              </td><td>a4 quattro        </td><td>1.8               </td><td>1999              </td><td>4                 </td><td>auto(l5)          </td><td>4                 </td><td>16                </td><td>25                </td><td>p                 </td><td>compact           </td></tr>\n",
       "\t<tr><td>audi              </td><td>a4 quattro        </td><td>2.0               </td><td>2008              </td><td>4                 </td><td>manual(m6)        </td><td>4                 </td><td>20                </td><td>28                </td><td>p                 </td><td>compact           </td></tr>\n",
       "\t<tr><td>audi              </td><td>a4 quattro        </td><td>2.0               </td><td>2008              </td><td>4                 </td><td>auto(s6)          </td><td>4                 </td><td>19                </td><td>27                </td><td>p                 </td><td>compact           </td></tr>\n",
       "\t<tr><td>audi              </td><td>a4 quattro        </td><td>2.8               </td><td>1999              </td><td>6                 </td><td>auto(l5)          </td><td>4                 </td><td>15                </td><td>25                </td><td>p                 </td><td>compact           </td></tr>\n",
       "\t<tr><td>audi              </td><td>a4 quattro        </td><td>2.8               </td><td>1999              </td><td>6                 </td><td>manual(m5)        </td><td>4                 </td><td>17                </td><td>25                </td><td>p                 </td><td>compact           </td></tr>\n",
       "\t<tr><td>audi              </td><td>a4 quattro        </td><td>3.1               </td><td>2008              </td><td>6                 </td><td>auto(s6)          </td><td>4                 </td><td>17                </td><td>25                </td><td>p                 </td><td>compact           </td></tr>\n",
       "\t<tr><td>audi              </td><td>a4 quattro        </td><td>3.1               </td><td>2008              </td><td>6                 </td><td>manual(m6)        </td><td>4                 </td><td>15                </td><td>25                </td><td>p                 </td><td>compact           </td></tr>\n",
       "\t<tr><td>audi              </td><td>a6 quattro        </td><td>2.8               </td><td>1999              </td><td>6                 </td><td>auto(l5)          </td><td>4                 </td><td>15                </td><td>24                </td><td>p                 </td><td>midsize           </td></tr>\n",
       "\t<tr><td>audi              </td><td>a6 quattro        </td><td>3.1               </td><td>2008              </td><td>6                 </td><td>auto(s6)          </td><td>4                 </td><td>17                </td><td>25                </td><td>p                 </td><td>midsize           </td></tr>\n",
       "\t<tr><td>audi              </td><td>a6 quattro        </td><td>4.2               </td><td>2008              </td><td>8                 </td><td>auto(s6)          </td><td>4                 </td><td>16                </td><td>23                </td><td>p                 </td><td>midsize           </td></tr>\n",
       "\t<tr><td>chevrolet         </td><td>c1500 suburban 2wd</td><td>5.3               </td><td>2008              </td><td>8                 </td><td>auto(l4)          </td><td>r                 </td><td>14                </td><td>20                </td><td>r                 </td><td>suv               </td></tr>\n",
       "\t<tr><td>chevrolet         </td><td>c1500 suburban 2wd</td><td>5.3               </td><td>2008              </td><td>8                 </td><td>auto(l4)          </td><td>r                 </td><td>11                </td><td>15                </td><td>e                 </td><td>suv               </td></tr>\n",
       "\t<tr><td>chevrolet         </td><td>c1500 suburban 2wd</td><td>5.3               </td><td>2008              </td><td>8                 </td><td>auto(l4)          </td><td>r                 </td><td>14                </td><td>20                </td><td>r                 </td><td>suv               </td></tr>\n",
       "\t<tr><td>chevrolet         </td><td>c1500 suburban 2wd</td><td>5.7               </td><td>1999              </td><td>8                 </td><td>auto(l4)          </td><td>r                 </td><td>13                </td><td>17                </td><td>r                 </td><td>suv               </td></tr>\n",
       "\t<tr><td>chevrolet         </td><td>c1500 suburban 2wd</td><td>6.0               </td><td>2008              </td><td>8                 </td><td>auto(l4)          </td><td>r                 </td><td>12                </td><td>17                </td><td>r                 </td><td>suv               </td></tr>\n",
       "\t<tr><td>chevrolet         </td><td>corvette          </td><td>5.7               </td><td>1999              </td><td>8                 </td><td>manual(m6)        </td><td>r                 </td><td>16                </td><td>26                </td><td>p                 </td><td>2seater           </td></tr>\n",
       "\t<tr><td>chevrolet         </td><td>corvette          </td><td>5.7               </td><td>1999              </td><td>8                 </td><td>auto(l4)          </td><td>r                 </td><td>15                </td><td>23                </td><td>p                 </td><td>2seater           </td></tr>\n",
       "\t<tr><td>chevrolet         </td><td>corvette          </td><td>6.2               </td><td>2008              </td><td>8                 </td><td>manual(m6)        </td><td>r                 </td><td>16                </td><td>26                </td><td>p                 </td><td>2seater           </td></tr>\n",
       "\t<tr><td>chevrolet         </td><td>corvette          </td><td>6.2               </td><td>2008              </td><td>8                 </td><td>auto(s6)          </td><td>r                 </td><td>15                </td><td>25                </td><td>p                 </td><td>2seater           </td></tr>\n",
       "\t<tr><td>chevrolet         </td><td>corvette          </td><td>7.0               </td><td>2008              </td><td>8                 </td><td>manual(m6)        </td><td>r                 </td><td>15                </td><td>24                </td><td>p                 </td><td>2seater           </td></tr>\n",
       "\t<tr><td>chevrolet         </td><td>k1500 tahoe 4wd   </td><td>5.3               </td><td>2008              </td><td>8                 </td><td>auto(l4)          </td><td>4                 </td><td>14                </td><td>19                </td><td>r                 </td><td>suv               </td></tr>\n",
       "\t<tr><td>chevrolet         </td><td>k1500 tahoe 4wd   </td><td>5.3               </td><td>2008              </td><td>8                 </td><td>auto(l4)          </td><td>4                 </td><td>11                </td><td>14                </td><td>e                 </td><td>suv               </td></tr>\n",
       "\t<tr><td>⋮</td><td>⋮</td><td>⋮</td><td>⋮</td><td>⋮</td><td>⋮</td><td>⋮</td><td>⋮</td><td>⋮</td><td>⋮</td><td>⋮</td></tr>\n",
       "\t<tr><td>toyota           </td><td>toyota tacoma 4wd</td><td>3.4              </td><td>1999             </td><td>6                </td><td>auto(l4)         </td><td>4                </td><td>15               </td><td>19               </td><td>r                </td><td>pickup           </td></tr>\n",
       "\t<tr><td>toyota           </td><td>toyota tacoma 4wd</td><td>4.0              </td><td>2008             </td><td>6                </td><td>manual(m6)       </td><td>4                </td><td>15               </td><td>18               </td><td>r                </td><td>pickup           </td></tr>\n",
       "\t<tr><td>toyota           </td><td>toyota tacoma 4wd</td><td>4.0              </td><td>2008             </td><td>6                </td><td>auto(l5)         </td><td>4                </td><td>16               </td><td>20               </td><td>r                </td><td>pickup           </td></tr>\n",
       "\t<tr><td>volkswagen       </td><td>gti              </td><td>2.0              </td><td>1999             </td><td>4                </td><td>manual(m5)       </td><td>f                </td><td>21               </td><td>29               </td><td>r                </td><td>compact          </td></tr>\n",
       "\t<tr><td>volkswagen       </td><td>gti              </td><td>2.0              </td><td>1999             </td><td>4                </td><td>auto(l4)         </td><td>f                </td><td>19               </td><td>26               </td><td>r                </td><td>compact          </td></tr>\n",
       "\t<tr><td>volkswagen       </td><td>gti              </td><td>2.0              </td><td>2008             </td><td>4                </td><td>manual(m6)       </td><td>f                </td><td>21               </td><td>29               </td><td>p                </td><td>compact          </td></tr>\n",
       "\t<tr><td>volkswagen       </td><td>gti              </td><td>2.0              </td><td>2008             </td><td>4                </td><td>auto(s6)         </td><td>f                </td><td>22               </td><td>29               </td><td>p                </td><td>compact          </td></tr>\n",
       "\t<tr><td>volkswagen       </td><td>gti              </td><td>2.8              </td><td>1999             </td><td>6                </td><td>manual(m5)       </td><td>f                </td><td>17               </td><td>24               </td><td>r                </td><td>compact          </td></tr>\n",
       "\t<tr><td>volkswagen       </td><td>jetta            </td><td>1.9              </td><td>1999             </td><td>4                </td><td>manual(m5)       </td><td>f                </td><td>33               </td><td>44               </td><td>d                </td><td>compact          </td></tr>\n",
       "\t<tr><td>volkswagen       </td><td>jetta            </td><td>2.0              </td><td>1999             </td><td>4                </td><td>manual(m5)       </td><td>f                </td><td>21               </td><td>29               </td><td>r                </td><td>compact          </td></tr>\n",
       "\t<tr><td>volkswagen       </td><td>jetta            </td><td>2.0              </td><td>1999             </td><td>4                </td><td>auto(l4)         </td><td>f                </td><td>19               </td><td>26               </td><td>r                </td><td>compact          </td></tr>\n",
       "\t<tr><td>volkswagen       </td><td>jetta            </td><td>2.0              </td><td>2008             </td><td>4                </td><td>auto(s6)         </td><td>f                </td><td>22               </td><td>29               </td><td>p                </td><td>compact          </td></tr>\n",
       "\t<tr><td>volkswagen       </td><td>jetta            </td><td>2.0              </td><td>2008             </td><td>4                </td><td>manual(m6)       </td><td>f                </td><td>21               </td><td>29               </td><td>p                </td><td>compact          </td></tr>\n",
       "\t<tr><td>volkswagen       </td><td>jetta            </td><td>2.5              </td><td>2008             </td><td>5                </td><td>auto(s6)         </td><td>f                </td><td>21               </td><td>29               </td><td>r                </td><td>compact          </td></tr>\n",
       "\t<tr><td>volkswagen       </td><td>jetta            </td><td>2.5              </td><td>2008             </td><td>5                </td><td>manual(m5)       </td><td>f                </td><td>21               </td><td>29               </td><td>r                </td><td>compact          </td></tr>\n",
       "\t<tr><td>volkswagen       </td><td>jetta            </td><td>2.8              </td><td>1999             </td><td>6                </td><td>auto(l4)         </td><td>f                </td><td>16               </td><td>23               </td><td>r                </td><td>compact          </td></tr>\n",
       "\t<tr><td>volkswagen       </td><td>jetta            </td><td>2.8              </td><td>1999             </td><td>6                </td><td>manual(m5)       </td><td>f                </td><td>17               </td><td>24               </td><td>r                </td><td>compact          </td></tr>\n",
       "\t<tr><td>volkswagen       </td><td>new beetle       </td><td>1.9              </td><td>1999             </td><td>4                </td><td>manual(m5)       </td><td>f                </td><td>35               </td><td>44               </td><td>d                </td><td>subcompact       </td></tr>\n",
       "\t<tr><td>volkswagen       </td><td>new beetle       </td><td>1.9              </td><td>1999             </td><td>4                </td><td>auto(l4)         </td><td>f                </td><td>29               </td><td>41               </td><td>d                </td><td>subcompact       </td></tr>\n",
       "\t<tr><td>volkswagen       </td><td>new beetle       </td><td>2.0              </td><td>1999             </td><td>4                </td><td>manual(m5)       </td><td>f                </td><td>21               </td><td>29               </td><td>r                </td><td>subcompact       </td></tr>\n",
       "\t<tr><td>volkswagen       </td><td>new beetle       </td><td>2.0              </td><td>1999             </td><td>4                </td><td>auto(l4)         </td><td>f                </td><td>19               </td><td>26               </td><td>r                </td><td>subcompact       </td></tr>\n",
       "\t<tr><td>volkswagen       </td><td>new beetle       </td><td>2.5              </td><td>2008             </td><td>5                </td><td>manual(m5)       </td><td>f                </td><td>20               </td><td>28               </td><td>r                </td><td>subcompact       </td></tr>\n",
       "\t<tr><td>volkswagen       </td><td>new beetle       </td><td>2.5              </td><td>2008             </td><td>5                </td><td>auto(s6)         </td><td>f                </td><td>20               </td><td>29               </td><td>r                </td><td>subcompact       </td></tr>\n",
       "\t<tr><td>volkswagen       </td><td>passat           </td><td>1.8              </td><td>1999             </td><td>4                </td><td>manual(m5)       </td><td>f                </td><td>21               </td><td>29               </td><td>p                </td><td>midsize          </td></tr>\n",
       "\t<tr><td>volkswagen       </td><td>passat           </td><td>1.8              </td><td>1999             </td><td>4                </td><td>auto(l5)         </td><td>f                </td><td>18               </td><td>29               </td><td>p                </td><td>midsize          </td></tr>\n",
       "\t<tr><td>volkswagen       </td><td>passat           </td><td>2.0              </td><td>2008             </td><td>4                </td><td>auto(s6)         </td><td>f                </td><td>19               </td><td>28               </td><td>p                </td><td>midsize          </td></tr>\n",
       "\t<tr><td>volkswagen       </td><td>passat           </td><td>2.0              </td><td>2008             </td><td>4                </td><td>manual(m6)       </td><td>f                </td><td>21               </td><td>29               </td><td>p                </td><td>midsize          </td></tr>\n",
       "\t<tr><td>volkswagen       </td><td>passat           </td><td>2.8              </td><td>1999             </td><td>6                </td><td>auto(l5)         </td><td>f                </td><td>16               </td><td>26               </td><td>p                </td><td>midsize          </td></tr>\n",
       "\t<tr><td>volkswagen       </td><td>passat           </td><td>2.8              </td><td>1999             </td><td>6                </td><td>manual(m5)       </td><td>f                </td><td>18               </td><td>26               </td><td>p                </td><td>midsize          </td></tr>\n",
       "\t<tr><td>volkswagen       </td><td>passat           </td><td>3.6              </td><td>2008             </td><td>6                </td><td>auto(s6)         </td><td>f                </td><td>17               </td><td>26               </td><td>p                </td><td>midsize          </td></tr>\n",
       "</tbody>\n",
       "</table>\n"
      ],
      "text/latex": [
       "\\begin{tabular}{r|lllllllllll}\n",
       " manufacturer & model & displ & year & cyl & trans & drv & cty & hwy & fl & class\\\\\n",
       "\\hline\n",
       "\t audi               & a4                 & 1.8                & 1999               & 4                  & auto(l5)           & f                  & 18                 & 29                 & p                  & compact           \\\\\n",
       "\t audi               & a4                 & 1.8                & 1999               & 4                  & manual(m5)         & f                  & 21                 & 29                 & p                  & compact           \\\\\n",
       "\t audi               & a4                 & 2.0                & 2008               & 4                  & manual(m6)         & f                  & 20                 & 31                 & p                  & compact           \\\\\n",
       "\t audi               & a4                 & 2.0                & 2008               & 4                  & auto(av)           & f                  & 21                 & 30                 & p                  & compact           \\\\\n",
       "\t audi               & a4                 & 2.8                & 1999               & 6                  & auto(l5)           & f                  & 16                 & 26                 & p                  & compact           \\\\\n",
       "\t audi               & a4                 & 2.8                & 1999               & 6                  & manual(m5)         & f                  & 18                 & 26                 & p                  & compact           \\\\\n",
       "\t audi               & a4                 & 3.1                & 2008               & 6                  & auto(av)           & f                  & 18                 & 27                 & p                  & compact           \\\\\n",
       "\t audi               & a4 quattro         & 1.8                & 1999               & 4                  & manual(m5)         & 4                  & 18                 & 26                 & p                  & compact           \\\\\n",
       "\t audi               & a4 quattro         & 1.8                & 1999               & 4                  & auto(l5)           & 4                  & 16                 & 25                 & p                  & compact           \\\\\n",
       "\t audi               & a4 quattro         & 2.0                & 2008               & 4                  & manual(m6)         & 4                  & 20                 & 28                 & p                  & compact           \\\\\n",
       "\t audi               & a4 quattro         & 2.0                & 2008               & 4                  & auto(s6)           & 4                  & 19                 & 27                 & p                  & compact           \\\\\n",
       "\t audi               & a4 quattro         & 2.8                & 1999               & 6                  & auto(l5)           & 4                  & 15                 & 25                 & p                  & compact           \\\\\n",
       "\t audi               & a4 quattro         & 2.8                & 1999               & 6                  & manual(m5)         & 4                  & 17                 & 25                 & p                  & compact           \\\\\n",
       "\t audi               & a4 quattro         & 3.1                & 2008               & 6                  & auto(s6)           & 4                  & 17                 & 25                 & p                  & compact           \\\\\n",
       "\t audi               & a4 quattro         & 3.1                & 2008               & 6                  & manual(m6)         & 4                  & 15                 & 25                 & p                  & compact           \\\\\n",
       "\t audi               & a6 quattro         & 2.8                & 1999               & 6                  & auto(l5)           & 4                  & 15                 & 24                 & p                  & midsize           \\\\\n",
       "\t audi               & a6 quattro         & 3.1                & 2008               & 6                  & auto(s6)           & 4                  & 17                 & 25                 & p                  & midsize           \\\\\n",
       "\t audi               & a6 quattro         & 4.2                & 2008               & 8                  & auto(s6)           & 4                  & 16                 & 23                 & p                  & midsize           \\\\\n",
       "\t chevrolet          & c1500 suburban 2wd & 5.3                & 2008               & 8                  & auto(l4)           & r                  & 14                 & 20                 & r                  & suv               \\\\\n",
       "\t chevrolet          & c1500 suburban 2wd & 5.3                & 2008               & 8                  & auto(l4)           & r                  & 11                 & 15                 & e                  & suv               \\\\\n",
       "\t chevrolet          & c1500 suburban 2wd & 5.3                & 2008               & 8                  & auto(l4)           & r                  & 14                 & 20                 & r                  & suv               \\\\\n",
       "\t chevrolet          & c1500 suburban 2wd & 5.7                & 1999               & 8                  & auto(l4)           & r                  & 13                 & 17                 & r                  & suv               \\\\\n",
       "\t chevrolet          & c1500 suburban 2wd & 6.0                & 2008               & 8                  & auto(l4)           & r                  & 12                 & 17                 & r                  & suv               \\\\\n",
       "\t chevrolet          & corvette           & 5.7                & 1999               & 8                  & manual(m6)         & r                  & 16                 & 26                 & p                  & 2seater           \\\\\n",
       "\t chevrolet          & corvette           & 5.7                & 1999               & 8                  & auto(l4)           & r                  & 15                 & 23                 & p                  & 2seater           \\\\\n",
       "\t chevrolet          & corvette           & 6.2                & 2008               & 8                  & manual(m6)         & r                  & 16                 & 26                 & p                  & 2seater           \\\\\n",
       "\t chevrolet          & corvette           & 6.2                & 2008               & 8                  & auto(s6)           & r                  & 15                 & 25                 & p                  & 2seater           \\\\\n",
       "\t chevrolet          & corvette           & 7.0                & 2008               & 8                  & manual(m6)         & r                  & 15                 & 24                 & p                  & 2seater           \\\\\n",
       "\t chevrolet          & k1500 tahoe 4wd    & 5.3                & 2008               & 8                  & auto(l4)           & 4                  & 14                 & 19                 & r                  & suv               \\\\\n",
       "\t chevrolet          & k1500 tahoe 4wd    & 5.3                & 2008               & 8                  & auto(l4)           & 4                  & 11                 & 14                 & e                  & suv               \\\\\n",
       "\t ⋮ & ⋮ & ⋮ & ⋮ & ⋮ & ⋮ & ⋮ & ⋮ & ⋮ & ⋮ & ⋮\\\\\n",
       "\t toyota            & toyota tacoma 4wd & 3.4               & 1999              & 6                 & auto(l4)          & 4                 & 15                & 19                & r                 & pickup           \\\\\n",
       "\t toyota            & toyota tacoma 4wd & 4.0               & 2008              & 6                 & manual(m6)        & 4                 & 15                & 18                & r                 & pickup           \\\\\n",
       "\t toyota            & toyota tacoma 4wd & 4.0               & 2008              & 6                 & auto(l5)          & 4                 & 16                & 20                & r                 & pickup           \\\\\n",
       "\t volkswagen        & gti               & 2.0               & 1999              & 4                 & manual(m5)        & f                 & 21                & 29                & r                 & compact          \\\\\n",
       "\t volkswagen        & gti               & 2.0               & 1999              & 4                 & auto(l4)          & f                 & 19                & 26                & r                 & compact          \\\\\n",
       "\t volkswagen        & gti               & 2.0               & 2008              & 4                 & manual(m6)        & f                 & 21                & 29                & p                 & compact          \\\\\n",
       "\t volkswagen        & gti               & 2.0               & 2008              & 4                 & auto(s6)          & f                 & 22                & 29                & p                 & compact          \\\\\n",
       "\t volkswagen        & gti               & 2.8               & 1999              & 6                 & manual(m5)        & f                 & 17                & 24                & r                 & compact          \\\\\n",
       "\t volkswagen        & jetta             & 1.9               & 1999              & 4                 & manual(m5)        & f                 & 33                & 44                & d                 & compact          \\\\\n",
       "\t volkswagen        & jetta             & 2.0               & 1999              & 4                 & manual(m5)        & f                 & 21                & 29                & r                 & compact          \\\\\n",
       "\t volkswagen        & jetta             & 2.0               & 1999              & 4                 & auto(l4)          & f                 & 19                & 26                & r                 & compact          \\\\\n",
       "\t volkswagen        & jetta             & 2.0               & 2008              & 4                 & auto(s6)          & f                 & 22                & 29                & p                 & compact          \\\\\n",
       "\t volkswagen        & jetta             & 2.0               & 2008              & 4                 & manual(m6)        & f                 & 21                & 29                & p                 & compact          \\\\\n",
       "\t volkswagen        & jetta             & 2.5               & 2008              & 5                 & auto(s6)          & f                 & 21                & 29                & r                 & compact          \\\\\n",
       "\t volkswagen        & jetta             & 2.5               & 2008              & 5                 & manual(m5)        & f                 & 21                & 29                & r                 & compact          \\\\\n",
       "\t volkswagen        & jetta             & 2.8               & 1999              & 6                 & auto(l4)          & f                 & 16                & 23                & r                 & compact          \\\\\n",
       "\t volkswagen        & jetta             & 2.8               & 1999              & 6                 & manual(m5)        & f                 & 17                & 24                & r                 & compact          \\\\\n",
       "\t volkswagen        & new beetle        & 1.9               & 1999              & 4                 & manual(m5)        & f                 & 35                & 44                & d                 & subcompact       \\\\\n",
       "\t volkswagen        & new beetle        & 1.9               & 1999              & 4                 & auto(l4)          & f                 & 29                & 41                & d                 & subcompact       \\\\\n",
       "\t volkswagen        & new beetle        & 2.0               & 1999              & 4                 & manual(m5)        & f                 & 21                & 29                & r                 & subcompact       \\\\\n",
       "\t volkswagen        & new beetle        & 2.0               & 1999              & 4                 & auto(l4)          & f                 & 19                & 26                & r                 & subcompact       \\\\\n",
       "\t volkswagen        & new beetle        & 2.5               & 2008              & 5                 & manual(m5)        & f                 & 20                & 28                & r                 & subcompact       \\\\\n",
       "\t volkswagen        & new beetle        & 2.5               & 2008              & 5                 & auto(s6)          & f                 & 20                & 29                & r                 & subcompact       \\\\\n",
       "\t volkswagen        & passat            & 1.8               & 1999              & 4                 & manual(m5)        & f                 & 21                & 29                & p                 & midsize          \\\\\n",
       "\t volkswagen        & passat            & 1.8               & 1999              & 4                 & auto(l5)          & f                 & 18                & 29                & p                 & midsize          \\\\\n",
       "\t volkswagen        & passat            & 2.0               & 2008              & 4                 & auto(s6)          & f                 & 19                & 28                & p                 & midsize          \\\\\n",
       "\t volkswagen        & passat            & 2.0               & 2008              & 4                 & manual(m6)        & f                 & 21                & 29                & p                 & midsize          \\\\\n",
       "\t volkswagen        & passat            & 2.8               & 1999              & 6                 & auto(l5)          & f                 & 16                & 26                & p                 & midsize          \\\\\n",
       "\t volkswagen        & passat            & 2.8               & 1999              & 6                 & manual(m5)        & f                 & 18                & 26                & p                 & midsize          \\\\\n",
       "\t volkswagen        & passat            & 3.6               & 2008              & 6                 & auto(s6)          & f                 & 17                & 26                & p                 & midsize          \\\\\n",
       "\\end{tabular}\n"
      ],
      "text/markdown": [
       "\n",
       "manufacturer | model | displ | year | cyl | trans | drv | cty | hwy | fl | class | \n",
       "|---|---|---|---|---|---|---|---|---|---|---|---|---|---|---|---|---|---|---|---|---|---|---|---|---|---|---|---|---|---|---|---|---|---|---|---|---|---|---|---|---|---|---|---|---|---|---|---|---|---|---|---|---|---|---|---|---|---|---|---|---|\n",
       "| audi               | a4                 | 1.8                | 1999               | 4                  | auto(l5)           | f                  | 18                 | 29                 | p                  | compact            | \n",
       "| audi               | a4                 | 1.8                | 1999               | 4                  | manual(m5)         | f                  | 21                 | 29                 | p                  | compact            | \n",
       "| audi               | a4                 | 2.0                | 2008               | 4                  | manual(m6)         | f                  | 20                 | 31                 | p                  | compact            | \n",
       "| audi               | a4                 | 2.0                | 2008               | 4                  | auto(av)           | f                  | 21                 | 30                 | p                  | compact            | \n",
       "| audi               | a4                 | 2.8                | 1999               | 6                  | auto(l5)           | f                  | 16                 | 26                 | p                  | compact            | \n",
       "| audi               | a4                 | 2.8                | 1999               | 6                  | manual(m5)         | f                  | 18                 | 26                 | p                  | compact            | \n",
       "| audi               | a4                 | 3.1                | 2008               | 6                  | auto(av)           | f                  | 18                 | 27                 | p                  | compact            | \n",
       "| audi               | a4 quattro         | 1.8                | 1999               | 4                  | manual(m5)         | 4                  | 18                 | 26                 | p                  | compact            | \n",
       "| audi               | a4 quattro         | 1.8                | 1999               | 4                  | auto(l5)           | 4                  | 16                 | 25                 | p                  | compact            | \n",
       "| audi               | a4 quattro         | 2.0                | 2008               | 4                  | manual(m6)         | 4                  | 20                 | 28                 | p                  | compact            | \n",
       "| audi               | a4 quattro         | 2.0                | 2008               | 4                  | auto(s6)           | 4                  | 19                 | 27                 | p                  | compact            | \n",
       "| audi               | a4 quattro         | 2.8                | 1999               | 6                  | auto(l5)           | 4                  | 15                 | 25                 | p                  | compact            | \n",
       "| audi               | a4 quattro         | 2.8                | 1999               | 6                  | manual(m5)         | 4                  | 17                 | 25                 | p                  | compact            | \n",
       "| audi               | a4 quattro         | 3.1                | 2008               | 6                  | auto(s6)           | 4                  | 17                 | 25                 | p                  | compact            | \n",
       "| audi               | a4 quattro         | 3.1                | 2008               | 6                  | manual(m6)         | 4                  | 15                 | 25                 | p                  | compact            | \n",
       "| audi               | a6 quattro         | 2.8                | 1999               | 6                  | auto(l5)           | 4                  | 15                 | 24                 | p                  | midsize            | \n",
       "| audi               | a6 quattro         | 3.1                | 2008               | 6                  | auto(s6)           | 4                  | 17                 | 25                 | p                  | midsize            | \n",
       "| audi               | a6 quattro         | 4.2                | 2008               | 8                  | auto(s6)           | 4                  | 16                 | 23                 | p                  | midsize            | \n",
       "| chevrolet          | c1500 suburban 2wd | 5.3                | 2008               | 8                  | auto(l4)           | r                  | 14                 | 20                 | r                  | suv                | \n",
       "| chevrolet          | c1500 suburban 2wd | 5.3                | 2008               | 8                  | auto(l4)           | r                  | 11                 | 15                 | e                  | suv                | \n",
       "| chevrolet          | c1500 suburban 2wd | 5.3                | 2008               | 8                  | auto(l4)           | r                  | 14                 | 20                 | r                  | suv                | \n",
       "| chevrolet          | c1500 suburban 2wd | 5.7                | 1999               | 8                  | auto(l4)           | r                  | 13                 | 17                 | r                  | suv                | \n",
       "| chevrolet          | c1500 suburban 2wd | 6.0                | 2008               | 8                  | auto(l4)           | r                  | 12                 | 17                 | r                  | suv                | \n",
       "| chevrolet          | corvette           | 5.7                | 1999               | 8                  | manual(m6)         | r                  | 16                 | 26                 | p                  | 2seater            | \n",
       "| chevrolet          | corvette           | 5.7                | 1999               | 8                  | auto(l4)           | r                  | 15                 | 23                 | p                  | 2seater            | \n",
       "| chevrolet          | corvette           | 6.2                | 2008               | 8                  | manual(m6)         | r                  | 16                 | 26                 | p                  | 2seater            | \n",
       "| chevrolet          | corvette           | 6.2                | 2008               | 8                  | auto(s6)           | r                  | 15                 | 25                 | p                  | 2seater            | \n",
       "| chevrolet          | corvette           | 7.0                | 2008               | 8                  | manual(m6)         | r                  | 15                 | 24                 | p                  | 2seater            | \n",
       "| chevrolet          | k1500 tahoe 4wd    | 5.3                | 2008               | 8                  | auto(l4)           | 4                  | 14                 | 19                 | r                  | suv                | \n",
       "| chevrolet          | k1500 tahoe 4wd    | 5.3                | 2008               | 8                  | auto(l4)           | 4                  | 11                 | 14                 | e                  | suv                | \n",
       "| ⋮ | ⋮ | ⋮ | ⋮ | ⋮ | ⋮ | ⋮ | ⋮ | ⋮ | ⋮ | ⋮ | \n",
       "| toyota            | toyota tacoma 4wd | 3.4               | 1999              | 6                 | auto(l4)          | 4                 | 15                | 19                | r                 | pickup            | \n",
       "| toyota            | toyota tacoma 4wd | 4.0               | 2008              | 6                 | manual(m6)        | 4                 | 15                | 18                | r                 | pickup            | \n",
       "| toyota            | toyota tacoma 4wd | 4.0               | 2008              | 6                 | auto(l5)          | 4                 | 16                | 20                | r                 | pickup            | \n",
       "| volkswagen        | gti               | 2.0               | 1999              | 4                 | manual(m5)        | f                 | 21                | 29                | r                 | compact           | \n",
       "| volkswagen        | gti               | 2.0               | 1999              | 4                 | auto(l4)          | f                 | 19                | 26                | r                 | compact           | \n",
       "| volkswagen        | gti               | 2.0               | 2008              | 4                 | manual(m6)        | f                 | 21                | 29                | p                 | compact           | \n",
       "| volkswagen        | gti               | 2.0               | 2008              | 4                 | auto(s6)          | f                 | 22                | 29                | p                 | compact           | \n",
       "| volkswagen        | gti               | 2.8               | 1999              | 6                 | manual(m5)        | f                 | 17                | 24                | r                 | compact           | \n",
       "| volkswagen        | jetta             | 1.9               | 1999              | 4                 | manual(m5)        | f                 | 33                | 44                | d                 | compact           | \n",
       "| volkswagen        | jetta             | 2.0               | 1999              | 4                 | manual(m5)        | f                 | 21                | 29                | r                 | compact           | \n",
       "| volkswagen        | jetta             | 2.0               | 1999              | 4                 | auto(l4)          | f                 | 19                | 26                | r                 | compact           | \n",
       "| volkswagen        | jetta             | 2.0               | 2008              | 4                 | auto(s6)          | f                 | 22                | 29                | p                 | compact           | \n",
       "| volkswagen        | jetta             | 2.0               | 2008              | 4                 | manual(m6)        | f                 | 21                | 29                | p                 | compact           | \n",
       "| volkswagen        | jetta             | 2.5               | 2008              | 5                 | auto(s6)          | f                 | 21                | 29                | r                 | compact           | \n",
       "| volkswagen        | jetta             | 2.5               | 2008              | 5                 | manual(m5)        | f                 | 21                | 29                | r                 | compact           | \n",
       "| volkswagen        | jetta             | 2.8               | 1999              | 6                 | auto(l4)          | f                 | 16                | 23                | r                 | compact           | \n",
       "| volkswagen        | jetta             | 2.8               | 1999              | 6                 | manual(m5)        | f                 | 17                | 24                | r                 | compact           | \n",
       "| volkswagen        | new beetle        | 1.9               | 1999              | 4                 | manual(m5)        | f                 | 35                | 44                | d                 | subcompact        | \n",
       "| volkswagen        | new beetle        | 1.9               | 1999              | 4                 | auto(l4)          | f                 | 29                | 41                | d                 | subcompact        | \n",
       "| volkswagen        | new beetle        | 2.0               | 1999              | 4                 | manual(m5)        | f                 | 21                | 29                | r                 | subcompact        | \n",
       "| volkswagen        | new beetle        | 2.0               | 1999              | 4                 | auto(l4)          | f                 | 19                | 26                | r                 | subcompact        | \n",
       "| volkswagen        | new beetle        | 2.5               | 2008              | 5                 | manual(m5)        | f                 | 20                | 28                | r                 | subcompact        | \n",
       "| volkswagen        | new beetle        | 2.5               | 2008              | 5                 | auto(s6)          | f                 | 20                | 29                | r                 | subcompact        | \n",
       "| volkswagen        | passat            | 1.8               | 1999              | 4                 | manual(m5)        | f                 | 21                | 29                | p                 | midsize           | \n",
       "| volkswagen        | passat            | 1.8               | 1999              | 4                 | auto(l5)          | f                 | 18                | 29                | p                 | midsize           | \n",
       "| volkswagen        | passat            | 2.0               | 2008              | 4                 | auto(s6)          | f                 | 19                | 28                | p                 | midsize           | \n",
       "| volkswagen        | passat            | 2.0               | 2008              | 4                 | manual(m6)        | f                 | 21                | 29                | p                 | midsize           | \n",
       "| volkswagen        | passat            | 2.8               | 1999              | 6                 | auto(l5)          | f                 | 16                | 26                | p                 | midsize           | \n",
       "| volkswagen        | passat            | 2.8               | 1999              | 6                 | manual(m5)        | f                 | 18                | 26                | p                 | midsize           | \n",
       "| volkswagen        | passat            | 3.6               | 2008              | 6                 | auto(s6)          | f                 | 17                | 26                | p                 | midsize           | \n",
       "\n",
       "\n"
      ],
      "text/plain": [
       "    manufacturer model              displ year cyl trans      drv cty hwy fl\n",
       "1   audi         a4                 1.8   1999 4   auto(l5)   f   18  29  p \n",
       "2   audi         a4                 1.8   1999 4   manual(m5) f   21  29  p \n",
       "3   audi         a4                 2.0   2008 4   manual(m6) f   20  31  p \n",
       "4   audi         a4                 2.0   2008 4   auto(av)   f   21  30  p \n",
       "5   audi         a4                 2.8   1999 6   auto(l5)   f   16  26  p \n",
       "6   audi         a4                 2.8   1999 6   manual(m5) f   18  26  p \n",
       "7   audi         a4                 3.1   2008 6   auto(av)   f   18  27  p \n",
       "8   audi         a4 quattro         1.8   1999 4   manual(m5) 4   18  26  p \n",
       "9   audi         a4 quattro         1.8   1999 4   auto(l5)   4   16  25  p \n",
       "10  audi         a4 quattro         2.0   2008 4   manual(m6) 4   20  28  p \n",
       "11  audi         a4 quattro         2.0   2008 4   auto(s6)   4   19  27  p \n",
       "12  audi         a4 quattro         2.8   1999 6   auto(l5)   4   15  25  p \n",
       "13  audi         a4 quattro         2.8   1999 6   manual(m5) 4   17  25  p \n",
       "14  audi         a4 quattro         3.1   2008 6   auto(s6)   4   17  25  p \n",
       "15  audi         a4 quattro         3.1   2008 6   manual(m6) 4   15  25  p \n",
       "16  audi         a6 quattro         2.8   1999 6   auto(l5)   4   15  24  p \n",
       "17  audi         a6 quattro         3.1   2008 6   auto(s6)   4   17  25  p \n",
       "18  audi         a6 quattro         4.2   2008 8   auto(s6)   4   16  23  p \n",
       "19  chevrolet    c1500 suburban 2wd 5.3   2008 8   auto(l4)   r   14  20  r \n",
       "20  chevrolet    c1500 suburban 2wd 5.3   2008 8   auto(l4)   r   11  15  e \n",
       "21  chevrolet    c1500 suburban 2wd 5.3   2008 8   auto(l4)   r   14  20  r \n",
       "22  chevrolet    c1500 suburban 2wd 5.7   1999 8   auto(l4)   r   13  17  r \n",
       "23  chevrolet    c1500 suburban 2wd 6.0   2008 8   auto(l4)   r   12  17  r \n",
       "24  chevrolet    corvette           5.7   1999 8   manual(m6) r   16  26  p \n",
       "25  chevrolet    corvette           5.7   1999 8   auto(l4)   r   15  23  p \n",
       "26  chevrolet    corvette           6.2   2008 8   manual(m6) r   16  26  p \n",
       "27  chevrolet    corvette           6.2   2008 8   auto(s6)   r   15  25  p \n",
       "28  chevrolet    corvette           7.0   2008 8   manual(m6) r   15  24  p \n",
       "29  chevrolet    k1500 tahoe 4wd    5.3   2008 8   auto(l4)   4   14  19  r \n",
       "30  chevrolet    k1500 tahoe 4wd    5.3   2008 8   auto(l4)   4   11  14  e \n",
       "⋮   ⋮            ⋮                  ⋮     ⋮    ⋮   ⋮          ⋮   ⋮   ⋮   ⋮ \n",
       "205 toyota       toyota tacoma 4wd  3.4   1999 6   auto(l4)   4   15  19  r \n",
       "206 toyota       toyota tacoma 4wd  4.0   2008 6   manual(m6) 4   15  18  r \n",
       "207 toyota       toyota tacoma 4wd  4.0   2008 6   auto(l5)   4   16  20  r \n",
       "208 volkswagen   gti                2.0   1999 4   manual(m5) f   21  29  r \n",
       "209 volkswagen   gti                2.0   1999 4   auto(l4)   f   19  26  r \n",
       "210 volkswagen   gti                2.0   2008 4   manual(m6) f   21  29  p \n",
       "211 volkswagen   gti                2.0   2008 4   auto(s6)   f   22  29  p \n",
       "212 volkswagen   gti                2.8   1999 6   manual(m5) f   17  24  r \n",
       "213 volkswagen   jetta              1.9   1999 4   manual(m5) f   33  44  d \n",
       "214 volkswagen   jetta              2.0   1999 4   manual(m5) f   21  29  r \n",
       "215 volkswagen   jetta              2.0   1999 4   auto(l4)   f   19  26  r \n",
       "216 volkswagen   jetta              2.0   2008 4   auto(s6)   f   22  29  p \n",
       "217 volkswagen   jetta              2.0   2008 4   manual(m6) f   21  29  p \n",
       "218 volkswagen   jetta              2.5   2008 5   auto(s6)   f   21  29  r \n",
       "219 volkswagen   jetta              2.5   2008 5   manual(m5) f   21  29  r \n",
       "220 volkswagen   jetta              2.8   1999 6   auto(l4)   f   16  23  r \n",
       "221 volkswagen   jetta              2.8   1999 6   manual(m5) f   17  24  r \n",
       "222 volkswagen   new beetle         1.9   1999 4   manual(m5) f   35  44  d \n",
       "223 volkswagen   new beetle         1.9   1999 4   auto(l4)   f   29  41  d \n",
       "224 volkswagen   new beetle         2.0   1999 4   manual(m5) f   21  29  r \n",
       "225 volkswagen   new beetle         2.0   1999 4   auto(l4)   f   19  26  r \n",
       "226 volkswagen   new beetle         2.5   2008 5   manual(m5) f   20  28  r \n",
       "227 volkswagen   new beetle         2.5   2008 5   auto(s6)   f   20  29  r \n",
       "228 volkswagen   passat             1.8   1999 4   manual(m5) f   21  29  p \n",
       "229 volkswagen   passat             1.8   1999 4   auto(l5)   f   18  29  p \n",
       "230 volkswagen   passat             2.0   2008 4   auto(s6)   f   19  28  p \n",
       "231 volkswagen   passat             2.0   2008 4   manual(m6) f   21  29  p \n",
       "232 volkswagen   passat             2.8   1999 6   auto(l5)   f   16  26  p \n",
       "233 volkswagen   passat             2.8   1999 6   manual(m5) f   18  26  p \n",
       "234 volkswagen   passat             3.6   2008 6   auto(s6)   f   17  26  p \n",
       "    class     \n",
       "1   compact   \n",
       "2   compact   \n",
       "3   compact   \n",
       "4   compact   \n",
       "5   compact   \n",
       "6   compact   \n",
       "7   compact   \n",
       "8   compact   \n",
       "9   compact   \n",
       "10  compact   \n",
       "11  compact   \n",
       "12  compact   \n",
       "13  compact   \n",
       "14  compact   \n",
       "15  compact   \n",
       "16  midsize   \n",
       "17  midsize   \n",
       "18  midsize   \n",
       "19  suv       \n",
       "20  suv       \n",
       "21  suv       \n",
       "22  suv       \n",
       "23  suv       \n",
       "24  2seater   \n",
       "25  2seater   \n",
       "26  2seater   \n",
       "27  2seater   \n",
       "28  2seater   \n",
       "29  suv       \n",
       "30  suv       \n",
       "⋮   ⋮         \n",
       "205 pickup    \n",
       "206 pickup    \n",
       "207 pickup    \n",
       "208 compact   \n",
       "209 compact   \n",
       "210 compact   \n",
       "211 compact   \n",
       "212 compact   \n",
       "213 compact   \n",
       "214 compact   \n",
       "215 compact   \n",
       "216 compact   \n",
       "217 compact   \n",
       "218 compact   \n",
       "219 compact   \n",
       "220 compact   \n",
       "221 compact   \n",
       "222 subcompact\n",
       "223 subcompact\n",
       "224 subcompact\n",
       "225 subcompact\n",
       "226 subcompact\n",
       "227 subcompact\n",
       "228 midsize   \n",
       "229 midsize   \n",
       "230 midsize   \n",
       "231 midsize   \n",
       "232 midsize   \n",
       "233 midsize   \n",
       "234 midsize   "
      ]
     },
     "metadata": {},
     "output_type": "display_data"
    }
   ],
   "source": [
    "mpg<-mpg\n",
    "mpg\n"
   ]
  },
  {
   "cell_type": "markdown",
   "metadata": {},
   "source": [
    "### That is already quite powerful, but it gets even better! You're not limited to defining 1 new variable in `summarize()`.\n"
   ]
  },
  {
   "cell_type": "code",
   "execution_count": 33,
   "metadata": {},
   "outputs": [
    {
     "data": {
      "text/html": [
       "<table>\n",
       "<thead><tr><th scope=col>continent</th><th scope=col>year</th><th scope=col>mean_gdpPercap</th><th scope=col>sd_gdpPercap</th><th scope=col>mean_pop</th><th scope=col>sd_pop</th></tr></thead>\n",
       "<tbody>\n",
       "\t<tr><td>Africa   </td><td>1952     </td><td>1252.572 </td><td> 982.9521</td><td>4570010  </td><td> 6317450 </td></tr>\n",
       "\t<tr><td>Africa   </td><td>1957     </td><td>1385.236 </td><td>1134.5089</td><td>5093033  </td><td> 7076042 </td></tr>\n",
       "\t<tr><td>Africa   </td><td>1962     </td><td>1598.079 </td><td>1461.8392</td><td>5702247  </td><td> 7957545 </td></tr>\n",
       "\t<tr><td>Africa   </td><td>1967     </td><td>2050.364 </td><td>2847.7176</td><td>6447875  </td><td> 8985505 </td></tr>\n",
       "\t<tr><td>Africa   </td><td>1972     </td><td>2339.616 </td><td>3286.8539</td><td>7305376  </td><td>10130833 </td></tr>\n",
       "\t<tr><td>Africa   </td><td>1977     </td><td>2585.939 </td><td>4142.3987</td><td>8328097  </td><td>11585184 </td></tr>\n",
       "</tbody>\n",
       "</table>\n"
      ],
      "text/latex": [
       "\\begin{tabular}{r|llllll}\n",
       " continent & year & mean\\_gdpPercap & sd\\_gdpPercap & mean\\_pop & sd\\_pop\\\\\n",
       "\\hline\n",
       "\t Africa    & 1952      & 1252.572  &  982.9521 & 4570010   &  6317450 \\\\\n",
       "\t Africa    & 1957      & 1385.236  & 1134.5089 & 5093033   &  7076042 \\\\\n",
       "\t Africa    & 1962      & 1598.079  & 1461.8392 & 5702247   &  7957545 \\\\\n",
       "\t Africa    & 1967      & 2050.364  & 2847.7176 & 6447875   &  8985505 \\\\\n",
       "\t Africa    & 1972      & 2339.616  & 3286.8539 & 7305376   & 10130833 \\\\\n",
       "\t Africa    & 1977      & 2585.939  & 4142.3987 & 8328097   & 11585184 \\\\\n",
       "\\end{tabular}\n"
      ],
      "text/markdown": [
       "\n",
       "continent | year | mean_gdpPercap | sd_gdpPercap | mean_pop | sd_pop | \n",
       "|---|---|---|---|---|---|\n",
       "| Africa    | 1952      | 1252.572  |  982.9521 | 4570010   |  6317450  | \n",
       "| Africa    | 1957      | 1385.236  | 1134.5089 | 5093033   |  7076042  | \n",
       "| Africa    | 1962      | 1598.079  | 1461.8392 | 5702247   |  7957545  | \n",
       "| Africa    | 1967      | 2050.364  | 2847.7176 | 6447875   |  8985505  | \n",
       "| Africa    | 1972      | 2339.616  | 3286.8539 | 7305376   | 10130833  | \n",
       "| Africa    | 1977      | 2585.939  | 4142.3987 | 8328097   | 11585184  | \n",
       "\n",
       "\n"
      ],
      "text/plain": [
       "  continent year mean_gdpPercap sd_gdpPercap mean_pop sd_pop  \n",
       "1 Africa    1952 1252.572        982.9521    4570010   6317450\n",
       "2 Africa    1957 1385.236       1134.5089    5093033   7076042\n",
       "3 Africa    1962 1598.079       1461.8392    5702247   7957545\n",
       "4 Africa    1967 2050.364       2847.7176    6447875   8985505\n",
       "5 Africa    1972 2339.616       3286.8539    7305376  10130833\n",
       "6 Africa    1977 2585.939       4142.3987    8328097  11585184"
      ]
     },
     "metadata": {},
     "output_type": "display_data"
    }
   ],
   "source": [
    "gdp_pop_bycontinents_byyear <- gapminder %>%\n",
    "    group_by(continent, year) %>%\n",
    "    summarize(mean_gdpPercap = mean(gdpPercap),\n",
    "              sd_gdpPercap = sd(gdpPercap),\n",
    "              mean_pop = mean(pop),\n",
    "              sd_pop = sd(pop))\n",
    "head(gdp_pop_bycontinents_byyear)"
   ]
  },
  {
   "cell_type": "markdown",
   "metadata": {},
   "source": [
    "## Basics\n",
    "- Use the mpg dataset to create summaries by manufacturer/year for 8 cyl vehicles. "
   ]
  },
  {
   "cell_type": "code",
   "execution_count": 34,
   "metadata": {},
   "outputs": [
    {
     "data": {
      "text/html": [
       "<table>\n",
       "<thead><tr><th scope=col>manufacturer</th><th scope=col>model</th><th scope=col>displ</th><th scope=col>year</th><th scope=col>cyl</th><th scope=col>trans</th><th scope=col>drv</th><th scope=col>cty</th><th scope=col>hwy</th><th scope=col>fl</th><th scope=col>class</th></tr></thead>\n",
       "<tbody>\n",
       "\t<tr><td>audi      </td><td>a4        </td><td>1.8       </td><td>1999      </td><td>4         </td><td>auto(l5)  </td><td>f         </td><td>18        </td><td>29        </td><td>p         </td><td>compact   </td></tr>\n",
       "\t<tr><td>audi      </td><td>a4        </td><td>1.8       </td><td>1999      </td><td>4         </td><td>manual(m5)</td><td>f         </td><td>21        </td><td>29        </td><td>p         </td><td>compact   </td></tr>\n",
       "\t<tr><td>audi      </td><td>a4        </td><td>2.0       </td><td>2008      </td><td>4         </td><td>manual(m6)</td><td>f         </td><td>20        </td><td>31        </td><td>p         </td><td>compact   </td></tr>\n",
       "\t<tr><td>audi      </td><td>a4        </td><td>2.0       </td><td>2008      </td><td>4         </td><td>auto(av)  </td><td>f         </td><td>21        </td><td>30        </td><td>p         </td><td>compact   </td></tr>\n",
       "\t<tr><td>audi      </td><td>a4        </td><td>2.8       </td><td>1999      </td><td>6         </td><td>auto(l5)  </td><td>f         </td><td>16        </td><td>26        </td><td>p         </td><td>compact   </td></tr>\n",
       "\t<tr><td>audi      </td><td>a4        </td><td>2.8       </td><td>1999      </td><td>6         </td><td>manual(m5)</td><td>f         </td><td>18        </td><td>26        </td><td>p         </td><td>compact   </td></tr>\n",
       "</tbody>\n",
       "</table>\n"
      ],
      "text/latex": [
       "\\begin{tabular}{r|lllllllllll}\n",
       " manufacturer & model & displ & year & cyl & trans & drv & cty & hwy & fl & class\\\\\n",
       "\\hline\n",
       "\t audi       & a4         & 1.8        & 1999       & 4          & auto(l5)   & f          & 18         & 29         & p          & compact   \\\\\n",
       "\t audi       & a4         & 1.8        & 1999       & 4          & manual(m5) & f          & 21         & 29         & p          & compact   \\\\\n",
       "\t audi       & a4         & 2.0        & 2008       & 4          & manual(m6) & f          & 20         & 31         & p          & compact   \\\\\n",
       "\t audi       & a4         & 2.0        & 2008       & 4          & auto(av)   & f          & 21         & 30         & p          & compact   \\\\\n",
       "\t audi       & a4         & 2.8        & 1999       & 6          & auto(l5)   & f          & 16         & 26         & p          & compact   \\\\\n",
       "\t audi       & a4         & 2.8        & 1999       & 6          & manual(m5) & f          & 18         & 26         & p          & compact   \\\\\n",
       "\\end{tabular}\n"
      ],
      "text/markdown": [
       "\n",
       "manufacturer | model | displ | year | cyl | trans | drv | cty | hwy | fl | class | \n",
       "|---|---|---|---|---|---|\n",
       "| audi       | a4         | 1.8        | 1999       | 4          | auto(l5)   | f          | 18         | 29         | p          | compact    | \n",
       "| audi       | a4         | 1.8        | 1999       | 4          | manual(m5) | f          | 21         | 29         | p          | compact    | \n",
       "| audi       | a4         | 2.0        | 2008       | 4          | manual(m6) | f          | 20         | 31         | p          | compact    | \n",
       "| audi       | a4         | 2.0        | 2008       | 4          | auto(av)   | f          | 21         | 30         | p          | compact    | \n",
       "| audi       | a4         | 2.8        | 1999       | 6          | auto(l5)   | f          | 16         | 26         | p          | compact    | \n",
       "| audi       | a4         | 2.8        | 1999       | 6          | manual(m5) | f          | 18         | 26         | p          | compact    | \n",
       "\n",
       "\n"
      ],
      "text/plain": [
       "  manufacturer model displ year cyl trans      drv cty hwy fl class  \n",
       "1 audi         a4    1.8   1999 4   auto(l5)   f   18  29  p  compact\n",
       "2 audi         a4    1.8   1999 4   manual(m5) f   21  29  p  compact\n",
       "3 audi         a4    2.0   2008 4   manual(m6) f   20  31  p  compact\n",
       "4 audi         a4    2.0   2008 4   auto(av)   f   21  30  p  compact\n",
       "5 audi         a4    2.8   1999 6   auto(l5)   f   16  26  p  compact\n",
       "6 audi         a4    2.8   1999 6   manual(m5) f   18  26  p  compact"
      ]
     },
     "metadata": {},
     "output_type": "display_data"
    }
   ],
   "source": [
    "mpg<-mpg\n",
    "head(mpg)"
   ]
  },
  {
   "cell_type": "code",
   "execution_count": 11,
   "metadata": {},
   "outputs": [
    {
     "data": {
      "text/html": [
       "<table>\n",
       "<thead><tr><th scope=col>manufacturer</th><th scope=col>model</th><th scope=col>displ</th><th scope=col>year</th><th scope=col>cyl</th><th scope=col>trans</th><th scope=col>drv</th><th scope=col>cty</th><th scope=col>hwy</th><th scope=col>fl</th><th scope=col>class</th></tr></thead>\n",
       "<tbody>\n",
       "\t<tr><td>audi               </td><td>a6 quattro         </td><td>4.2                </td><td>2008               </td><td>8                  </td><td>auto(s6)           </td><td>4                  </td><td>16                 </td><td>23                 </td><td>p                  </td><td>midsize            </td></tr>\n",
       "\t<tr><td>chevrolet          </td><td>c1500 suburban 2wd </td><td>5.3                </td><td>2008               </td><td>8                  </td><td>auto(l4)           </td><td>r                  </td><td>14                 </td><td>20                 </td><td>r                  </td><td>suv                </td></tr>\n",
       "\t<tr><td>chevrolet          </td><td>c1500 suburban 2wd </td><td>5.3                </td><td>2008               </td><td>8                  </td><td>auto(l4)           </td><td>r                  </td><td>11                 </td><td>15                 </td><td>e                  </td><td>suv                </td></tr>\n",
       "\t<tr><td>chevrolet          </td><td>c1500 suburban 2wd </td><td>5.3                </td><td>2008               </td><td>8                  </td><td>auto(l4)           </td><td>r                  </td><td>14                 </td><td>20                 </td><td>r                  </td><td>suv                </td></tr>\n",
       "\t<tr><td>chevrolet          </td><td>c1500 suburban 2wd </td><td>5.7                </td><td>1999               </td><td>8                  </td><td>auto(l4)           </td><td>r                  </td><td>13                 </td><td>17                 </td><td>r                  </td><td>suv                </td></tr>\n",
       "\t<tr><td>chevrolet          </td><td>c1500 suburban 2wd </td><td>6.0                </td><td>2008               </td><td>8                  </td><td>auto(l4)           </td><td>r                  </td><td>12                 </td><td>17                 </td><td>r                  </td><td>suv                </td></tr>\n",
       "\t<tr><td>chevrolet          </td><td>corvette           </td><td>5.7                </td><td>1999               </td><td>8                  </td><td>manual(m6)         </td><td>r                  </td><td>16                 </td><td>26                 </td><td>p                  </td><td>2seater            </td></tr>\n",
       "\t<tr><td>chevrolet          </td><td>corvette           </td><td>5.7                </td><td>1999               </td><td>8                  </td><td>auto(l4)           </td><td>r                  </td><td>15                 </td><td>23                 </td><td>p                  </td><td>2seater            </td></tr>\n",
       "\t<tr><td>chevrolet          </td><td>corvette           </td><td>6.2                </td><td>2008               </td><td>8                  </td><td>manual(m6)         </td><td>r                  </td><td>16                 </td><td>26                 </td><td>p                  </td><td>2seater            </td></tr>\n",
       "\t<tr><td>chevrolet          </td><td>corvette           </td><td>6.2                </td><td>2008               </td><td>8                  </td><td>auto(s6)           </td><td>r                  </td><td>15                 </td><td>25                 </td><td>p                  </td><td>2seater            </td></tr>\n",
       "\t<tr><td>chevrolet          </td><td>corvette           </td><td>7.0                </td><td>2008               </td><td>8                  </td><td>manual(m6)         </td><td>r                  </td><td>15                 </td><td>24                 </td><td>p                  </td><td>2seater            </td></tr>\n",
       "\t<tr><td>chevrolet          </td><td>k1500 tahoe 4wd    </td><td>5.3                </td><td>2008               </td><td>8                  </td><td>auto(l4)           </td><td>4                  </td><td>14                 </td><td>19                 </td><td>r                  </td><td>suv                </td></tr>\n",
       "\t<tr><td>chevrolet          </td><td>k1500 tahoe 4wd    </td><td>5.3                </td><td>2008               </td><td>8                  </td><td>auto(l4)           </td><td>4                  </td><td>11                 </td><td>14                 </td><td>e                  </td><td>suv                </td></tr>\n",
       "\t<tr><td>chevrolet          </td><td>k1500 tahoe 4wd    </td><td>5.7                </td><td>1999               </td><td>8                  </td><td>auto(l4)           </td><td>4                  </td><td>11                 </td><td>15                 </td><td>r                  </td><td>suv                </td></tr>\n",
       "\t<tr><td>chevrolet          </td><td>k1500 tahoe 4wd    </td><td>6.5                </td><td>1999               </td><td>8                  </td><td>auto(l4)           </td><td>4                  </td><td>14                 </td><td>17                 </td><td>d                  </td><td>suv                </td></tr>\n",
       "\t<tr><td>dodge              </td><td>dakota pickup 4wd  </td><td>4.7                </td><td>2008               </td><td>8                  </td><td>auto(l5)           </td><td>4                  </td><td>14                 </td><td>19                 </td><td>r                  </td><td>pickup             </td></tr>\n",
       "\t<tr><td>dodge              </td><td>dakota pickup 4wd  </td><td>4.7                </td><td>2008               </td><td>8                  </td><td>auto(l5)           </td><td>4                  </td><td>14                 </td><td>19                 </td><td>r                  </td><td>pickup             </td></tr>\n",
       "\t<tr><td>dodge              </td><td>dakota pickup 4wd  </td><td>4.7                </td><td>2008               </td><td>8                  </td><td>auto(l5)           </td><td>4                  </td><td> 9                 </td><td>12                 </td><td>e                  </td><td>pickup             </td></tr>\n",
       "\t<tr><td>dodge              </td><td>dakota pickup 4wd  </td><td>5.2                </td><td>1999               </td><td>8                  </td><td>manual(m5)         </td><td>4                  </td><td>11                 </td><td>17                 </td><td>r                  </td><td>pickup             </td></tr>\n",
       "\t<tr><td>dodge              </td><td>dakota pickup 4wd  </td><td>5.2                </td><td>1999               </td><td>8                  </td><td>auto(l4)           </td><td>4                  </td><td>11                 </td><td>15                 </td><td>r                  </td><td>pickup             </td></tr>\n",
       "\t<tr><td>dodge              </td><td>durango 4wd        </td><td>4.7                </td><td>2008               </td><td>8                  </td><td>auto(l5)           </td><td>4                  </td><td>13                 </td><td>17                 </td><td>r                  </td><td>suv                </td></tr>\n",
       "\t<tr><td>dodge              </td><td>durango 4wd        </td><td>4.7                </td><td>2008               </td><td>8                  </td><td>auto(l5)           </td><td>4                  </td><td> 9                 </td><td>12                 </td><td>e                  </td><td>suv                </td></tr>\n",
       "\t<tr><td>dodge              </td><td>durango 4wd        </td><td>4.7                </td><td>2008               </td><td>8                  </td><td>auto(l5)           </td><td>4                  </td><td>13                 </td><td>17                 </td><td>r                  </td><td>suv                </td></tr>\n",
       "\t<tr><td>dodge              </td><td>durango 4wd        </td><td>5.2                </td><td>1999               </td><td>8                  </td><td>auto(l4)           </td><td>4                  </td><td>11                 </td><td>16                 </td><td>r                  </td><td>suv                </td></tr>\n",
       "\t<tr><td>dodge              </td><td>durango 4wd        </td><td>5.7                </td><td>2008               </td><td>8                  </td><td>auto(l5)           </td><td>4                  </td><td>13                 </td><td>18                 </td><td>r                  </td><td>suv                </td></tr>\n",
       "\t<tr><td>dodge              </td><td>durango 4wd        </td><td>5.9                </td><td>1999               </td><td>8                  </td><td>auto(l4)           </td><td>4                  </td><td>11                 </td><td>15                 </td><td>r                  </td><td>suv                </td></tr>\n",
       "\t<tr><td>dodge              </td><td>ram 1500 pickup 4wd</td><td>4.7                </td><td>2008               </td><td>8                  </td><td>manual(m6)         </td><td>4                  </td><td>12                 </td><td>16                 </td><td>r                  </td><td>pickup             </td></tr>\n",
       "\t<tr><td>dodge              </td><td>ram 1500 pickup 4wd</td><td>4.7                </td><td>2008               </td><td>8                  </td><td>auto(l5)           </td><td>4                  </td><td> 9                 </td><td>12                 </td><td>e                  </td><td>pickup             </td></tr>\n",
       "\t<tr><td>dodge              </td><td>ram 1500 pickup 4wd</td><td>4.7                </td><td>2008               </td><td>8                  </td><td>auto(l5)           </td><td>4                  </td><td>13                 </td><td>17                 </td><td>r                  </td><td>pickup             </td></tr>\n",
       "\t<tr><td>dodge              </td><td>ram 1500 pickup 4wd</td><td>4.7                </td><td>2008               </td><td>8                  </td><td>auto(l5)           </td><td>4                  </td><td>13                 </td><td>17                 </td><td>r                  </td><td>pickup             </td></tr>\n",
       "\t<tr><td>⋮</td><td>⋮</td><td>⋮</td><td>⋮</td><td>⋮</td><td>⋮</td><td>⋮</td><td>⋮</td><td>⋮</td><td>⋮</td><td>⋮</td></tr>\n",
       "\t<tr><td>ford                  </td><td>explorer 4wd          </td><td>5.0                   </td><td>1999                  </td><td>8                     </td><td>auto(l4)              </td><td>4                     </td><td>13                    </td><td>17                    </td><td>r                     </td><td>suv                   </td></tr>\n",
       "\t<tr><td>ford                  </td><td>f150 pickup 4wd       </td><td>4.6                   </td><td>1999                  </td><td>8                     </td><td>manual(m5)            </td><td>4                     </td><td>13                    </td><td>16                    </td><td>r                     </td><td>pickup                </td></tr>\n",
       "\t<tr><td>ford                  </td><td>f150 pickup 4wd       </td><td>4.6                   </td><td>1999                  </td><td>8                     </td><td>auto(l4)              </td><td>4                     </td><td>13                    </td><td>16                    </td><td>r                     </td><td>pickup                </td></tr>\n",
       "\t<tr><td>ford                  </td><td>f150 pickup 4wd       </td><td>4.6                   </td><td>2008                  </td><td>8                     </td><td>auto(l4)              </td><td>4                     </td><td>13                    </td><td>17                    </td><td>r                     </td><td>pickup                </td></tr>\n",
       "\t<tr><td>ford                  </td><td>f150 pickup 4wd       </td><td>5.4                   </td><td>1999                  </td><td>8                     </td><td>auto(l4)              </td><td>4                     </td><td>11                    </td><td>15                    </td><td>r                     </td><td>pickup                </td></tr>\n",
       "\t<tr><td>ford                  </td><td>f150 pickup 4wd       </td><td>5.4                   </td><td>2008                  </td><td>8                     </td><td>auto(l4)              </td><td>4                     </td><td>13                    </td><td>17                    </td><td>r                     </td><td>pickup                </td></tr>\n",
       "\t<tr><td>ford                  </td><td>mustang               </td><td>4.6                   </td><td>1999                  </td><td>8                     </td><td>auto(l4)              </td><td>r                     </td><td>15                    </td><td>21                    </td><td>r                     </td><td>subcompact            </td></tr>\n",
       "\t<tr><td>ford                  </td><td>mustang               </td><td>4.6                   </td><td>1999                  </td><td>8                     </td><td>manual(m5)            </td><td>r                     </td><td>15                    </td><td>22                    </td><td>r                     </td><td>subcompact            </td></tr>\n",
       "\t<tr><td>ford                  </td><td>mustang               </td><td>4.6                   </td><td>2008                  </td><td>8                     </td><td>manual(m5)            </td><td>r                     </td><td>15                    </td><td>23                    </td><td>r                     </td><td>subcompact            </td></tr>\n",
       "\t<tr><td>ford                  </td><td>mustang               </td><td>4.6                   </td><td>2008                  </td><td>8                     </td><td>auto(l5)              </td><td>r                     </td><td>15                    </td><td>22                    </td><td>r                     </td><td>subcompact            </td></tr>\n",
       "\t<tr><td>ford                  </td><td>mustang               </td><td>5.4                   </td><td>2008                  </td><td>8                     </td><td>manual(m6)            </td><td>r                     </td><td>14                    </td><td>20                    </td><td>p                     </td><td>subcompact            </td></tr>\n",
       "\t<tr><td>jeep                  </td><td>grand cherokee 4wd    </td><td>4.7                   </td><td>1999                  </td><td>8                     </td><td>auto(l4)              </td><td>4                     </td><td>14                    </td><td>17                    </td><td>r                     </td><td>suv                   </td></tr>\n",
       "\t<tr><td>jeep                  </td><td>grand cherokee 4wd    </td><td>4.7                   </td><td>2008                  </td><td>8                     </td><td>auto(l5)              </td><td>4                     </td><td> 9                    </td><td>12                    </td><td>e                     </td><td>suv                   </td></tr>\n",
       "\t<tr><td>jeep                  </td><td>grand cherokee 4wd    </td><td>4.7                   </td><td>2008                  </td><td>8                     </td><td>auto(l5)              </td><td>4                     </td><td>14                    </td><td>19                    </td><td>r                     </td><td>suv                   </td></tr>\n",
       "\t<tr><td>jeep                  </td><td>grand cherokee 4wd    </td><td>5.7                   </td><td>2008                  </td><td>8                     </td><td>auto(l5)              </td><td>4                     </td><td>13                    </td><td>18                    </td><td>r                     </td><td>suv                   </td></tr>\n",
       "\t<tr><td>jeep                  </td><td>grand cherokee 4wd    </td><td>6.1                   </td><td>2008                  </td><td>8                     </td><td>auto(l5)              </td><td>4                     </td><td>11                    </td><td>14                    </td><td>p                     </td><td>suv                   </td></tr>\n",
       "\t<tr><td>land rover            </td><td>range rover           </td><td>4.0                   </td><td>1999                  </td><td>8                     </td><td>auto(l4)              </td><td>4                     </td><td>11                    </td><td>15                    </td><td>p                     </td><td>suv                   </td></tr>\n",
       "\t<tr><td>land rover            </td><td>range rover           </td><td>4.2                   </td><td>2008                  </td><td>8                     </td><td>auto(s6)              </td><td>4                     </td><td>12                    </td><td>18                    </td><td>r                     </td><td>suv                   </td></tr>\n",
       "\t<tr><td>land rover            </td><td>range rover           </td><td>4.4                   </td><td>2008                  </td><td>8                     </td><td>auto(s6)              </td><td>4                     </td><td>12                    </td><td>18                    </td><td>r                     </td><td>suv                   </td></tr>\n",
       "\t<tr><td>land rover            </td><td>range rover           </td><td>4.6                   </td><td>1999                  </td><td>8                     </td><td>auto(l4)              </td><td>4                     </td><td>11                    </td><td>15                    </td><td>p                     </td><td>suv                   </td></tr>\n",
       "\t<tr><td>lincoln               </td><td>navigator 2wd         </td><td>5.4                   </td><td>1999                  </td><td>8                     </td><td>auto(l4)              </td><td>r                     </td><td>11                    </td><td>17                    </td><td>r                     </td><td>suv                   </td></tr>\n",
       "\t<tr><td>lincoln               </td><td>navigator 2wd         </td><td>5.4                   </td><td>1999                  </td><td>8                     </td><td>auto(l4)              </td><td>r                     </td><td>11                    </td><td>16                    </td><td>p                     </td><td>suv                   </td></tr>\n",
       "\t<tr><td>lincoln               </td><td>navigator 2wd         </td><td>5.4                   </td><td>2008                  </td><td>8                     </td><td>auto(l6)              </td><td>r                     </td><td>12                    </td><td>18                    </td><td>r                     </td><td>suv                   </td></tr>\n",
       "\t<tr><td>mercury               </td><td>mountaineer 4wd       </td><td>4.6                   </td><td>2008                  </td><td>8                     </td><td>auto(l6)              </td><td>4                     </td><td>13                    </td><td>19                    </td><td>r                     </td><td>suv                   </td></tr>\n",
       "\t<tr><td>mercury               </td><td>mountaineer 4wd       </td><td>5.0                   </td><td>1999                  </td><td>8                     </td><td>auto(l4)              </td><td>4                     </td><td>13                    </td><td>17                    </td><td>r                     </td><td>suv                   </td></tr>\n",
       "\t<tr><td>nissan                </td><td>pathfinder 4wd        </td><td>5.6                   </td><td>2008                  </td><td>8                     </td><td>auto(s5)              </td><td>4                     </td><td>12                    </td><td>18                    </td><td>p                     </td><td>suv                   </td></tr>\n",
       "\t<tr><td>pontiac               </td><td>grand prix            </td><td>5.3                   </td><td>2008                  </td><td>8                     </td><td>auto(s4)              </td><td>f                     </td><td>16                    </td><td>25                    </td><td>p                     </td><td>midsize               </td></tr>\n",
       "\t<tr><td>toyota                </td><td>4runner 4wd           </td><td>4.7                   </td><td>2008                  </td><td>8                     </td><td>auto(l5)              </td><td>4                     </td><td>14                    </td><td>17                    </td><td>r                     </td><td>suv                   </td></tr>\n",
       "\t<tr><td>toyota                </td><td>land cruiser wagon 4wd</td><td>4.7                   </td><td>1999                  </td><td>8                     </td><td>auto(l4)              </td><td>4                     </td><td>11                    </td><td>15                    </td><td>r                     </td><td>suv                   </td></tr>\n",
       "\t<tr><td>toyota                </td><td>land cruiser wagon 4wd</td><td>5.7                   </td><td>2008                  </td><td>8                     </td><td>auto(s6)              </td><td>4                     </td><td>13                    </td><td>18                    </td><td>r                     </td><td>suv                   </td></tr>\n",
       "</tbody>\n",
       "</table>\n"
      ],
      "text/latex": [
       "\\begin{tabular}{r|lllllllllll}\n",
       " manufacturer & model & displ & year & cyl & trans & drv & cty & hwy & fl & class\\\\\n",
       "\\hline\n",
       "\t audi                & a6 quattro          & 4.2                 & 2008                & 8                   & auto(s6)            & 4                   & 16                  & 23                  & p                   & midsize            \\\\\n",
       "\t chevrolet           & c1500 suburban 2wd  & 5.3                 & 2008                & 8                   & auto(l4)            & r                   & 14                  & 20                  & r                   & suv                \\\\\n",
       "\t chevrolet           & c1500 suburban 2wd  & 5.3                 & 2008                & 8                   & auto(l4)            & r                   & 11                  & 15                  & e                   & suv                \\\\\n",
       "\t chevrolet           & c1500 suburban 2wd  & 5.3                 & 2008                & 8                   & auto(l4)            & r                   & 14                  & 20                  & r                   & suv                \\\\\n",
       "\t chevrolet           & c1500 suburban 2wd  & 5.7                 & 1999                & 8                   & auto(l4)            & r                   & 13                  & 17                  & r                   & suv                \\\\\n",
       "\t chevrolet           & c1500 suburban 2wd  & 6.0                 & 2008                & 8                   & auto(l4)            & r                   & 12                  & 17                  & r                   & suv                \\\\\n",
       "\t chevrolet           & corvette            & 5.7                 & 1999                & 8                   & manual(m6)          & r                   & 16                  & 26                  & p                   & 2seater            \\\\\n",
       "\t chevrolet           & corvette            & 5.7                 & 1999                & 8                   & auto(l4)            & r                   & 15                  & 23                  & p                   & 2seater            \\\\\n",
       "\t chevrolet           & corvette            & 6.2                 & 2008                & 8                   & manual(m6)          & r                   & 16                  & 26                  & p                   & 2seater            \\\\\n",
       "\t chevrolet           & corvette            & 6.2                 & 2008                & 8                   & auto(s6)            & r                   & 15                  & 25                  & p                   & 2seater            \\\\\n",
       "\t chevrolet           & corvette            & 7.0                 & 2008                & 8                   & manual(m6)          & r                   & 15                  & 24                  & p                   & 2seater            \\\\\n",
       "\t chevrolet           & k1500 tahoe 4wd     & 5.3                 & 2008                & 8                   & auto(l4)            & 4                   & 14                  & 19                  & r                   & suv                \\\\\n",
       "\t chevrolet           & k1500 tahoe 4wd     & 5.3                 & 2008                & 8                   & auto(l4)            & 4                   & 11                  & 14                  & e                   & suv                \\\\\n",
       "\t chevrolet           & k1500 tahoe 4wd     & 5.7                 & 1999                & 8                   & auto(l4)            & 4                   & 11                  & 15                  & r                   & suv                \\\\\n",
       "\t chevrolet           & k1500 tahoe 4wd     & 6.5                 & 1999                & 8                   & auto(l4)            & 4                   & 14                  & 17                  & d                   & suv                \\\\\n",
       "\t dodge               & dakota pickup 4wd   & 4.7                 & 2008                & 8                   & auto(l5)            & 4                   & 14                  & 19                  & r                   & pickup             \\\\\n",
       "\t dodge               & dakota pickup 4wd   & 4.7                 & 2008                & 8                   & auto(l5)            & 4                   & 14                  & 19                  & r                   & pickup             \\\\\n",
       "\t dodge               & dakota pickup 4wd   & 4.7                 & 2008                & 8                   & auto(l5)            & 4                   &  9                  & 12                  & e                   & pickup             \\\\\n",
       "\t dodge               & dakota pickup 4wd   & 5.2                 & 1999                & 8                   & manual(m5)          & 4                   & 11                  & 17                  & r                   & pickup             \\\\\n",
       "\t dodge               & dakota pickup 4wd   & 5.2                 & 1999                & 8                   & auto(l4)            & 4                   & 11                  & 15                  & r                   & pickup             \\\\\n",
       "\t dodge               & durango 4wd         & 4.7                 & 2008                & 8                   & auto(l5)            & 4                   & 13                  & 17                  & r                   & suv                \\\\\n",
       "\t dodge               & durango 4wd         & 4.7                 & 2008                & 8                   & auto(l5)            & 4                   &  9                  & 12                  & e                   & suv                \\\\\n",
       "\t dodge               & durango 4wd         & 4.7                 & 2008                & 8                   & auto(l5)            & 4                   & 13                  & 17                  & r                   & suv                \\\\\n",
       "\t dodge               & durango 4wd         & 5.2                 & 1999                & 8                   & auto(l4)            & 4                   & 11                  & 16                  & r                   & suv                \\\\\n",
       "\t dodge               & durango 4wd         & 5.7                 & 2008                & 8                   & auto(l5)            & 4                   & 13                  & 18                  & r                   & suv                \\\\\n",
       "\t dodge               & durango 4wd         & 5.9                 & 1999                & 8                   & auto(l4)            & 4                   & 11                  & 15                  & r                   & suv                \\\\\n",
       "\t dodge               & ram 1500 pickup 4wd & 4.7                 & 2008                & 8                   & manual(m6)          & 4                   & 12                  & 16                  & r                   & pickup             \\\\\n",
       "\t dodge               & ram 1500 pickup 4wd & 4.7                 & 2008                & 8                   & auto(l5)            & 4                   &  9                  & 12                  & e                   & pickup             \\\\\n",
       "\t dodge               & ram 1500 pickup 4wd & 4.7                 & 2008                & 8                   & auto(l5)            & 4                   & 13                  & 17                  & r                   & pickup             \\\\\n",
       "\t dodge               & ram 1500 pickup 4wd & 4.7                 & 2008                & 8                   & auto(l5)            & 4                   & 13                  & 17                  & r                   & pickup             \\\\\n",
       "\t ⋮ & ⋮ & ⋮ & ⋮ & ⋮ & ⋮ & ⋮ & ⋮ & ⋮ & ⋮ & ⋮\\\\\n",
       "\t ford                   & explorer 4wd           & 5.0                    & 1999                   & 8                      & auto(l4)               & 4                      & 13                     & 17                     & r                      & suv                   \\\\\n",
       "\t ford                   & f150 pickup 4wd        & 4.6                    & 1999                   & 8                      & manual(m5)             & 4                      & 13                     & 16                     & r                      & pickup                \\\\\n",
       "\t ford                   & f150 pickup 4wd        & 4.6                    & 1999                   & 8                      & auto(l4)               & 4                      & 13                     & 16                     & r                      & pickup                \\\\\n",
       "\t ford                   & f150 pickup 4wd        & 4.6                    & 2008                   & 8                      & auto(l4)               & 4                      & 13                     & 17                     & r                      & pickup                \\\\\n",
       "\t ford                   & f150 pickup 4wd        & 5.4                    & 1999                   & 8                      & auto(l4)               & 4                      & 11                     & 15                     & r                      & pickup                \\\\\n",
       "\t ford                   & f150 pickup 4wd        & 5.4                    & 2008                   & 8                      & auto(l4)               & 4                      & 13                     & 17                     & r                      & pickup                \\\\\n",
       "\t ford                   & mustang                & 4.6                    & 1999                   & 8                      & auto(l4)               & r                      & 15                     & 21                     & r                      & subcompact            \\\\\n",
       "\t ford                   & mustang                & 4.6                    & 1999                   & 8                      & manual(m5)             & r                      & 15                     & 22                     & r                      & subcompact            \\\\\n",
       "\t ford                   & mustang                & 4.6                    & 2008                   & 8                      & manual(m5)             & r                      & 15                     & 23                     & r                      & subcompact            \\\\\n",
       "\t ford                   & mustang                & 4.6                    & 2008                   & 8                      & auto(l5)               & r                      & 15                     & 22                     & r                      & subcompact            \\\\\n",
       "\t ford                   & mustang                & 5.4                    & 2008                   & 8                      & manual(m6)             & r                      & 14                     & 20                     & p                      & subcompact            \\\\\n",
       "\t jeep                   & grand cherokee 4wd     & 4.7                    & 1999                   & 8                      & auto(l4)               & 4                      & 14                     & 17                     & r                      & suv                   \\\\\n",
       "\t jeep                   & grand cherokee 4wd     & 4.7                    & 2008                   & 8                      & auto(l5)               & 4                      &  9                     & 12                     & e                      & suv                   \\\\\n",
       "\t jeep                   & grand cherokee 4wd     & 4.7                    & 2008                   & 8                      & auto(l5)               & 4                      & 14                     & 19                     & r                      & suv                   \\\\\n",
       "\t jeep                   & grand cherokee 4wd     & 5.7                    & 2008                   & 8                      & auto(l5)               & 4                      & 13                     & 18                     & r                      & suv                   \\\\\n",
       "\t jeep                   & grand cherokee 4wd     & 6.1                    & 2008                   & 8                      & auto(l5)               & 4                      & 11                     & 14                     & p                      & suv                   \\\\\n",
       "\t land rover             & range rover            & 4.0                    & 1999                   & 8                      & auto(l4)               & 4                      & 11                     & 15                     & p                      & suv                   \\\\\n",
       "\t land rover             & range rover            & 4.2                    & 2008                   & 8                      & auto(s6)               & 4                      & 12                     & 18                     & r                      & suv                   \\\\\n",
       "\t land rover             & range rover            & 4.4                    & 2008                   & 8                      & auto(s6)               & 4                      & 12                     & 18                     & r                      & suv                   \\\\\n",
       "\t land rover             & range rover            & 4.6                    & 1999                   & 8                      & auto(l4)               & 4                      & 11                     & 15                     & p                      & suv                   \\\\\n",
       "\t lincoln                & navigator 2wd          & 5.4                    & 1999                   & 8                      & auto(l4)               & r                      & 11                     & 17                     & r                      & suv                   \\\\\n",
       "\t lincoln                & navigator 2wd          & 5.4                    & 1999                   & 8                      & auto(l4)               & r                      & 11                     & 16                     & p                      & suv                   \\\\\n",
       "\t lincoln                & navigator 2wd          & 5.4                    & 2008                   & 8                      & auto(l6)               & r                      & 12                     & 18                     & r                      & suv                   \\\\\n",
       "\t mercury                & mountaineer 4wd        & 4.6                    & 2008                   & 8                      & auto(l6)               & 4                      & 13                     & 19                     & r                      & suv                   \\\\\n",
       "\t mercury                & mountaineer 4wd        & 5.0                    & 1999                   & 8                      & auto(l4)               & 4                      & 13                     & 17                     & r                      & suv                   \\\\\n",
       "\t nissan                 & pathfinder 4wd         & 5.6                    & 2008                   & 8                      & auto(s5)               & 4                      & 12                     & 18                     & p                      & suv                   \\\\\n",
       "\t pontiac                & grand prix             & 5.3                    & 2008                   & 8                      & auto(s4)               & f                      & 16                     & 25                     & p                      & midsize               \\\\\n",
       "\t toyota                 & 4runner 4wd            & 4.7                    & 2008                   & 8                      & auto(l5)               & 4                      & 14                     & 17                     & r                      & suv                   \\\\\n",
       "\t toyota                 & land cruiser wagon 4wd & 4.7                    & 1999                   & 8                      & auto(l4)               & 4                      & 11                     & 15                     & r                      & suv                   \\\\\n",
       "\t toyota                 & land cruiser wagon 4wd & 5.7                    & 2008                   & 8                      & auto(s6)               & 4                      & 13                     & 18                     & r                      & suv                   \\\\\n",
       "\\end{tabular}\n"
      ],
      "text/markdown": [
       "\n",
       "manufacturer | model | displ | year | cyl | trans | drv | cty | hwy | fl | class | \n",
       "|---|---|---|---|---|---|---|---|---|---|---|---|---|---|---|---|---|---|---|---|---|---|---|---|---|---|---|---|---|---|---|---|---|---|---|---|---|---|---|---|---|---|---|---|---|---|---|---|---|---|---|---|---|---|---|---|---|---|---|---|---|\n",
       "| audi                | a6 quattro          | 4.2                 | 2008                | 8                   | auto(s6)            | 4                   | 16                  | 23                  | p                   | midsize             | \n",
       "| chevrolet           | c1500 suburban 2wd  | 5.3                 | 2008                | 8                   | auto(l4)            | r                   | 14                  | 20                  | r                   | suv                 | \n",
       "| chevrolet           | c1500 suburban 2wd  | 5.3                 | 2008                | 8                   | auto(l4)            | r                   | 11                  | 15                  | e                   | suv                 | \n",
       "| chevrolet           | c1500 suburban 2wd  | 5.3                 | 2008                | 8                   | auto(l4)            | r                   | 14                  | 20                  | r                   | suv                 | \n",
       "| chevrolet           | c1500 suburban 2wd  | 5.7                 | 1999                | 8                   | auto(l4)            | r                   | 13                  | 17                  | r                   | suv                 | \n",
       "| chevrolet           | c1500 suburban 2wd  | 6.0                 | 2008                | 8                   | auto(l4)            | r                   | 12                  | 17                  | r                   | suv                 | \n",
       "| chevrolet           | corvette            | 5.7                 | 1999                | 8                   | manual(m6)          | r                   | 16                  | 26                  | p                   | 2seater             | \n",
       "| chevrolet           | corvette            | 5.7                 | 1999                | 8                   | auto(l4)            | r                   | 15                  | 23                  | p                   | 2seater             | \n",
       "| chevrolet           | corvette            | 6.2                 | 2008                | 8                   | manual(m6)          | r                   | 16                  | 26                  | p                   | 2seater             | \n",
       "| chevrolet           | corvette            | 6.2                 | 2008                | 8                   | auto(s6)            | r                   | 15                  | 25                  | p                   | 2seater             | \n",
       "| chevrolet           | corvette            | 7.0                 | 2008                | 8                   | manual(m6)          | r                   | 15                  | 24                  | p                   | 2seater             | \n",
       "| chevrolet           | k1500 tahoe 4wd     | 5.3                 | 2008                | 8                   | auto(l4)            | 4                   | 14                  | 19                  | r                   | suv                 | \n",
       "| chevrolet           | k1500 tahoe 4wd     | 5.3                 | 2008                | 8                   | auto(l4)            | 4                   | 11                  | 14                  | e                   | suv                 | \n",
       "| chevrolet           | k1500 tahoe 4wd     | 5.7                 | 1999                | 8                   | auto(l4)            | 4                   | 11                  | 15                  | r                   | suv                 | \n",
       "| chevrolet           | k1500 tahoe 4wd     | 6.5                 | 1999                | 8                   | auto(l4)            | 4                   | 14                  | 17                  | d                   | suv                 | \n",
       "| dodge               | dakota pickup 4wd   | 4.7                 | 2008                | 8                   | auto(l5)            | 4                   | 14                  | 19                  | r                   | pickup              | \n",
       "| dodge               | dakota pickup 4wd   | 4.7                 | 2008                | 8                   | auto(l5)            | 4                   | 14                  | 19                  | r                   | pickup              | \n",
       "| dodge               | dakota pickup 4wd   | 4.7                 | 2008                | 8                   | auto(l5)            | 4                   |  9                  | 12                  | e                   | pickup              | \n",
       "| dodge               | dakota pickup 4wd   | 5.2                 | 1999                | 8                   | manual(m5)          | 4                   | 11                  | 17                  | r                   | pickup              | \n",
       "| dodge               | dakota pickup 4wd   | 5.2                 | 1999                | 8                   | auto(l4)            | 4                   | 11                  | 15                  | r                   | pickup              | \n",
       "| dodge               | durango 4wd         | 4.7                 | 2008                | 8                   | auto(l5)            | 4                   | 13                  | 17                  | r                   | suv                 | \n",
       "| dodge               | durango 4wd         | 4.7                 | 2008                | 8                   | auto(l5)            | 4                   |  9                  | 12                  | e                   | suv                 | \n",
       "| dodge               | durango 4wd         | 4.7                 | 2008                | 8                   | auto(l5)            | 4                   | 13                  | 17                  | r                   | suv                 | \n",
       "| dodge               | durango 4wd         | 5.2                 | 1999                | 8                   | auto(l4)            | 4                   | 11                  | 16                  | r                   | suv                 | \n",
       "| dodge               | durango 4wd         | 5.7                 | 2008                | 8                   | auto(l5)            | 4                   | 13                  | 18                  | r                   | suv                 | \n",
       "| dodge               | durango 4wd         | 5.9                 | 1999                | 8                   | auto(l4)            | 4                   | 11                  | 15                  | r                   | suv                 | \n",
       "| dodge               | ram 1500 pickup 4wd | 4.7                 | 2008                | 8                   | manual(m6)          | 4                   | 12                  | 16                  | r                   | pickup              | \n",
       "| dodge               | ram 1500 pickup 4wd | 4.7                 | 2008                | 8                   | auto(l5)            | 4                   |  9                  | 12                  | e                   | pickup              | \n",
       "| dodge               | ram 1500 pickup 4wd | 4.7                 | 2008                | 8                   | auto(l5)            | 4                   | 13                  | 17                  | r                   | pickup              | \n",
       "| dodge               | ram 1500 pickup 4wd | 4.7                 | 2008                | 8                   | auto(l5)            | 4                   | 13                  | 17                  | r                   | pickup              | \n",
       "| ⋮ | ⋮ | ⋮ | ⋮ | ⋮ | ⋮ | ⋮ | ⋮ | ⋮ | ⋮ | ⋮ | \n",
       "| ford                   | explorer 4wd           | 5.0                    | 1999                   | 8                      | auto(l4)               | 4                      | 13                     | 17                     | r                      | suv                    | \n",
       "| ford                   | f150 pickup 4wd        | 4.6                    | 1999                   | 8                      | manual(m5)             | 4                      | 13                     | 16                     | r                      | pickup                 | \n",
       "| ford                   | f150 pickup 4wd        | 4.6                    | 1999                   | 8                      | auto(l4)               | 4                      | 13                     | 16                     | r                      | pickup                 | \n",
       "| ford                   | f150 pickup 4wd        | 4.6                    | 2008                   | 8                      | auto(l4)               | 4                      | 13                     | 17                     | r                      | pickup                 | \n",
       "| ford                   | f150 pickup 4wd        | 5.4                    | 1999                   | 8                      | auto(l4)               | 4                      | 11                     | 15                     | r                      | pickup                 | \n",
       "| ford                   | f150 pickup 4wd        | 5.4                    | 2008                   | 8                      | auto(l4)               | 4                      | 13                     | 17                     | r                      | pickup                 | \n",
       "| ford                   | mustang                | 4.6                    | 1999                   | 8                      | auto(l4)               | r                      | 15                     | 21                     | r                      | subcompact             | \n",
       "| ford                   | mustang                | 4.6                    | 1999                   | 8                      | manual(m5)             | r                      | 15                     | 22                     | r                      | subcompact             | \n",
       "| ford                   | mustang                | 4.6                    | 2008                   | 8                      | manual(m5)             | r                      | 15                     | 23                     | r                      | subcompact             | \n",
       "| ford                   | mustang                | 4.6                    | 2008                   | 8                      | auto(l5)               | r                      | 15                     | 22                     | r                      | subcompact             | \n",
       "| ford                   | mustang                | 5.4                    | 2008                   | 8                      | manual(m6)             | r                      | 14                     | 20                     | p                      | subcompact             | \n",
       "| jeep                   | grand cherokee 4wd     | 4.7                    | 1999                   | 8                      | auto(l4)               | 4                      | 14                     | 17                     | r                      | suv                    | \n",
       "| jeep                   | grand cherokee 4wd     | 4.7                    | 2008                   | 8                      | auto(l5)               | 4                      |  9                     | 12                     | e                      | suv                    | \n",
       "| jeep                   | grand cherokee 4wd     | 4.7                    | 2008                   | 8                      | auto(l5)               | 4                      | 14                     | 19                     | r                      | suv                    | \n",
       "| jeep                   | grand cherokee 4wd     | 5.7                    | 2008                   | 8                      | auto(l5)               | 4                      | 13                     | 18                     | r                      | suv                    | \n",
       "| jeep                   | grand cherokee 4wd     | 6.1                    | 2008                   | 8                      | auto(l5)               | 4                      | 11                     | 14                     | p                      | suv                    | \n",
       "| land rover             | range rover            | 4.0                    | 1999                   | 8                      | auto(l4)               | 4                      | 11                     | 15                     | p                      | suv                    | \n",
       "| land rover             | range rover            | 4.2                    | 2008                   | 8                      | auto(s6)               | 4                      | 12                     | 18                     | r                      | suv                    | \n",
       "| land rover             | range rover            | 4.4                    | 2008                   | 8                      | auto(s6)               | 4                      | 12                     | 18                     | r                      | suv                    | \n",
       "| land rover             | range rover            | 4.6                    | 1999                   | 8                      | auto(l4)               | 4                      | 11                     | 15                     | p                      | suv                    | \n",
       "| lincoln                | navigator 2wd          | 5.4                    | 1999                   | 8                      | auto(l4)               | r                      | 11                     | 17                     | r                      | suv                    | \n",
       "| lincoln                | navigator 2wd          | 5.4                    | 1999                   | 8                      | auto(l4)               | r                      | 11                     | 16                     | p                      | suv                    | \n",
       "| lincoln                | navigator 2wd          | 5.4                    | 2008                   | 8                      | auto(l6)               | r                      | 12                     | 18                     | r                      | suv                    | \n",
       "| mercury                | mountaineer 4wd        | 4.6                    | 2008                   | 8                      | auto(l6)               | 4                      | 13                     | 19                     | r                      | suv                    | \n",
       "| mercury                | mountaineer 4wd        | 5.0                    | 1999                   | 8                      | auto(l4)               | 4                      | 13                     | 17                     | r                      | suv                    | \n",
       "| nissan                 | pathfinder 4wd         | 5.6                    | 2008                   | 8                      | auto(s5)               | 4                      | 12                     | 18                     | p                      | suv                    | \n",
       "| pontiac                | grand prix             | 5.3                    | 2008                   | 8                      | auto(s4)               | f                      | 16                     | 25                     | p                      | midsize                | \n",
       "| toyota                 | 4runner 4wd            | 4.7                    | 2008                   | 8                      | auto(l5)               | 4                      | 14                     | 17                     | r                      | suv                    | \n",
       "| toyota                 | land cruiser wagon 4wd | 4.7                    | 1999                   | 8                      | auto(l4)               | 4                      | 11                     | 15                     | r                      | suv                    | \n",
       "| toyota                 | land cruiser wagon 4wd | 5.7                    | 2008                   | 8                      | auto(s6)               | 4                      | 13                     | 18                     | r                      | suv                    | \n",
       "\n",
       "\n"
      ],
      "text/plain": [
       "   manufacturer model                  displ year cyl trans      drv cty hwy fl\n",
       "1  audi         a6 quattro             4.2   2008 8   auto(s6)   4   16  23  p \n",
       "2  chevrolet    c1500 suburban 2wd     5.3   2008 8   auto(l4)   r   14  20  r \n",
       "3  chevrolet    c1500 suburban 2wd     5.3   2008 8   auto(l4)   r   11  15  e \n",
       "4  chevrolet    c1500 suburban 2wd     5.3   2008 8   auto(l4)   r   14  20  r \n",
       "5  chevrolet    c1500 suburban 2wd     5.7   1999 8   auto(l4)   r   13  17  r \n",
       "6  chevrolet    c1500 suburban 2wd     6.0   2008 8   auto(l4)   r   12  17  r \n",
       "7  chevrolet    corvette               5.7   1999 8   manual(m6) r   16  26  p \n",
       "8  chevrolet    corvette               5.7   1999 8   auto(l4)   r   15  23  p \n",
       "9  chevrolet    corvette               6.2   2008 8   manual(m6) r   16  26  p \n",
       "10 chevrolet    corvette               6.2   2008 8   auto(s6)   r   15  25  p \n",
       "11 chevrolet    corvette               7.0   2008 8   manual(m6) r   15  24  p \n",
       "12 chevrolet    k1500 tahoe 4wd        5.3   2008 8   auto(l4)   4   14  19  r \n",
       "13 chevrolet    k1500 tahoe 4wd        5.3   2008 8   auto(l4)   4   11  14  e \n",
       "14 chevrolet    k1500 tahoe 4wd        5.7   1999 8   auto(l4)   4   11  15  r \n",
       "15 chevrolet    k1500 tahoe 4wd        6.5   1999 8   auto(l4)   4   14  17  d \n",
       "16 dodge        dakota pickup 4wd      4.7   2008 8   auto(l5)   4   14  19  r \n",
       "17 dodge        dakota pickup 4wd      4.7   2008 8   auto(l5)   4   14  19  r \n",
       "18 dodge        dakota pickup 4wd      4.7   2008 8   auto(l5)   4    9  12  e \n",
       "19 dodge        dakota pickup 4wd      5.2   1999 8   manual(m5) 4   11  17  r \n",
       "20 dodge        dakota pickup 4wd      5.2   1999 8   auto(l4)   4   11  15  r \n",
       "21 dodge        durango 4wd            4.7   2008 8   auto(l5)   4   13  17  r \n",
       "22 dodge        durango 4wd            4.7   2008 8   auto(l5)   4    9  12  e \n",
       "23 dodge        durango 4wd            4.7   2008 8   auto(l5)   4   13  17  r \n",
       "24 dodge        durango 4wd            5.2   1999 8   auto(l4)   4   11  16  r \n",
       "25 dodge        durango 4wd            5.7   2008 8   auto(l5)   4   13  18  r \n",
       "26 dodge        durango 4wd            5.9   1999 8   auto(l4)   4   11  15  r \n",
       "27 dodge        ram 1500 pickup 4wd    4.7   2008 8   manual(m6) 4   12  16  r \n",
       "28 dodge        ram 1500 pickup 4wd    4.7   2008 8   auto(l5)   4    9  12  e \n",
       "29 dodge        ram 1500 pickup 4wd    4.7   2008 8   auto(l5)   4   13  17  r \n",
       "30 dodge        ram 1500 pickup 4wd    4.7   2008 8   auto(l5)   4   13  17  r \n",
       "⋮  ⋮            ⋮                      ⋮     ⋮    ⋮   ⋮          ⋮   ⋮   ⋮   ⋮ \n",
       "41 ford         explorer 4wd           5.0   1999 8   auto(l4)   4   13  17  r \n",
       "42 ford         f150 pickup 4wd        4.6   1999 8   manual(m5) 4   13  16  r \n",
       "43 ford         f150 pickup 4wd        4.6   1999 8   auto(l4)   4   13  16  r \n",
       "44 ford         f150 pickup 4wd        4.6   2008 8   auto(l4)   4   13  17  r \n",
       "45 ford         f150 pickup 4wd        5.4   1999 8   auto(l4)   4   11  15  r \n",
       "46 ford         f150 pickup 4wd        5.4   2008 8   auto(l4)   4   13  17  r \n",
       "47 ford         mustang                4.6   1999 8   auto(l4)   r   15  21  r \n",
       "48 ford         mustang                4.6   1999 8   manual(m5) r   15  22  r \n",
       "49 ford         mustang                4.6   2008 8   manual(m5) r   15  23  r \n",
       "50 ford         mustang                4.6   2008 8   auto(l5)   r   15  22  r \n",
       "51 ford         mustang                5.4   2008 8   manual(m6) r   14  20  p \n",
       "52 jeep         grand cherokee 4wd     4.7   1999 8   auto(l4)   4   14  17  r \n",
       "53 jeep         grand cherokee 4wd     4.7   2008 8   auto(l5)   4    9  12  e \n",
       "54 jeep         grand cherokee 4wd     4.7   2008 8   auto(l5)   4   14  19  r \n",
       "55 jeep         grand cherokee 4wd     5.7   2008 8   auto(l5)   4   13  18  r \n",
       "56 jeep         grand cherokee 4wd     6.1   2008 8   auto(l5)   4   11  14  p \n",
       "57 land rover   range rover            4.0   1999 8   auto(l4)   4   11  15  p \n",
       "58 land rover   range rover            4.2   2008 8   auto(s6)   4   12  18  r \n",
       "59 land rover   range rover            4.4   2008 8   auto(s6)   4   12  18  r \n",
       "60 land rover   range rover            4.6   1999 8   auto(l4)   4   11  15  p \n",
       "61 lincoln      navigator 2wd          5.4   1999 8   auto(l4)   r   11  17  r \n",
       "62 lincoln      navigator 2wd          5.4   1999 8   auto(l4)   r   11  16  p \n",
       "63 lincoln      navigator 2wd          5.4   2008 8   auto(l6)   r   12  18  r \n",
       "64 mercury      mountaineer 4wd        4.6   2008 8   auto(l6)   4   13  19  r \n",
       "65 mercury      mountaineer 4wd        5.0   1999 8   auto(l4)   4   13  17  r \n",
       "66 nissan       pathfinder 4wd         5.6   2008 8   auto(s5)   4   12  18  p \n",
       "67 pontiac      grand prix             5.3   2008 8   auto(s4)   f   16  25  p \n",
       "68 toyota       4runner 4wd            4.7   2008 8   auto(l5)   4   14  17  r \n",
       "69 toyota       land cruiser wagon 4wd 4.7   1999 8   auto(l4)   4   11  15  r \n",
       "70 toyota       land cruiser wagon 4wd 5.7   2008 8   auto(s6)   4   13  18  r \n",
       "   class     \n",
       "1  midsize   \n",
       "2  suv       \n",
       "3  suv       \n",
       "4  suv       \n",
       "5  suv       \n",
       "6  suv       \n",
       "7  2seater   \n",
       "8  2seater   \n",
       "9  2seater   \n",
       "10 2seater   \n",
       "11 2seater   \n",
       "12 suv       \n",
       "13 suv       \n",
       "14 suv       \n",
       "15 suv       \n",
       "16 pickup    \n",
       "17 pickup    \n",
       "18 pickup    \n",
       "19 pickup    \n",
       "20 pickup    \n",
       "21 suv       \n",
       "22 suv       \n",
       "23 suv       \n",
       "24 suv       \n",
       "25 suv       \n",
       "26 suv       \n",
       "27 pickup    \n",
       "28 pickup    \n",
       "29 pickup    \n",
       "30 pickup    \n",
       "⋮  ⋮         \n",
       "41 suv       \n",
       "42 pickup    \n",
       "43 pickup    \n",
       "44 pickup    \n",
       "45 pickup    \n",
       "46 pickup    \n",
       "47 subcompact\n",
       "48 subcompact\n",
       "49 subcompact\n",
       "50 subcompact\n",
       "51 subcompact\n",
       "52 suv       \n",
       "53 suv       \n",
       "54 suv       \n",
       "55 suv       \n",
       "56 suv       \n",
       "57 suv       \n",
       "58 suv       \n",
       "59 suv       \n",
       "60 suv       \n",
       "61 suv       \n",
       "62 suv       \n",
       "63 suv       \n",
       "64 suv       \n",
       "65 suv       \n",
       "66 suv       \n",
       "67 midsize   \n",
       "68 suv       \n",
       "69 suv       \n",
       "70 suv       "
      ]
     },
     "metadata": {},
     "output_type": "display_data"
    }
   ],
   "source": [
    "#This just gives a dataframe with 70 obs, only 8 cylinder cars \n",
    "mpg.8cyl<-mpg %>% \n",
    "  filter(cyl == 8)\n",
    "mpg.8cyl\n"
   ]
  },
  {
   "cell_type": "code",
   "execution_count": null,
   "metadata": {
    "collapsed": true
   },
   "outputs": [],
   "source": [
    "#Filter to only those cars that have miles per gallon equal to \n",
    "mpg.8cyl<-mpg %>% \n",
    "  filter(cyl == 8)\n",
    "\n",
    "#Alt Syntax\n",
    "mpg.8cyl<-filter(mpg, cyl == 8)\n",
    "\n",
    "#Flights on the 1/1\n",
    "flight11<-filter(flights, month == 1, day == 1) "
   ]
  },
  {
   "cell_type": "code",
   "execution_count": null,
   "metadata": {
    "collapsed": true
   },
   "outputs": [],
   "source": [
    "#Sort cars by MPG highway(hwy) then city(cty)\n",
    "mpgsort<-arrange(mpg, hwy, cty)"
   ]
  },
  {
   "cell_type": "code",
   "execution_count": null,
   "metadata": {
    "collapsed": true
   },
   "outputs": [],
   "source": [
    "#From the documentation https://cran.r-project.org/web/packages/dplyr/dplyr.pdf  \n",
    "select(iris, starts_with(\"petal\")) #returns columns that start with \"Petal\"\n",
    "select(iris, ends_with(\"width\")) #returns columns that start with \"Width\"\n",
    "select(iris, contains(\"etal\"))\n",
    "select(iris, matches(\".t.\"))\n",
    "select(iris, Petal.Length, Petal.Width)\n",
    "vars <- c(\"Petal.Length\", \"Petal.Width\")\n",
    "select(iris, one_of(vars))"
   ]
  },
  {
   "cell_type": "code",
   "execution_count": null,
   "metadata": {
    "collapsed": true
   },
   "outputs": [],
   "source": [
    "#Recoding Data\n",
    "# See Creating new variables with mutate and ifelse: \n",
    "# https://rstudio-pubs-static.s3.amazonaws.com/116317_e6922e81e72e4e3f83995485ce686c14.html \n",
    "mutate(mpg, displ_l = disp / 61.0237)\n"
   ]
  },
  {
   "cell_type": "code",
   "execution_count": null,
   "metadata": {
    "collapsed": true
   },
   "outputs": [],
   "source": [
    "# Example taken from David Ranzolin\n",
    "# https://rstudio-pubs-static.s3.amazonaws.com/116317_e6922e81e72e4e3f83995485ce686c14.html#/9 \n",
    "section <- c(\"MATH111\", \"MATH111\", \"ENG111\")\n",
    "grade <- c(78, 93, 56)\n",
    "student <- c(\"David\", \"Kristina\", \"Mycroft\")\n",
    "gradebook <- data.frame(section, grade, student)\n",
    "\n",
    "#As the output is a tibble, here we are saving each intermediate version.\n",
    "gradebook2<-mutate(gradebook, Pass.Fail = ifelse(grade > 60, \"Pass\", \"Fail\"))  \n",
    "gradebook3<-mutate(gradebook2, letter = ifelse(grade %in% 60:69, \"D\",\n",
    "                                               ifelse(grade %in% 70:79, \"C\",\n",
    "                                                      ifelse(grade %in% 80:89, \"B\",\n",
    "                                                             ifelse(grade %in% 90:99, \"A\", \"F\")))))\n",
    "\n"
   ]
  },
  {
   "cell_type": "code",
   "execution_count": null,
   "metadata": {
    "collapsed": true
   },
   "outputs": [],
   "source": [
    "#Here we are using piping to do this more effectively. \n",
    "gradebook4<-gradebook %>%\n",
    "mutate(Pass.Fail = ifelse(grade > 60, \"Pass\", \"Fail\"))  %>%\n",
    "mutate(letter = ifelse(grade %in% 60:69, \"D\", \n",
    "                                  ifelse(grade %in% 70:79, \"C\",\n",
    "                                         ifelse(grade %in% 80:89, \"B\",\n",
    "                                                ifelse(grade %in% 90:99, \"A\", \"F\")))))\n",
    "\n",
    "\n"
   ]
  },
  {
   "cell_type": "code",
   "execution_count": null,
   "metadata": {
    "collapsed": true
   },
   "outputs": [],
   "source": [
    "#find the average city and highway mpg\n",
    "summarise(mpg, mean(cty), mean(hwy))\n",
    "#find the average city and highway mpg by cylander\n",
    "summarise(group_by(mpg, cyl), mean(cty), mean(hwy))\n",
    "summarise(group_by(mtcars, cyl), m = mean(disp), sd = sd(disp))\n",
    "\n",
    "# With data frames, you can create and immediately use summaries\n",
    "by_cyl <- mtcars %>% group_by(cyl)\n",
    "by_cyl %>% summarise(a = n(), b = a + 1)"
   ]
  },
  {
   "cell_type": "markdown",
   "metadata": {},
   "source": [
    "## `tibble`\n",
    "- `Tibbles` are data frames, but slight changed so that they work better in the `tidyverse` and with `dplyr`.\n",
    "- https://github.com/tidyverse/tibble]"
   ]
  },
  {
   "cell_type": "code",
   "execution_count": null,
   "metadata": {
    "collapsed": true
   },
   "outputs": [],
   "source": [
    "#Tibble Demo\n",
    "iris<-as_tibble(read.csv(file=\"../../data/iris.csv\", header=TRUE,sep=\",\"))\n",
    "#you can see this is of class tbl_df\n",
    "class(iris)"
   ]
  },
  {
   "cell_type": "markdown",
   "metadata": {},
   "source": [
    "#This was adopted from the Berkley R Bootcamp. "
   ]
  }
 ],
 "metadata": {
  "anaconda-cloud": {},
  "celltoolbar": "Slideshow",
  "kernelspec": {
   "display_name": "R",
   "language": "R",
   "name": "ir"
  },
  "language_info": {
   "codemirror_mode": "r",
   "file_extension": ".r",
   "mimetype": "text/x-r-source",
   "name": "R",
   "pygments_lexer": "r",
   "version": "3.3.2"
  }
 },
 "nbformat": 4,
 "nbformat_minor": 1
}
