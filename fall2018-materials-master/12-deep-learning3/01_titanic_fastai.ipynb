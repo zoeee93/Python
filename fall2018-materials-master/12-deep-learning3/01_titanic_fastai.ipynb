{
  "nbformat": 4,
  "nbformat_minor": 0,
  "metadata": {
    "colab": {
      "name": "01-titanic-fastai.ipynb",
      "version": "0.3.2",
      "provenance": [],
      "collapsed_sections": []
    },
    "kernelspec": {
      "name": "python3",
      "display_name": "Python 3"
    },
    "accelerator": "GPU"
  },
  "cells": [
    {
      "metadata": {
        "id": "2C0MKJaprzeU",
        "colab_type": "text"
      },
      "cell_type": "markdown",
      "source": [
        "[![AnalyticsDojo](https://github.com/rpi-techfundamentals/fall2018-materials/blob/master/fig/final-logo.png?raw=1)](http://rpi.analyticsdojo.com)\n",
        "<center><h1>Fastai - Revisiting Titanic</h1></center>\n",
        "<center><h3><a href = 'http://rpi.analyticsdojo.com'>rpi.analyticsdojo.com</a></h3></center>\n"
      ]
    },
    {
      "metadata": {
        "id": "yqN4B-3Irv2I",
        "colab_type": "code",
        "outputId": "971493d9-8fb4-4687-ab9f-041f9bd5fc1c",
        "colab": {
          "base_uri": "https://localhost:8080/",
          "height": 760
        }
      },
      "cell_type": "code",
      "source": [
        "!pip install torch_nightly -f https://download.pytorch.org/whl/nightly/cu92/torch_nightly.html\n",
        "!pip install fastai"
      ],
      "execution_count": 64,
      "outputs": [
        {
          "output_type": "stream",
          "text": [
            "Looking in links: https://download.pytorch.org/whl/nightly/cu92/torch_nightly.html\n",
            "Requirement already satisfied: torch_nightly in /usr/local/lib/python3.6/dist-packages (1.0.0.dev20181203)\n",
            "Requirement already satisfied: fastai in /usr/local/lib/python3.6/dist-packages (1.0.32)\n",
            "Requirement already satisfied: bottleneck in /usr/local/lib/python3.6/dist-packages (from fastai) (1.2.1)\n",
            "Requirement already satisfied: Pillow in /usr/local/lib/python3.6/dist-packages (from fastai) (4.0.0)\n",
            "Requirement already satisfied: requests in /usr/local/lib/python3.6/dist-packages (from fastai) (2.18.4)\n",
            "Requirement already satisfied: spacy==2.0.16 in /usr/local/lib/python3.6/dist-packages (from fastai) (2.0.16)\n",
            "Requirement already satisfied: torchvision-nightly in /usr/local/lib/python3.6/dist-packages (from fastai) (0.2.1)\n",
            "Requirement already satisfied: matplotlib in /usr/local/lib/python3.6/dist-packages (from fastai) (2.1.2)\n",
            "Requirement already satisfied: typing in /usr/local/lib/python3.6/dist-packages (from fastai) (3.6.6)\n",
            "Requirement already satisfied: thinc==6.12.0 in /usr/local/lib/python3.6/dist-packages (from fastai) (6.12.0)\n",
            "Requirement already satisfied: dataclasses in /usr/local/lib/python3.6/dist-packages (from fastai) (0.6)\n",
            "Requirement already satisfied: scipy in /usr/local/lib/python3.6/dist-packages (from fastai) (1.1.0)\n",
            "Requirement already satisfied: numpy>=1.12 in /usr/local/lib/python3.6/dist-packages (from fastai) (1.14.6)\n",
            "Requirement already satisfied: pyyaml in /usr/local/lib/python3.6/dist-packages (from fastai) (3.13)\n",
            "Requirement already satisfied: fastprogress>=0.1.16 in /usr/local/lib/python3.6/dist-packages (from fastai) (0.1.16)\n",
            "Requirement already satisfied: cymem==2.0.2 in /usr/local/lib/python3.6/dist-packages (from fastai) (2.0.2)\n",
            "Requirement already satisfied: numexpr in /usr/local/lib/python3.6/dist-packages (from fastai) (2.6.8)\n",
            "Requirement already satisfied: pandas in /usr/local/lib/python3.6/dist-packages (from fastai) (0.22.0)\n",
            "Requirement already satisfied: regex in /usr/local/lib/python3.6/dist-packages (from fastai) (2017.11.9)\n",
            "Requirement already satisfied: olefile in /usr/local/lib/python3.6/dist-packages (from Pillow->fastai) (0.46)\n",
            "Requirement already satisfied: idna<2.7,>=2.5 in /usr/local/lib/python3.6/dist-packages (from requests->fastai) (2.6)\n",
            "Requirement already satisfied: chardet<3.1.0,>=3.0.2 in /usr/local/lib/python3.6/dist-packages (from requests->fastai) (3.0.4)\n",
            "Requirement already satisfied: urllib3<1.23,>=1.21.1 in /usr/local/lib/python3.6/dist-packages (from requests->fastai) (1.22)\n",
            "Requirement already satisfied: certifi>=2017.4.17 in /usr/local/lib/python3.6/dist-packages (from requests->fastai) (2018.10.15)\n",
            "Requirement already satisfied: ujson>=1.35 in /usr/local/lib/python3.6/dist-packages (from spacy==2.0.16->fastai) (1.35)\n",
            "Requirement already satisfied: dill<0.3,>=0.2 in /usr/local/lib/python3.6/dist-packages (from spacy==2.0.16->fastai) (0.2.8.2)\n",
            "Requirement already satisfied: msgpack-numpy<0.4.4 in /usr/local/lib/python3.6/dist-packages (from spacy==2.0.16->fastai) (0.4.3.2)\n",
            "Requirement already satisfied: murmurhash<1.1.0,>=0.28.0 in /usr/local/lib/python3.6/dist-packages (from spacy==2.0.16->fastai) (1.0.1)\n",
            "Requirement already satisfied: plac<1.0.0,>=0.9.6 in /usr/local/lib/python3.6/dist-packages (from spacy==2.0.16->fastai) (0.9.6)\n",
            "Requirement already satisfied: preshed<2.1.0,>=2.0.1 in /usr/local/lib/python3.6/dist-packages (from spacy==2.0.16->fastai) (2.0.1)\n",
            "Requirement already satisfied: tqdm in /usr/local/lib/python3.6/dist-packages (from torchvision-nightly->fastai) (4.28.1)\n",
            "Requirement already satisfied: six in /usr/local/lib/python3.6/dist-packages (from torchvision-nightly->fastai) (1.11.0)\n",
            "Requirement already satisfied: python-dateutil>=2.1 in /usr/local/lib/python3.6/dist-packages (from matplotlib->fastai) (2.5.3)\n",
            "Requirement already satisfied: pyparsing!=2.0.4,!=2.1.2,!=2.1.6,>=2.0.1 in /usr/local/lib/python3.6/dist-packages (from matplotlib->fastai) (2.3.0)\n",
            "Requirement already satisfied: pytz in /usr/local/lib/python3.6/dist-packages (from matplotlib->fastai) (2018.7)\n",
            "Requirement already satisfied: cycler>=0.10 in /usr/local/lib/python3.6/dist-packages (from matplotlib->fastai) (0.10.0)\n",
            "Requirement already satisfied: msgpack<1.0.0,>=0.5.6 in /usr/local/lib/python3.6/dist-packages (from thinc==6.12.0->fastai) (0.5.6)\n",
            "Requirement already satisfied: cytoolz<0.10,>=0.9.0 in /usr/local/lib/python3.6/dist-packages (from thinc==6.12.0->fastai) (0.9.0.1)\n",
            "Requirement already satisfied: wrapt<1.11.0,>=1.10.0 in /usr/local/lib/python3.6/dist-packages (from thinc==6.12.0->fastai) (1.10.11)\n",
            "Requirement already satisfied: toolz>=0.8.0 in /usr/local/lib/python3.6/dist-packages (from cytoolz<0.10,>=0.9.0->thinc==6.12.0->fastai) (0.9.0)\n"
          ],
          "name": "stdout"
        }
      ]
    },
    {
      "metadata": {
        "id": "jo_XONekrzep",
        "colab_type": "code",
        "colab": {}
      },
      "cell_type": "code",
      "source": [
        "from fastai import *\n",
        "from fastai.tabular import * \n",
        "import numpy as np\n",
        "import pandas as pd\n",
        "import pandas as pd\n",
        "\n",
        "train= pd.read_csv('https://raw.githubusercontent.com/rpi-techfundamentals/fall2018-materials/master/input/train.csv')\n",
        "test = pd.read_csv('https://raw.githubusercontent.com/rpi-techfundamentals/fall2018-materials/master/input/test.csv')\n",
        "\n"
      ],
      "execution_count": 0,
      "outputs": []
    },
    {
      "metadata": {
        "id": "FfTX5TLgVOLb",
        "colab_type": "code",
        "colab": {
          "base_uri": "https://localhost:8080/",
          "height": 282
        },
        "outputId": "d6d1d986-c827-4d7c-aecf-3b463a5d8d83"
      },
      "cell_type": "code",
      "source": [
        "#Create a categorical variable from the family count \n",
        "def family(x):\n",
        "    if x < 2:\n",
        "        return 'Single'\n",
        "    elif x == 2:\n",
        "        return 'Couple'\n",
        "    elif x <= 4:\n",
        "        return 'InterM'\n",
        "    else:\n",
        "        return 'Large'\n",
        "\n",
        "\n",
        "for df in [train, test]:\n",
        "    df['Title'] = df['Name'].str.split(',').str[1].str.split(' ').str[1]\n",
        "    df['Title'] = df['Title'].replace(['Lady', 'the Countess', 'Countess', 'Capt', 'Col', 'Don', 'Dr', 'Major', 'Rev', 'Sir', 'Jonkheer', 'Dona', 'Ms', 'Mme', 'Mlle'], 'Rare')\n",
        "    df['Age']=df['Age'].fillna(df['Age'].median())\n",
        "    df['Fare']=df['Fare'].fillna(df['Fare'].median())\n",
        "    df['Embarked']=df['Embarked'].fillna('S')\n",
        "    df['NameLength'] = df['Name'].map(lambda x: len(x))\n",
        "    df['FamilyS'] = df['SibSp'] + df['Parch'] + 1\n",
        "    df['FamilyS'] = df['FamilyS'].apply(family)\n",
        "train.isnull().sum(axis = 0)\n"
      ],
      "execution_count": 66,
      "outputs": [
        {
          "output_type": "execute_result",
          "data": {
            "text/plain": [
              "PassengerId      0\n",
              "Survived         0\n",
              "Pclass           0\n",
              "Name             0\n",
              "Sex              0\n",
              "Age              0\n",
              "SibSp            0\n",
              "Parch            0\n",
              "Ticket           0\n",
              "Fare             0\n",
              "Cabin          687\n",
              "Embarked         0\n",
              "Title            0\n",
              "NameLength       0\n",
              "FamilyS          0\n",
              "dtype: int64"
            ]
          },
          "metadata": {
            "tags": []
          },
          "execution_count": 66
        }
      ]
    },
    {
      "metadata": {
        "id": "gSR2qKc4YPkT",
        "colab_type": "code",
        "colab": {
          "base_uri": "https://localhost:8080/",
          "height": 493
        },
        "outputId": "e43e6234-b1fe-4ba1-afbc-34277361cdc5"
      },
      "cell_type": "code",
      "source": [
        "train.head()"
      ],
      "execution_count": 67,
      "outputs": [
        {
          "output_type": "execute_result",
          "data": {
            "text/html": [
              "<div>\n",
              "<style scoped>\n",
              "    .dataframe tbody tr th:only-of-type {\n",
              "        vertical-align: middle;\n",
              "    }\n",
              "\n",
              "    .dataframe tbody tr th {\n",
              "        vertical-align: top;\n",
              "    }\n",
              "\n",
              "    .dataframe thead th {\n",
              "        text-align: right;\n",
              "    }\n",
              "</style>\n",
              "<table border=\"1\" class=\"dataframe\">\n",
              "  <thead>\n",
              "    <tr style=\"text-align: right;\">\n",
              "      <th></th>\n",
              "      <th>PassengerId</th>\n",
              "      <th>Survived</th>\n",
              "      <th>Pclass</th>\n",
              "      <th>Name</th>\n",
              "      <th>Sex</th>\n",
              "      <th>Age</th>\n",
              "      <th>SibSp</th>\n",
              "      <th>Parch</th>\n",
              "      <th>Ticket</th>\n",
              "      <th>Fare</th>\n",
              "      <th>Cabin</th>\n",
              "      <th>Embarked</th>\n",
              "      <th>Title</th>\n",
              "      <th>NameLength</th>\n",
              "      <th>FamilyS</th>\n",
              "    </tr>\n",
              "  </thead>\n",
              "  <tbody>\n",
              "    <tr>\n",
              "      <th>0</th>\n",
              "      <td>1</td>\n",
              "      <td>0</td>\n",
              "      <td>3</td>\n",
              "      <td>Braund, Mr. Owen Harris</td>\n",
              "      <td>male</td>\n",
              "      <td>22.0</td>\n",
              "      <td>1</td>\n",
              "      <td>0</td>\n",
              "      <td>A/5 21171</td>\n",
              "      <td>7.2500</td>\n",
              "      <td>NaN</td>\n",
              "      <td>S</td>\n",
              "      <td>Mr.</td>\n",
              "      <td>23</td>\n",
              "      <td>Couple</td>\n",
              "    </tr>\n",
              "    <tr>\n",
              "      <th>1</th>\n",
              "      <td>2</td>\n",
              "      <td>1</td>\n",
              "      <td>1</td>\n",
              "      <td>Cumings, Mrs. John Bradley (Florence Briggs Th...</td>\n",
              "      <td>female</td>\n",
              "      <td>38.0</td>\n",
              "      <td>1</td>\n",
              "      <td>0</td>\n",
              "      <td>PC 17599</td>\n",
              "      <td>71.2833</td>\n",
              "      <td>C85</td>\n",
              "      <td>C</td>\n",
              "      <td>Mrs.</td>\n",
              "      <td>51</td>\n",
              "      <td>Couple</td>\n",
              "    </tr>\n",
              "    <tr>\n",
              "      <th>2</th>\n",
              "      <td>3</td>\n",
              "      <td>1</td>\n",
              "      <td>3</td>\n",
              "      <td>Heikkinen, Miss. Laina</td>\n",
              "      <td>female</td>\n",
              "      <td>26.0</td>\n",
              "      <td>0</td>\n",
              "      <td>0</td>\n",
              "      <td>STON/O2. 3101282</td>\n",
              "      <td>7.9250</td>\n",
              "      <td>NaN</td>\n",
              "      <td>S</td>\n",
              "      <td>Miss.</td>\n",
              "      <td>22</td>\n",
              "      <td>Single</td>\n",
              "    </tr>\n",
              "    <tr>\n",
              "      <th>3</th>\n",
              "      <td>4</td>\n",
              "      <td>1</td>\n",
              "      <td>1</td>\n",
              "      <td>Futrelle, Mrs. Jacques Heath (Lily May Peel)</td>\n",
              "      <td>female</td>\n",
              "      <td>35.0</td>\n",
              "      <td>1</td>\n",
              "      <td>0</td>\n",
              "      <td>113803</td>\n",
              "      <td>53.1000</td>\n",
              "      <td>C123</td>\n",
              "      <td>S</td>\n",
              "      <td>Mrs.</td>\n",
              "      <td>44</td>\n",
              "      <td>Couple</td>\n",
              "    </tr>\n",
              "    <tr>\n",
              "      <th>4</th>\n",
              "      <td>5</td>\n",
              "      <td>0</td>\n",
              "      <td>3</td>\n",
              "      <td>Allen, Mr. William Henry</td>\n",
              "      <td>male</td>\n",
              "      <td>35.0</td>\n",
              "      <td>0</td>\n",
              "      <td>0</td>\n",
              "      <td>373450</td>\n",
              "      <td>8.0500</td>\n",
              "      <td>NaN</td>\n",
              "      <td>S</td>\n",
              "      <td>Mr.</td>\n",
              "      <td>24</td>\n",
              "      <td>Single</td>\n",
              "    </tr>\n",
              "  </tbody>\n",
              "</table>\n",
              "</div>"
            ],
            "text/plain": [
              "   PassengerId  Survived  Pclass  \\\n",
              "0            1         0       3   \n",
              "1            2         1       1   \n",
              "2            3         1       3   \n",
              "3            4         1       1   \n",
              "4            5         0       3   \n",
              "\n",
              "                                                Name     Sex   Age  SibSp  \\\n",
              "0                            Braund, Mr. Owen Harris    male  22.0      1   \n",
              "1  Cumings, Mrs. John Bradley (Florence Briggs Th...  female  38.0      1   \n",
              "2                             Heikkinen, Miss. Laina  female  26.0      0   \n",
              "3       Futrelle, Mrs. Jacques Heath (Lily May Peel)  female  35.0      1   \n",
              "4                           Allen, Mr. William Henry    male  35.0      0   \n",
              "\n",
              "   Parch            Ticket     Fare Cabin Embarked  Title  NameLength FamilyS  \n",
              "0      0         A/5 21171   7.2500   NaN        S    Mr.          23  Couple  \n",
              "1      0          PC 17599  71.2833   C85        C   Mrs.          51  Couple  \n",
              "2      0  STON/O2. 3101282   7.9250   NaN        S  Miss.          22  Single  \n",
              "3      0            113803  53.1000  C123        S   Mrs.          44  Couple  \n",
              "4      0            373450   8.0500   NaN        S    Mr.          24  Single  "
            ]
          },
          "metadata": {
            "tags": []
          },
          "execution_count": 67
        }
      ]
    },
    {
      "metadata": {
        "id": "PKz107Q3XsSL",
        "colab_type": "code",
        "colab": {}
      },
      "cell_type": "code",
      "source": [
        "dep_var = 'Survived'\n",
        "cat_names = ['Pclass', 'Sex', 'Embarked', 'Title', 'FamilyS']\n",
        "cont_names = ['Age', 'Fare', 'SibSp', 'Parch', 'NameLength']\n",
        "procs = [FillMissing, Categorify, Normalize]\n",
        "test_data = (TabularList.from_df(test, path='.', cat_names=cat_names, cont_names=cont_names, procs=procs))\n",
        "\n"
      ],
      "execution_count": 0,
      "outputs": []
    },
    {
      "metadata": {
        "id": "r2P_Y1Ipd_k5",
        "colab_type": "code",
        "colab": {}
      },
      "cell_type": "code",
      "source": [
        "\n",
        "data = (TabularList.from_df(train, path='.', cat_names=cat_names, cont_names=cont_names, procs=procs)\n",
        "                           .split_by_idx(list(range(0,200)))\n",
        "                           .label_from_df(cols=dep_var)\n",
        "                           .add_test(test_data, label=0)\n",
        "                           .databunch())"
      ],
      "execution_count": 0,
      "outputs": []
    },
    {
      "metadata": {
        "id": "En78trmC5nPS",
        "colab_type": "code",
        "colab": {
          "base_uri": "https://localhost:8080/",
          "height": 142
        },
        "outputId": "873ee82d-e2c7-4697-ab13-ed6bd851b9e0"
      },
      "cell_type": "code",
      "source": [
        "#Shows the Data\n",
        "data.show_batch()"
      ],
      "execution_count": 70,
      "outputs": [
        {
          "output_type": "display_data",
          "data": {
            "text/html": [
              "<table>  <col width='10%'>  <col width='10%'>  <col width='10%'>  <col width='10%'>  <col width='10%'>  <col width='10%'>  <col width='10%'>  <col width='10%'>  <col width='10%'>  <col width='10%'>  <col width='10%'>  <tr>\n",
              "    <th>Pclass</th>\n",
              "    <th>Sex</th>\n",
              "    <th>Embarked</th>\n",
              "    <th>Title</th>\n",
              "    <th>FamilyS</th>\n",
              "    <th>Age</th>\n",
              "    <th>Fare</th>\n",
              "    <th>SibSp</th>\n",
              "    <th>Parch</th>\n",
              "    <th>NameLength</th>\n",
              "    <th>target</th>\n",
              "  </tr>\n",
              "  <tr>\n",
              "    <th>1</th>\n",
              "    <th>female</th>\n",
              "    <th>C</th>\n",
              "    <th>Miss.</th>\n",
              "    <th>Single</th>\n",
              "    <th>-0.1366</th>\n",
              "    <th>1.4643</th>\n",
              "    <th>-0.4610</th>\n",
              "    <th>-0.4658</th>\n",
              "    <th>-0.4163</th>\n",
              "    <th>1</th>\n",
              "  </tr>\n",
              "  <tr>\n",
              "    <th>3</th>\n",
              "    <th>female</th>\n",
              "    <th>S</th>\n",
              "    <th>Mrs.</th>\n",
              "    <th>Large</th>\n",
              "    <th>0.7213</th>\n",
              "    <th>-0.0433</th>\n",
              "    <th>0.5043</th>\n",
              "    <th>5.8949</th>\n",
              "    <th>3.2484</th>\n",
              "    <th>0</th>\n",
              "  </tr>\n",
              "  <tr>\n",
              "    <th>3</th>\n",
              "    <th>male</th>\n",
              "    <th>S</th>\n",
              "    <th>Mr.</th>\n",
              "    <th>Large</th>\n",
              "    <th>-0.1366</th>\n",
              "    <th>0.6815</th>\n",
              "    <th>7.2619</th>\n",
              "    <th>2.0785</th>\n",
              "    <th>-0.3085</th>\n",
              "    <th>0</th>\n",
              "  </tr>\n",
              "  <tr>\n",
              "    <th>1</th>\n",
              "    <th>male</th>\n",
              "    <th>S</th>\n",
              "    <th>Mr.</th>\n",
              "    <th>Couple</th>\n",
              "    <th>0.4873</th>\n",
              "    <th>0.8577</th>\n",
              "    <th>0.5043</th>\n",
              "    <th>-0.4658</th>\n",
              "    <th>0.2304</th>\n",
              "    <th>0</th>\n",
              "  </tr>\n",
              "  <tr>\n",
              "    <th>3</th>\n",
              "    <th>male</th>\n",
              "    <th>S</th>\n",
              "    <th>Mr.</th>\n",
              "    <th>Single</th>\n",
              "    <th>-0.3706</th>\n",
              "    <th>-0.5020</th>\n",
              "    <th>-0.4610</th>\n",
              "    <th>-0.4658</th>\n",
              "    <th>-0.5241</th>\n",
              "    <th>0</th>\n",
              "  </tr>\n",
              "</table>\n"
            ],
            "text/plain": [
              "<IPython.core.display.HTML object>"
            ]
          },
          "metadata": {
            "tags": []
          }
        }
      ]
    },
    {
      "metadata": {
        "id": "eYUUnFGE54qO",
        "colab_type": "code",
        "colab": {
          "base_uri": "https://localhost:8080/",
          "height": 218
        },
        "outputId": "4238dba0-3d91-48e0-a5ac-a3b07022215a"
      },
      "cell_type": "code",
      "source": [
        "#Define our Learner\n",
        "learn = tabular_learner(data, layers=[300,100], metrics=accuracy)\n",
        "#fit the learner\n",
        "learn.fit(7, 1e-2)  #Number of epocs and the learning rate. learn.save('final_train')"
      ],
      "execution_count": 71,
      "outputs": [
        {
          "output_type": "display_data",
          "data": {
            "text/html": [
              "Total time: 00:04 <p><table style='width:300px; margin-bottom:10px'>\n",
              "  <tr>\n",
              "    <th>epoch</th>\n",
              "    <th>train_loss</th>\n",
              "    <th>valid_loss</th>\n",
              "    <th>accuracy</th>\n",
              "  </tr>\n",
              "  <tr>\n",
              "    <th>1</th>\n",
              "    <th>0.616099</th>\n",
              "    <th>0.580075</th>\n",
              "    <th>0.735000</th>\n",
              "  </tr>\n",
              "  <tr>\n",
              "    <th>2</th>\n",
              "    <th>0.523964</th>\n",
              "    <th>0.470934</th>\n",
              "    <th>0.775000</th>\n",
              "  </tr>\n",
              "  <tr>\n",
              "    <th>3</th>\n",
              "    <th>0.477717</th>\n",
              "    <th>0.444212</th>\n",
              "    <th>0.795000</th>\n",
              "  </tr>\n",
              "  <tr>\n",
              "    <th>4</th>\n",
              "    <th>0.445426</th>\n",
              "    <th>0.419657</th>\n",
              "    <th>0.830000</th>\n",
              "  </tr>\n",
              "  <tr>\n",
              "    <th>5</th>\n",
              "    <th>0.424187</th>\n",
              "    <th>0.438970</th>\n",
              "    <th>0.800000</th>\n",
              "  </tr>\n",
              "  <tr>\n",
              "    <th>6</th>\n",
              "    <th>0.411238</th>\n",
              "    <th>0.394977</th>\n",
              "    <th>0.855000</th>\n",
              "  </tr>\n",
              "  <tr>\n",
              "    <th>7</th>\n",
              "    <th>0.398757</th>\n",
              "    <th>0.422902</th>\n",
              "    <th>0.810000</th>\n",
              "  </tr>\n",
              "  <tr>\n",
              "\n",
              "  </tr>\n",
              "</table>\n"
            ],
            "text/plain": [
              "<IPython.core.display.HTML object>"
            ]
          },
          "metadata": {
            "tags": []
          }
        }
      ]
    },
    {
      "metadata": {
        "id": "HrKFzLnGdTfN",
        "colab_type": "code",
        "colab": {
          "base_uri": "https://localhost:8080/",
          "height": 142
        },
        "outputId": "c70ec069-a8ab-4a39-dbf1-5a7c5dfb528a"
      },
      "cell_type": "code",
      "source": [
        "#Show the results\n",
        "learn.show_results()"
      ],
      "execution_count": 72,
      "outputs": [
        {
          "output_type": "display_data",
          "data": {
            "text/html": [
              "<table>  <col width='10%'>  <col width='10%'>  <col width='10%'>  <col width='10%'>  <col width='10%'>  <col width='10%'>  <col width='10%'>  <col width='10%'>  <col width='10%'>  <col width='10%'>  <col width='10%'>  <col width='10%'>  <tr>\n",
              "    <th>Pclass</th>\n",
              "    <th>Sex</th>\n",
              "    <th>Embarked</th>\n",
              "    <th>Title</th>\n",
              "    <th>FamilyS</th>\n",
              "    <th>Age</th>\n",
              "    <th>Fare</th>\n",
              "    <th>SibSp</th>\n",
              "    <th>Parch</th>\n",
              "    <th>NameLength</th>\n",
              "    <th>target</th>\n",
              "    <th>prediction</th>\n",
              "  </tr>\n",
              "  <tr>\n",
              "    <th>3</th>\n",
              "    <th>male</th>\n",
              "    <th>S</th>\n",
              "    <th>Mr.</th>\n",
              "    <th>Couple</th>\n",
              "    <th>-0.6046</th>\n",
              "    <th>-0.4982</th>\n",
              "    <th>0.5043</th>\n",
              "    <th>-0.4658</th>\n",
              "    <th>-0.4163</th>\n",
              "    <th>0</th>\n",
              "    <th>0</th>\n",
              "  </tr>\n",
              "  <tr>\n",
              "    <th>1</th>\n",
              "    <th>female</th>\n",
              "    <th>C</th>\n",
              "    <th>Mrs.</th>\n",
              "    <th>Couple</th>\n",
              "    <th>0.6433</th>\n",
              "    <th>0.7144</th>\n",
              "    <th>0.5043</th>\n",
              "    <th>-0.4658</th>\n",
              "    <th>2.6017</th>\n",
              "    <th>1</th>\n",
              "    <th>1</th>\n",
              "  </tr>\n",
              "  <tr>\n",
              "    <th>3</th>\n",
              "    <th>female</th>\n",
              "    <th>S</th>\n",
              "    <th>Miss.</th>\n",
              "    <th>Single</th>\n",
              "    <th>-0.2926</th>\n",
              "    <th>-0.4855</th>\n",
              "    <th>-0.4610</th>\n",
              "    <th>-0.4658</th>\n",
              "    <th>-0.5241</th>\n",
              "    <th>1</th>\n",
              "    <th>0</th>\n",
              "  </tr>\n",
              "  <tr>\n",
              "    <th>1</th>\n",
              "    <th>female</th>\n",
              "    <th>S</th>\n",
              "    <th>Mrs.</th>\n",
              "    <th>Couple</th>\n",
              "    <th>0.4093</th>\n",
              "    <th>0.3700</th>\n",
              "    <th>0.5043</th>\n",
              "    <th>-0.4658</th>\n",
              "    <th>1.8472</th>\n",
              "    <th>1</th>\n",
              "    <th>1</th>\n",
              "  </tr>\n",
              "  <tr>\n",
              "    <th>3</th>\n",
              "    <th>male</th>\n",
              "    <th>S</th>\n",
              "    <th>Mr.</th>\n",
              "    <th>Single</th>\n",
              "    <th>0.4093</th>\n",
              "    <th>-0.4831</th>\n",
              "    <th>-0.4610</th>\n",
              "    <th>-0.4658</th>\n",
              "    <th>-0.3085</th>\n",
              "    <th>0</th>\n",
              "    <th>0</th>\n",
              "  </tr>\n",
              "</table>\n"
            ],
            "text/plain": [
              "<IPython.core.display.HTML object>"
            ]
          },
          "metadata": {
            "tags": []
          }
        }
      ]
    },
    {
      "metadata": {
        "id": "uC533fQw8i3L",
        "colab_type": "code",
        "colab": {
          "base_uri": "https://localhost:8080/",
          "height": 34
        },
        "outputId": "9bf4d85e-9f94-4749-a3db-45d15732f028"
      },
      "cell_type": "code",
      "source": [
        "#This will get predictions\n",
        "predictions, *_ = learn.get_preds(DatasetType.Test)\n",
        "labels = to_np(np.argmax(predictions, 1))\n",
        "labels.shape\n",
        "\n",
        "\n"
      ],
      "execution_count": 73,
      "outputs": [
        {
          "output_type": "execute_result",
          "data": {
            "text/plain": [
              "(418,)"
            ]
          },
          "metadata": {
            "tags": []
          },
          "execution_count": 73
        }
      ]
    },
    {
      "metadata": {
        "id": "7RpqfVNCa0V8",
        "colab_type": "code",
        "colab": {}
      },
      "cell_type": "code",
      "source": [
        "#Writing to File\n",
        "submission=pd.DataFrame(test.loc[:,['PassengerId']])\n",
        "submission['Survived']=labels\n",
        "#Any files you save will be available in the output tab below\n",
        "\n",
        "submission.to_csv('submission.csv', index=False)"
      ],
      "execution_count": 0,
      "outputs": []
    },
    {
      "metadata": {
        "id": "jGcsZ5ktaa-J",
        "colab_type": "code",
        "colab": {}
      },
      "cell_type": "code",
      "source": [
        "from google.colab import files\n",
        "files.download('submission.csv')"
      ],
      "execution_count": 0,
      "outputs": []
    }
  ]
}